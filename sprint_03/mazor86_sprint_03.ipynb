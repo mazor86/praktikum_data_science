{
 "cells": [
  {
   "cell_type": "markdown",
   "metadata": {
    "toc": true
   },
   "source": [
    "<h1>Содержание<span class=\"tocSkip\"></span></h1>\n",
    "<div class=\"toc\"><ul class=\"toc-item\"><li><span><a href=\"#Шаг-1.-Откройте-файл-с-данными-и-изучите-общую-информацию\" data-toc-modified-id=\"Шаг-1.-Откройте-файл-с-данными-и-изучите-общую-информацию-1\"><span class=\"toc-item-num\">1&nbsp;&nbsp;</span>Шаг 1. Откройте файл с данными и изучите общую информацию</a></span></li><li><span><a href=\"#Шаг-2.-Предобработка-данных\" data-toc-modified-id=\"Шаг-2.-Предобработка-данных-2\"><span class=\"toc-item-num\">2&nbsp;&nbsp;</span>Шаг 2. Предобработка данных</a></span><ul class=\"toc-item\"><li><span><a href=\"#Обработка-пропусков\" data-toc-modified-id=\"Обработка-пропусков-2.1\"><span class=\"toc-item-num\">2.1&nbsp;&nbsp;</span>Обработка пропусков</a></span></li><li><span><a href=\"#Замена-типа-данных\" data-toc-modified-id=\"Замена-типа-данных-2.2\"><span class=\"toc-item-num\">2.2&nbsp;&nbsp;</span>Замена типа данных</a></span></li><li><span><a href=\"#Обработка-дубликатов\" data-toc-modified-id=\"Обработка-дубликатов-2.3\"><span class=\"toc-item-num\">2.3&nbsp;&nbsp;</span>Обработка дубликатов</a></span></li><li><span><a href=\"#Лемматизация\" data-toc-modified-id=\"Лемматизация-2.4\"><span class=\"toc-item-num\">2.4&nbsp;&nbsp;</span>Лемматизация</a></span></li><li><span><a href=\"#Категоризация-данных\" data-toc-modified-id=\"Категоризация-данных-2.5\"><span class=\"toc-item-num\">2.5&nbsp;&nbsp;</span>Категоризация данных</a></span></li></ul></li><li><span><a href=\"#Шаг-3.-Ответьте-на-вопросы\" data-toc-modified-id=\"Шаг-3.-Ответьте-на-вопросы-3\"><span class=\"toc-item-num\">3&nbsp;&nbsp;</span>Шаг 3. Ответьте на вопросы</a></span></li><li><span><a href=\"#Шаг-4.-Общий-вывод\" data-toc-modified-id=\"Шаг-4.-Общий-вывод-4\"><span class=\"toc-item-num\">4&nbsp;&nbsp;</span>Шаг 4. Общий вывод</a></span></li><li><span><a href=\"#Чек-лист-готовности-проекта\" data-toc-modified-id=\"Чек-лист-готовности-проекта-5\"><span class=\"toc-item-num\">5&nbsp;&nbsp;</span>Чек-лист готовности проекта</a></span></li></ul></div>"
   ]
  },
  {
   "cell_type": "markdown",
   "metadata": {},
   "source": [
    "# Исследование надёжности заёмщиков\n",
    "\n",
    "Заказчик — кредитный отдел банка. Нужно разобраться, влияет ли семейное положение и количество детей клиента на факт погашения кредита в срок. Входные данные от банка — статистика о платёжеспособности клиентов.\n",
    "\n",
    "Результаты исследования будут учтены при построении модели **кредитного скоринга** — специальной системы, которая оценивает способность потенциального заёмщика вернуть кредит банку."
   ]
  },
  {
   "cell_type": "markdown",
   "metadata": {},
   "source": [
    "## Шаг 1. Откройте файл с данными и изучите общую информацию"
   ]
  },
  {
   "cell_type": "code",
   "execution_count": 803,
   "outputs": [],
   "source": [
    "import pandas as pd\n",
    "\n",
    "from pymystem3 import Mystem\n",
    "from collections import Counter"
   ],
   "metadata": {
    "collapsed": false,
    "pycharm": {
     "name": "#%%\n"
    }
   }
  },
  {
   "cell_type": "code",
   "execution_count": 760,
   "metadata": {},
   "outputs": [
    {
     "name": "stdout",
     "output_type": "stream",
     "text": [
      "<class 'pandas.core.frame.DataFrame'>\n",
      "RangeIndex: 21525 entries, 0 to 21524\n",
      "Data columns (total 12 columns):\n",
      "children            21525 non-null int64\n",
      "days_employed       19351 non-null float64\n",
      "dob_years           21525 non-null int64\n",
      "education           21525 non-null object\n",
      "education_id        21525 non-null int64\n",
      "family_status       21525 non-null object\n",
      "family_status_id    21525 non-null int64\n",
      "gender              21525 non-null object\n",
      "income_type         21525 non-null object\n",
      "debt                21525 non-null int64\n",
      "total_income        19351 non-null float64\n",
      "purpose             21525 non-null object\n",
      "dtypes: float64(2), int64(5), object(5)\n",
      "memory usage: 2.0+ MB\n"
     ]
    },
    {
     "data": {
      "text/plain": "   children  days_employed  dob_years education  education_id  \\\n0         1   -8437.673028         42    высшее             0   \n1         1   -4024.803754         36   среднее             1   \n2         0   -5623.422610         33   Среднее             1   \n3         3   -4124.747207         32   среднее             1   \n4         0  340266.072047         53   среднее             1   \n5         0    -926.185831         27    высшее             0   \n6         0   -2879.202052         43    высшее             0   \n7         0    -152.779569         50   СРЕДНЕЕ             1   \n8         2   -6929.865299         35    ВЫСШЕЕ             0   \n9         0   -2188.756445         41   среднее             1   \n\n      family_status  family_status_id gender income_type  debt   total_income  \\\n0   женат / замужем                 0      F   сотрудник     0  253875.639453   \n1   женат / замужем                 0      F   сотрудник     0  112080.014102   \n2   женат / замужем                 0      M   сотрудник     0  145885.952297   \n3   женат / замужем                 0      M   сотрудник     0  267628.550329   \n4  гражданский брак                 1      F   пенсионер     0  158616.077870   \n5  гражданский брак                 1      M   компаньон     0  255763.565419   \n6   женат / замужем                 0      F   компаньон     0  240525.971920   \n7   женат / замужем                 0      M   сотрудник     0  135823.934197   \n8  гражданский брак                 1      F   сотрудник     0   95856.832424   \n9   женат / замужем                 0      M   сотрудник     0  144425.938277   \n\n                      purpose  \n0               покупка жилья  \n1     приобретение автомобиля  \n2               покупка жилья  \n3  дополнительное образование  \n4             сыграть свадьбу  \n5               покупка жилья  \n6           операции с жильем  \n7                 образование  \n8       на проведение свадьбы  \n9     покупка жилья для семьи  ",
      "text/html": "<div>\n<style scoped>\n    .dataframe tbody tr th:only-of-type {\n        vertical-align: middle;\n    }\n\n    .dataframe tbody tr th {\n        vertical-align: top;\n    }\n\n    .dataframe thead th {\n        text-align: right;\n    }\n</style>\n<table border=\"1\" class=\"dataframe\">\n  <thead>\n    <tr style=\"text-align: right;\">\n      <th></th>\n      <th>children</th>\n      <th>days_employed</th>\n      <th>dob_years</th>\n      <th>education</th>\n      <th>education_id</th>\n      <th>family_status</th>\n      <th>family_status_id</th>\n      <th>gender</th>\n      <th>income_type</th>\n      <th>debt</th>\n      <th>total_income</th>\n      <th>purpose</th>\n    </tr>\n  </thead>\n  <tbody>\n    <tr>\n      <td>0</td>\n      <td>1</td>\n      <td>-8437.673028</td>\n      <td>42</td>\n      <td>высшее</td>\n      <td>0</td>\n      <td>женат / замужем</td>\n      <td>0</td>\n      <td>F</td>\n      <td>сотрудник</td>\n      <td>0</td>\n      <td>253875.639453</td>\n      <td>покупка жилья</td>\n    </tr>\n    <tr>\n      <td>1</td>\n      <td>1</td>\n      <td>-4024.803754</td>\n      <td>36</td>\n      <td>среднее</td>\n      <td>1</td>\n      <td>женат / замужем</td>\n      <td>0</td>\n      <td>F</td>\n      <td>сотрудник</td>\n      <td>0</td>\n      <td>112080.014102</td>\n      <td>приобретение автомобиля</td>\n    </tr>\n    <tr>\n      <td>2</td>\n      <td>0</td>\n      <td>-5623.422610</td>\n      <td>33</td>\n      <td>Среднее</td>\n      <td>1</td>\n      <td>женат / замужем</td>\n      <td>0</td>\n      <td>M</td>\n      <td>сотрудник</td>\n      <td>0</td>\n      <td>145885.952297</td>\n      <td>покупка жилья</td>\n    </tr>\n    <tr>\n      <td>3</td>\n      <td>3</td>\n      <td>-4124.747207</td>\n      <td>32</td>\n      <td>среднее</td>\n      <td>1</td>\n      <td>женат / замужем</td>\n      <td>0</td>\n      <td>M</td>\n      <td>сотрудник</td>\n      <td>0</td>\n      <td>267628.550329</td>\n      <td>дополнительное образование</td>\n    </tr>\n    <tr>\n      <td>4</td>\n      <td>0</td>\n      <td>340266.072047</td>\n      <td>53</td>\n      <td>среднее</td>\n      <td>1</td>\n      <td>гражданский брак</td>\n      <td>1</td>\n      <td>F</td>\n      <td>пенсионер</td>\n      <td>0</td>\n      <td>158616.077870</td>\n      <td>сыграть свадьбу</td>\n    </tr>\n    <tr>\n      <td>5</td>\n      <td>0</td>\n      <td>-926.185831</td>\n      <td>27</td>\n      <td>высшее</td>\n      <td>0</td>\n      <td>гражданский брак</td>\n      <td>1</td>\n      <td>M</td>\n      <td>компаньон</td>\n      <td>0</td>\n      <td>255763.565419</td>\n      <td>покупка жилья</td>\n    </tr>\n    <tr>\n      <td>6</td>\n      <td>0</td>\n      <td>-2879.202052</td>\n      <td>43</td>\n      <td>высшее</td>\n      <td>0</td>\n      <td>женат / замужем</td>\n      <td>0</td>\n      <td>F</td>\n      <td>компаньон</td>\n      <td>0</td>\n      <td>240525.971920</td>\n      <td>операции с жильем</td>\n    </tr>\n    <tr>\n      <td>7</td>\n      <td>0</td>\n      <td>-152.779569</td>\n      <td>50</td>\n      <td>СРЕДНЕЕ</td>\n      <td>1</td>\n      <td>женат / замужем</td>\n      <td>0</td>\n      <td>M</td>\n      <td>сотрудник</td>\n      <td>0</td>\n      <td>135823.934197</td>\n      <td>образование</td>\n    </tr>\n    <tr>\n      <td>8</td>\n      <td>2</td>\n      <td>-6929.865299</td>\n      <td>35</td>\n      <td>ВЫСШЕЕ</td>\n      <td>0</td>\n      <td>гражданский брак</td>\n      <td>1</td>\n      <td>F</td>\n      <td>сотрудник</td>\n      <td>0</td>\n      <td>95856.832424</td>\n      <td>на проведение свадьбы</td>\n    </tr>\n    <tr>\n      <td>9</td>\n      <td>0</td>\n      <td>-2188.756445</td>\n      <td>41</td>\n      <td>среднее</td>\n      <td>1</td>\n      <td>женат / замужем</td>\n      <td>0</td>\n      <td>M</td>\n      <td>сотрудник</td>\n      <td>0</td>\n      <td>144425.938277</td>\n      <td>покупка жилья для семьи</td>\n    </tr>\n  </tbody>\n</table>\n</div>"
     },
     "metadata": {},
     "output_type": "display_data"
    }
   ],
   "source": [
    "try:\n",
    "    data = pd.read_csv('/datasets/data.csv')\n",
    "except FileNotFoundError:\n",
    "    data = pd.read_csv('data.csv')\n",
    "\n",
    "data.info()\n",
    "display(data.head(10))"
   ]
  },
  {
   "cell_type": "markdown",
   "metadata": {},
   "source": [
    "**Вывод**"
   ]
  },
  {
   "cell_type": "markdown",
   "metadata": {},
   "source": [
    "Первичный анализ показывает, что в данных имеются проблемы, которые требуют предобработки:\n",
    "- пропуски (столбцы `days_employed` и `total_income`)\n",
    "- ошибки в данных (`days_employed` содержит вещественные числа, хотя по описанию должны быть целые, кроме того встречаются как отрицательные, так и положительные значения)\n",
    "- есть неявные дубликаты (`education` содержит одинаковые строки в разном регистре)\n",
    "\n",
    "Требуется более глубокий анализ, чтобы проверить наличие других ошибок в данных."
   ]
  },
  {
   "cell_type": "markdown",
   "metadata": {},
   "source": [
    "## Шаг 2. Предобработка данных"
   ]
  },
  {
   "cell_type": "markdown",
   "metadata": {},
   "source": [
    "### Обработка пропусков"
   ]
  },
  {
   "cell_type": "markdown",
   "source": [
    "Согласно первоначальному анализу, пропуски есть в стобцах `day_employed` и `total_income`. Кроме того, количество пропусков в обоих столбцах совпадает. Проверим гипотезу, что пропуски наблюдаются одновременно в обоих столбцах."
   ],
   "metadata": {
    "collapsed": false,
    "pycharm": {
     "name": "#%% md\n"
    }
   }
  },
  {
   "cell_type": "code",
   "execution_count": 761,
   "metadata": {},
   "outputs": [
    {
     "name": "stdout",
     "output_type": "stream",
     "text": [
      "Количество пропусков в столце \"days_emploeyed\": 2174\n",
      "Количество пропусков в столце \"total_income\": 2174\n",
      "Количество пропусков одновременно в обоих столбцах: 2174\n"
     ]
    }
   ],
   "source": [
    "print(f'Количество пропусков в столце \"days_emploeyed\": {len(data[data[\"days_employed\"].isna()])}')\n",
    "print(f'Количество пропусков в столце \"total_income\": {len(data[data[\"total_income\"].isna()])}')\n",
    "print(f\"Количество пропусков одновременно в обоих столбцах:\", end=' ')\n",
    "print(len(data[data['days_employed'].isna() & data['total_income'].isna()]))\n"
   ]
  },
  {
   "cell_type": "markdown",
   "source": [
    "Действительно, гипотеза подтвердилась и пропуски наблюдаются одновременно в обоих стобцах. Вероятнее всего пропуски связаны со сбоем в выгрузке данных."
   ],
   "metadata": {
    "collapsed": false,
    "pycharm": {
     "name": "#%% md\n"
    }
   }
  },
  {
   "cell_type": "markdown",
   "source": [
    "Посмотрим внимательно на столбец `days_emploed`. Из описания таблицы следует, что здесь записан трудовой стаж в днях."
   ],
   "metadata": {
    "collapsed": false,
    "pycharm": {
     "name": "#%% md\n"
    }
   }
  },
  {
   "cell_type": "code",
   "execution_count": 762,
   "outputs": [
    {
     "data": {
      "text/plain": "0      -8437.673028\n1      -4024.803754\n2      -5623.422610\n3      -4124.747207\n4     340266.072047\n5       -926.185831\n6      -2879.202052\n7       -152.779569\n8      -6929.865299\n9      -2188.756445\n10     -4171.483647\n11      -792.701887\n12              NaN\n13     -1846.641941\n14     -1844.956182\n15      -972.364419\n16     -1719.934226\n17     -2369.999720\n18    400281.136913\n19    -10038.818549\nName: days_employed, dtype: float64"
     },
     "execution_count": 762,
     "metadata": {},
     "output_type": "execute_result"
    }
   ],
   "source": [
    "data['days_employed'].head(20)"
   ],
   "metadata": {
    "collapsed": false,
    "pycharm": {
     "name": "#%%\n"
    }
   }
  },
  {
   "cell_type": "markdown",
   "metadata": {},
   "source": [
    "В столбце крайне странные значения. Во-первых, тип данных `float`, стоило ожидать, что трудовой стаж в днях должен быть целым положительным числом. Во-вторых, встречаются отрицательные числа в большом количестве. В-третьих, положительные числа очень большие например в строке с индексом 4 указан стаж более 340 тысяч дней, а это более 900 лет.\n",
    "Что ж, кажется данные в столбце `days_employed` полностью некачественные и ими нельзя пользоваться. Кроме того, в нашем исследовании данные о трудовом стаже не требуются. Поэтому, думаю, мы может просто избавиться от этого стобца."
   ]
  },
  {
   "cell_type": "code",
   "execution_count": 763,
   "outputs": [
    {
     "name": "stdout",
     "output_type": "stream",
     "text": [
      "<class 'pandas.core.frame.DataFrame'>\n",
      "RangeIndex: 21525 entries, 0 to 21524\n",
      "Data columns (total 11 columns):\n",
      "children            21525 non-null int64\n",
      "dob_years           21525 non-null int64\n",
      "education           21525 non-null object\n",
      "education_id        21525 non-null int64\n",
      "family_status       21525 non-null object\n",
      "family_status_id    21525 non-null int64\n",
      "gender              21525 non-null object\n",
      "income_type         21525 non-null object\n",
      "debt                21525 non-null int64\n",
      "total_income        19351 non-null float64\n",
      "purpose             21525 non-null object\n",
      "dtypes: float64(1), int64(5), object(5)\n",
      "memory usage: 1.8+ MB\n"
     ]
    }
   ],
   "source": [
    "data = data.drop(columns=['days_employed'])\n",
    "data.info()"
   ],
   "metadata": {
    "collapsed": false,
    "pycharm": {
     "name": "#%%\n"
    }
   }
  },
  {
   "cell_type": "markdown",
   "source": [
    "Теперь разберемся со стобцом `total_income`, в котором хранятся данные о доходе в месяц."
   ],
   "metadata": {
    "collapsed": false,
    "pycharm": {
     "name": "#%% md\n"
    }
   }
  },
  {
   "cell_type": "code",
   "execution_count": 764,
   "outputs": [
    {
     "data": {
      "text/plain": "0    253875.639453\n1    112080.014102\n2    145885.952297\n3    267628.550329\n4    158616.077870\n5    255763.565419\n6    240525.971920\n7    135823.934197\n8     95856.832424\n9    144425.938277\nName: total_income, dtype: float64"
     },
     "metadata": {},
     "output_type": "display_data"
    },
    {
     "name": "stdout",
     "output_type": "stream",
     "text": [
      "Минимальный доход: 20667.26379327158\n",
      "Максимальный доход: 2265604.028722744\n"
     ]
    }
   ],
   "source": [
    "display(data['total_income'].head(10))\n",
    "print('Минимальный доход:', data['total_income'].min())\n",
    "print('Максимальный доход:', data['total_income'].max())"
   ],
   "metadata": {
    "collapsed": false,
    "pycharm": {
     "name": "#%%\n"
    }
   }
  },
  {
   "cell_type": "markdown",
   "source": [
    "Наверно немного смущает сам размер месячного дохода, в России редко увидишь такие зарплаты. Но вообще у нас нет данных о том, о какой стране и валюте идет речь.\n",
    "Проблема заполнения пропусков типичным значением (средним арифмитическим или медианой) заключается в том, что один из заданных нам вопросов связан с влиянием дохода на возврат кредита. Объем пропущенных значений - около 10% от данных. С другой стороны, терять 10% данных, удалив эти строки, тоже не хочется, потому что в других столбцах этих строк данные полные. Применим такой подход - заполним пропущенные значения нулем. Так мы сможем при анализе зависимости возврата кредита от дохода отфильтровать значения, которые нам неизвестны. При этом для анализа других столбцов у нас будет больше данных."
   ],
   "metadata": {
    "collapsed": false,
    "pycharm": {
     "name": "#%% md\n"
    }
   }
  },
  {
   "cell_type": "code",
   "execution_count": 765,
   "outputs": [
    {
     "name": "stdout",
     "output_type": "stream",
     "text": [
      "<class 'pandas.core.frame.DataFrame'>\n",
      "RangeIndex: 21525 entries, 0 to 21524\n",
      "Data columns (total 11 columns):\n",
      "children            21525 non-null int64\n",
      "dob_years           21525 non-null int64\n",
      "education           21525 non-null object\n",
      "education_id        21525 non-null int64\n",
      "family_status       21525 non-null object\n",
      "family_status_id    21525 non-null int64\n",
      "gender              21525 non-null object\n",
      "income_type         21525 non-null object\n",
      "debt                21525 non-null int64\n",
      "total_income        21525 non-null float64\n",
      "purpose             21525 non-null object\n",
      "dtypes: float64(1), int64(5), object(5)\n",
      "memory usage: 1.8+ MB\n"
     ]
    }
   ],
   "source": [
    "data['total_income'] = data['total_income'].fillna(0)\n",
    "data.info()"
   ],
   "metadata": {
    "collapsed": false,
    "pycharm": {
     "name": "#%%\n"
    }
   }
  },
  {
   "cell_type": "markdown",
   "source": [
    "Мы увидели, что столбец `day_employed` полностью состоял из \"грязных данных\". Посмотрим, есть ли похожие проблемы в других колонках."
   ],
   "metadata": {
    "collapsed": false,
    "pycharm": {
     "name": "#%% md\n"
    }
   }
  },
  {
   "cell_type": "code",
   "execution_count": 766,
   "outputs": [
    {
     "name": "stdout",
     "output_type": "stream",
     "text": [
      "Уникальные значения в стобце \"children\":\n",
      "[-1  0  1  2  3  4  5 20]\n",
      "\n",
      "Уникальные значения в стобце \"dob_years\":\n",
      "[ 0 19 20 21 22 23 24 25 26 27 28 29 30 31 32 33 34 35 36 37 38 39 40 41\n",
      " 42 43 44 45 46 47 48 49 50 51 52 53 54 55 56 57 58 59 60 61 62 63 64 65\n",
      " 66 67 68 69 70 71 72 73 74 75]\n",
      "\n",
      "Уникальные значения в стобце \"education\":\n",
      "['ВЫСШЕЕ' 'Высшее' 'НАЧАЛЬНОЕ' 'НЕОКОНЧЕННОЕ ВЫСШЕЕ' 'Начальное'\n",
      " 'Неоконченное высшее' 'СРЕДНЕЕ' 'Среднее' 'УЧЕНАЯ СТЕПЕНЬ'\n",
      " 'Ученая степень' 'высшее' 'начальное' 'неоконченное высшее' 'среднее'\n",
      " 'ученая степень']\n",
      "\n",
      "Уникальные значения в стобце \"education_id\":\n",
      "[0 1 2 3 4]\n",
      "\n",
      "Уникальные значения в стобце \"family_status\":\n",
      "['Не женат / не замужем' 'в разводе' 'вдовец / вдова' 'гражданский брак'\n",
      " 'женат / замужем']\n",
      "\n",
      "Уникальные значения в стобце \"family_status_id\":\n",
      "[0 1 2 3 4]\n",
      "\n",
      "Уникальные значения в стобце \"gender\":\n",
      "['F' 'M' 'XNA']\n",
      "\n",
      "Уникальные значения в стобце \"income_type\":\n",
      "['безработный' 'в декрете' 'госслужащий' 'компаньон' 'пенсионер'\n",
      " 'предприниматель' 'сотрудник' 'студент']\n",
      "\n",
      "Уникальные значения в стобце \"debt\":\n",
      "[0 1]\n",
      "\n",
      "Уникальные значения в стобце \"purpose\":\n",
      "['автомобили' 'автомобиль' 'высшее образование'\n",
      " 'дополнительное образование' 'жилье' 'заняться высшим образованием'\n",
      " 'заняться образованием' 'на покупку автомобиля'\n",
      " 'на покупку подержанного автомобиля' 'на покупку своего автомобиля'\n",
      " 'на проведение свадьбы' 'недвижимость' 'образование' 'операции с жильем'\n",
      " 'операции с коммерческой недвижимостью' 'операции с недвижимостью'\n",
      " 'операции со своей недвижимостью' 'покупка жилой недвижимости'\n",
      " 'покупка жилья' 'покупка жилья для сдачи' 'покупка жилья для семьи'\n",
      " 'покупка коммерческой недвижимости' 'покупка недвижимости'\n",
      " 'покупка своего жилья' 'получение высшего образования'\n",
      " 'получение дополнительного образования' 'получение образования'\n",
      " 'приобретение автомобиля' 'профильное образование' 'ремонт жилью'\n",
      " 'свадьба' 'свой автомобиль' 'сделка с автомобилем'\n",
      " 'сделка с подержанным автомобилем' 'строительство жилой недвижимости'\n",
      " 'строительство недвижимости' 'строительство собственной недвижимости'\n",
      " 'сыграть свадьбу']\n",
      "\n"
     ]
    }
   ],
   "source": [
    "for column in data:\n",
    "    if column != 'total_income':\n",
    "        print(f'Уникальные значения в стобце \"{column}\":')\n",
    "        print(data[column].sort_values().unique())\n",
    "        print()"
   ],
   "metadata": {
    "collapsed": false,
    "pycharm": {
     "name": "#%%\n"
    }
   }
  },
  {
   "cell_type": "markdown",
   "source": [
    "Очень странными выглядят значения -1 и 20 в стобце `children`, посмотрим на эти строки."
   ],
   "metadata": {
    "collapsed": false,
    "pycharm": {
     "name": "#%% md\n"
    }
   }
  },
  {
   "cell_type": "code",
   "execution_count": 767,
   "outputs": [
    {
     "data": {
      "text/plain": "       children  dob_years education  education_id     family_status  \\\n291          -1         46   среднее             1  гражданский брак   \n606          20         21   среднее             1   женат / замужем   \n705          -1         50   среднее             1   женат / замужем   \n720          20         44   среднее             1   женат / замужем   \n742          -1         57   среднее             1   женат / замужем   \n...         ...        ...       ...           ...               ...   \n21140        -1         44   среднее             1   женат / замужем   \n21325        20         37   среднее             1   женат / замужем   \n21390        20         53   среднее             1   женат / замужем   \n21404        20         52   среднее             1   женат / замужем   \n21491        20         27   среднее             1   женат / замужем   \n\n       family_status_id gender  income_type  debt   total_income  \\\n291                   1      F    сотрудник     0  102816.346412   \n606                   0      M    компаньон     0  145334.865002   \n705                   0      F  госслужащий     0  137882.899271   \n720                   0      F    компаньон     0  112998.738649   \n742                   0      F    сотрудник     0   64268.044444   \n...                 ...    ...          ...   ...            ...   \n21140                 0      F    компаньон     0  169562.091999   \n21325                 0      F    компаньон     0  102986.065978   \n21390                 0      M    компаньон     0       0.000000   \n21404                 0      M    компаньон     0  156629.683642   \n21491                 0      F    сотрудник     0  155520.899688   \n\n                                  purpose  \n291                профильное образование  \n606                         покупка жилья  \n705               приобретение автомобиля  \n720                  покупка недвижимости  \n742            дополнительное образование  \n...                                   ...  \n21140     операции со своей недвижимостью  \n21325              профильное образование  \n21390          покупка жилой недвижимости  \n21404     операции со своей недвижимостью  \n21491  на покупку подержанного автомобиля  \n\n[123 rows x 11 columns]",
      "text/html": "<div>\n<style scoped>\n    .dataframe tbody tr th:only-of-type {\n        vertical-align: middle;\n    }\n\n    .dataframe tbody tr th {\n        vertical-align: top;\n    }\n\n    .dataframe thead th {\n        text-align: right;\n    }\n</style>\n<table border=\"1\" class=\"dataframe\">\n  <thead>\n    <tr style=\"text-align: right;\">\n      <th></th>\n      <th>children</th>\n      <th>dob_years</th>\n      <th>education</th>\n      <th>education_id</th>\n      <th>family_status</th>\n      <th>family_status_id</th>\n      <th>gender</th>\n      <th>income_type</th>\n      <th>debt</th>\n      <th>total_income</th>\n      <th>purpose</th>\n    </tr>\n  </thead>\n  <tbody>\n    <tr>\n      <td>291</td>\n      <td>-1</td>\n      <td>46</td>\n      <td>среднее</td>\n      <td>1</td>\n      <td>гражданский брак</td>\n      <td>1</td>\n      <td>F</td>\n      <td>сотрудник</td>\n      <td>0</td>\n      <td>102816.346412</td>\n      <td>профильное образование</td>\n    </tr>\n    <tr>\n      <td>606</td>\n      <td>20</td>\n      <td>21</td>\n      <td>среднее</td>\n      <td>1</td>\n      <td>женат / замужем</td>\n      <td>0</td>\n      <td>M</td>\n      <td>компаньон</td>\n      <td>0</td>\n      <td>145334.865002</td>\n      <td>покупка жилья</td>\n    </tr>\n    <tr>\n      <td>705</td>\n      <td>-1</td>\n      <td>50</td>\n      <td>среднее</td>\n      <td>1</td>\n      <td>женат / замужем</td>\n      <td>0</td>\n      <td>F</td>\n      <td>госслужащий</td>\n      <td>0</td>\n      <td>137882.899271</td>\n      <td>приобретение автомобиля</td>\n    </tr>\n    <tr>\n      <td>720</td>\n      <td>20</td>\n      <td>44</td>\n      <td>среднее</td>\n      <td>1</td>\n      <td>женат / замужем</td>\n      <td>0</td>\n      <td>F</td>\n      <td>компаньон</td>\n      <td>0</td>\n      <td>112998.738649</td>\n      <td>покупка недвижимости</td>\n    </tr>\n    <tr>\n      <td>742</td>\n      <td>-1</td>\n      <td>57</td>\n      <td>среднее</td>\n      <td>1</td>\n      <td>женат / замужем</td>\n      <td>0</td>\n      <td>F</td>\n      <td>сотрудник</td>\n      <td>0</td>\n      <td>64268.044444</td>\n      <td>дополнительное образование</td>\n    </tr>\n    <tr>\n      <td>...</td>\n      <td>...</td>\n      <td>...</td>\n      <td>...</td>\n      <td>...</td>\n      <td>...</td>\n      <td>...</td>\n      <td>...</td>\n      <td>...</td>\n      <td>...</td>\n      <td>...</td>\n      <td>...</td>\n    </tr>\n    <tr>\n      <td>21140</td>\n      <td>-1</td>\n      <td>44</td>\n      <td>среднее</td>\n      <td>1</td>\n      <td>женат / замужем</td>\n      <td>0</td>\n      <td>F</td>\n      <td>компаньон</td>\n      <td>0</td>\n      <td>169562.091999</td>\n      <td>операции со своей недвижимостью</td>\n    </tr>\n    <tr>\n      <td>21325</td>\n      <td>20</td>\n      <td>37</td>\n      <td>среднее</td>\n      <td>1</td>\n      <td>женат / замужем</td>\n      <td>0</td>\n      <td>F</td>\n      <td>компаньон</td>\n      <td>0</td>\n      <td>102986.065978</td>\n      <td>профильное образование</td>\n    </tr>\n    <tr>\n      <td>21390</td>\n      <td>20</td>\n      <td>53</td>\n      <td>среднее</td>\n      <td>1</td>\n      <td>женат / замужем</td>\n      <td>0</td>\n      <td>M</td>\n      <td>компаньон</td>\n      <td>0</td>\n      <td>0.000000</td>\n      <td>покупка жилой недвижимости</td>\n    </tr>\n    <tr>\n      <td>21404</td>\n      <td>20</td>\n      <td>52</td>\n      <td>среднее</td>\n      <td>1</td>\n      <td>женат / замужем</td>\n      <td>0</td>\n      <td>M</td>\n      <td>компаньон</td>\n      <td>0</td>\n      <td>156629.683642</td>\n      <td>операции со своей недвижимостью</td>\n    </tr>\n    <tr>\n      <td>21491</td>\n      <td>20</td>\n      <td>27</td>\n      <td>среднее</td>\n      <td>1</td>\n      <td>женат / замужем</td>\n      <td>0</td>\n      <td>F</td>\n      <td>сотрудник</td>\n      <td>0</td>\n      <td>155520.899688</td>\n      <td>на покупку подержанного автомобиля</td>\n    </tr>\n  </tbody>\n</table>\n<p>123 rows × 11 columns</p>\n</div>"
     },
     "execution_count": 767,
     "metadata": {},
     "output_type": "execute_result"
    }
   ],
   "source": [
    "data[(data['children'] == -1) | (data['children'] == 20)]"
   ],
   "metadata": {
    "collapsed": false,
    "pycharm": {
     "name": "#%%\n"
    }
   }
  },
  {
   "cell_type": "markdown",
   "source": [
    "Таких строк оказалось 123. Почти наверняка ошибка - человеский фактор. Вероятнее всего нам следует -1 изменить на 1, а у 20 убрать 0, сделав 2:"
   ],
   "metadata": {
    "collapsed": false,
    "pycharm": {
     "name": "#%% md\n"
    }
   }
  },
  {
   "cell_type": "code",
   "execution_count": 768,
   "outputs": [
    {
     "name": "stdout",
     "output_type": "stream",
     "text": [
      "Уникальные значения \"children\": 0 1 2 3 4 5\n"
     ]
    }
   ],
   "source": [
    "data['children'].replace(20, 2, inplace=True)\n",
    "data['children'].replace(-1, 1, inplace=True)\n",
    "print(f'Уникальные значения \"children\":', *sorted(data[\"children\"].unique()))"
   ],
   "metadata": {
    "collapsed": false,
    "pycharm": {
     "name": "#%%\n"
    }
   }
  },
  {
   "cell_type": "markdown",
   "source": [
    "С детьми разобрались, двигаемся дальше."
   ],
   "metadata": {
    "collapsed": false,
    "pycharm": {
     "name": "#%% md\n"
    }
   }
  },
  {
   "cell_type": "markdown",
   "source": [
    "Есть явно ошибочное значение 0 в графе возраста заемщиков `dob_years`."
   ],
   "metadata": {
    "collapsed": false,
    "pycharm": {
     "name": "#%% md\n"
    }
   }
  },
  {
   "cell_type": "code",
   "execution_count": 769,
   "outputs": [
    {
     "name": "stdout",
     "output_type": "stream",
     "text": [
      "Количество строк с возрастом заемщика 0: 101\n"
     ]
    }
   ],
   "source": [
    "print(\"Количество строк с возрастом заемщика 0:\", len(data[data['dob_years'] == 0]))"
   ],
   "metadata": {
    "collapsed": false,
    "pycharm": {
     "name": "#%%\n"
    }
   }
  },
  {
   "cell_type": "markdown",
   "source": [
    "Нашлась 101 строка. Не так уж много на выборке более 21 тысячи.\n",
    "Тем не менее, чтобы не терять эти данные, которые в остальном кажутся нормальными, поменяем значение 0 на медианное."
   ],
   "metadata": {
    "collapsed": false,
    "pycharm": {
     "name": "#%% md\n"
    }
   }
  },
  {
   "cell_type": "code",
   "execution_count": 770,
   "outputs": [
    {
     "name": "stdout",
     "output_type": "stream",
     "text": [
      "Медианное значение возраста: 43\n"
     ]
    }
   ],
   "source": [
    "dob_years_median = int(data[data['dob_years'] != 0]['dob_years'].median())\n",
    "print(f'Медианное значение возраста: {dob_years_median}')"
   ],
   "metadata": {
    "collapsed": false,
    "pycharm": {
     "name": "#%%\n"
    }
   }
  },
  {
   "cell_type": "code",
   "source": [
    "data['dob_years'].replace(0, 43, inplace=True)"
   ],
   "metadata": {
    "collapsed": false,
    "pycharm": {
     "name": "#%%\n"
    }
   },
   "execution_count": 771,
   "outputs": []
  },
  {
   "cell_type": "markdown",
   "source": [
    "Переходим к стобцу `education`.\n",
    "Уникальные значения в стобце \"education\":\n",
    "['ВЫСШЕЕ' 'Высшее' 'НАЧАЛЬНОЕ' 'НЕОКОНЧЕННОЕ ВЫСШЕЕ' 'Начальное'\n",
    " 'Неоконченное высшее' 'СРЕДНЕЕ' 'Среднее' 'УЧЕНАЯ СТЕПЕНЬ'\n",
    " 'Ученая степень' 'высшее' 'начальное' 'неоконченное высшее' 'среднее'\n",
    " 'ученая степень']\n",
    "\n",
    "Здесь одинаковые типы уровня образования записаны в разном регистре. Лучшее решение - привести все буквы к строчным."
   ],
   "metadata": {
    "collapsed": false,
    "pycharm": {
     "name": "#%% md\n"
    }
   }
  },
  {
   "cell_type": "code",
   "execution_count": 772,
   "outputs": [
    {
     "data": {
      "text/plain": "среднее                15233\nвысшее                  5260\nнеоконченное высшее      744\nначальное                282\nученая степень             6\nName: education, dtype: int64"
     },
     "execution_count": 772,
     "metadata": {},
     "output_type": "execute_result"
    }
   ],
   "source": [
    "data['education'] = data['education'].str.lower()\n",
    "data['education'].value_counts()"
   ],
   "metadata": {
    "collapsed": false,
    "pycharm": {
     "name": "#%%\n"
    }
   }
  },
  {
   "cell_type": "markdown",
   "source": [
    "В стобце `gender` мы встретили странное значение `XNA` помимо ожидаемыеx `M` и `F`. Посмотрим на их количество."
   ],
   "metadata": {
    "collapsed": false,
    "pycharm": {
     "name": "#%% md\n"
    }
   }
  },
  {
   "cell_type": "code",
   "execution_count": 773,
   "outputs": [
    {
     "data": {
      "text/plain": "       children  dob_years            education  education_id  \\\n10701         0         24  неоконченное высшее             2   \n\n          family_status  family_status_id gender income_type  debt  \\\n10701  гражданский брак                 1    XNA   компаньон     0   \n\n        total_income               purpose  \n10701  203905.157261  покупка недвижимости  ",
      "text/html": "<div>\n<style scoped>\n    .dataframe tbody tr th:only-of-type {\n        vertical-align: middle;\n    }\n\n    .dataframe tbody tr th {\n        vertical-align: top;\n    }\n\n    .dataframe thead th {\n        text-align: right;\n    }\n</style>\n<table border=\"1\" class=\"dataframe\">\n  <thead>\n    <tr style=\"text-align: right;\">\n      <th></th>\n      <th>children</th>\n      <th>dob_years</th>\n      <th>education</th>\n      <th>education_id</th>\n      <th>family_status</th>\n      <th>family_status_id</th>\n      <th>gender</th>\n      <th>income_type</th>\n      <th>debt</th>\n      <th>total_income</th>\n      <th>purpose</th>\n    </tr>\n  </thead>\n  <tbody>\n    <tr>\n      <td>10701</td>\n      <td>0</td>\n      <td>24</td>\n      <td>неоконченное высшее</td>\n      <td>2</td>\n      <td>гражданский брак</td>\n      <td>1</td>\n      <td>XNA</td>\n      <td>компаньон</td>\n      <td>0</td>\n      <td>203905.157261</td>\n      <td>покупка недвижимости</td>\n    </tr>\n  </tbody>\n</table>\n</div>"
     },
     "execution_count": 773,
     "metadata": {},
     "output_type": "execute_result"
    }
   ],
   "source": [
    "data[data['gender'] == 'XNA']\n"
   ],
   "metadata": {
    "collapsed": false,
    "pycharm": {
     "name": "#%%\n"
    }
   }
  },
  {
   "cell_type": "markdown",
   "source": [
    "Что ж, всего одно значение. Похоже, что кто-то просто забыл указать пол. Мы можем просто удалить строку, 1 анкета никак не повлияет на нашу большую выборку, но можем и оставить, так как нас не требуется узнать влияние пола на возврат кредита."
   ],
   "metadata": {
    "collapsed": false
   }
  },
  {
   "cell_type": "markdown",
   "source": [
    "Проблему с пропусками решили, попутно еще исправив некоторые некорректные данные."
   ],
   "metadata": {
    "collapsed": false
   }
  },
  {
   "cell_type": "markdown",
   "source": [
    "### Замена типа данных"
   ],
   "metadata": {
    "collapsed": false
   }
  },
  {
   "cell_type": "markdown",
   "source": [
    "Теперь заменим тип данных в `total_income` с `float` на `int`. Для этой цели подойдет метод `astype()`"
   ],
   "metadata": {
    "collapsed": false
   }
  },
  {
   "cell_type": "code",
   "execution_count": 774,
   "outputs": [],
   "source": [
    "data['total_income'] = data['total_income'].astype('int')"
   ],
   "metadata": {
    "collapsed": false,
    "pycharm": {
     "name": "#%%\n"
    }
   }
  },
  {
   "cell_type": "markdown",
   "source": [
    "Проверяем:"
   ],
   "metadata": {
    "collapsed": false
   }
  },
  {
   "cell_type": "code",
   "execution_count": 775,
   "outputs": [
    {
     "name": "stdout",
     "output_type": "stream",
     "text": [
      "<class 'pandas.core.frame.DataFrame'>\n",
      "RangeIndex: 21525 entries, 0 to 21524\n",
      "Data columns (total 11 columns):\n",
      "children            21525 non-null int64\n",
      "dob_years           21525 non-null int64\n",
      "education           21525 non-null object\n",
      "education_id        21525 non-null int64\n",
      "family_status       21525 non-null object\n",
      "family_status_id    21525 non-null int64\n",
      "gender              21525 non-null object\n",
      "income_type         21525 non-null object\n",
      "debt                21525 non-null int64\n",
      "total_income        21525 non-null int64\n",
      "purpose             21525 non-null object\n",
      "dtypes: int64(6), object(5)\n",
      "memory usage: 1.8+ MB\n"
     ]
    },
    {
     "data": {
      "text/plain": "   children  dob_years education  education_id     family_status  \\\n0         1         42    высшее             0   женат / замужем   \n1         1         36   среднее             1   женат / замужем   \n2         0         33   среднее             1   женат / замужем   \n3         3         32   среднее             1   женат / замужем   \n4         0         53   среднее             1  гражданский брак   \n5         0         27    высшее             0  гражданский брак   \n6         0         43    высшее             0   женат / замужем   \n7         0         50   среднее             1   женат / замужем   \n8         2         35    высшее             0  гражданский брак   \n9         0         41   среднее             1   женат / замужем   \n\n   family_status_id gender income_type  debt  total_income  \\\n0                 0      F   сотрудник     0        253875   \n1                 0      F   сотрудник     0        112080   \n2                 0      M   сотрудник     0        145885   \n3                 0      M   сотрудник     0        267628   \n4                 1      F   пенсионер     0        158616   \n5                 1      M   компаньон     0        255763   \n6                 0      F   компаньон     0        240525   \n7                 0      M   сотрудник     0        135823   \n8                 1      F   сотрудник     0         95856   \n9                 0      M   сотрудник     0        144425   \n\n                      purpose  \n0               покупка жилья  \n1     приобретение автомобиля  \n2               покупка жилья  \n3  дополнительное образование  \n4             сыграть свадьбу  \n5               покупка жилья  \n6           операции с жильем  \n7                 образование  \n8       на проведение свадьбы  \n9     покупка жилья для семьи  ",
      "text/html": "<div>\n<style scoped>\n    .dataframe tbody tr th:only-of-type {\n        vertical-align: middle;\n    }\n\n    .dataframe tbody tr th {\n        vertical-align: top;\n    }\n\n    .dataframe thead th {\n        text-align: right;\n    }\n</style>\n<table border=\"1\" class=\"dataframe\">\n  <thead>\n    <tr style=\"text-align: right;\">\n      <th></th>\n      <th>children</th>\n      <th>dob_years</th>\n      <th>education</th>\n      <th>education_id</th>\n      <th>family_status</th>\n      <th>family_status_id</th>\n      <th>gender</th>\n      <th>income_type</th>\n      <th>debt</th>\n      <th>total_income</th>\n      <th>purpose</th>\n    </tr>\n  </thead>\n  <tbody>\n    <tr>\n      <td>0</td>\n      <td>1</td>\n      <td>42</td>\n      <td>высшее</td>\n      <td>0</td>\n      <td>женат / замужем</td>\n      <td>0</td>\n      <td>F</td>\n      <td>сотрудник</td>\n      <td>0</td>\n      <td>253875</td>\n      <td>покупка жилья</td>\n    </tr>\n    <tr>\n      <td>1</td>\n      <td>1</td>\n      <td>36</td>\n      <td>среднее</td>\n      <td>1</td>\n      <td>женат / замужем</td>\n      <td>0</td>\n      <td>F</td>\n      <td>сотрудник</td>\n      <td>0</td>\n      <td>112080</td>\n      <td>приобретение автомобиля</td>\n    </tr>\n    <tr>\n      <td>2</td>\n      <td>0</td>\n      <td>33</td>\n      <td>среднее</td>\n      <td>1</td>\n      <td>женат / замужем</td>\n      <td>0</td>\n      <td>M</td>\n      <td>сотрудник</td>\n      <td>0</td>\n      <td>145885</td>\n      <td>покупка жилья</td>\n    </tr>\n    <tr>\n      <td>3</td>\n      <td>3</td>\n      <td>32</td>\n      <td>среднее</td>\n      <td>1</td>\n      <td>женат / замужем</td>\n      <td>0</td>\n      <td>M</td>\n      <td>сотрудник</td>\n      <td>0</td>\n      <td>267628</td>\n      <td>дополнительное образование</td>\n    </tr>\n    <tr>\n      <td>4</td>\n      <td>0</td>\n      <td>53</td>\n      <td>среднее</td>\n      <td>1</td>\n      <td>гражданский брак</td>\n      <td>1</td>\n      <td>F</td>\n      <td>пенсионер</td>\n      <td>0</td>\n      <td>158616</td>\n      <td>сыграть свадьбу</td>\n    </tr>\n    <tr>\n      <td>5</td>\n      <td>0</td>\n      <td>27</td>\n      <td>высшее</td>\n      <td>0</td>\n      <td>гражданский брак</td>\n      <td>1</td>\n      <td>M</td>\n      <td>компаньон</td>\n      <td>0</td>\n      <td>255763</td>\n      <td>покупка жилья</td>\n    </tr>\n    <tr>\n      <td>6</td>\n      <td>0</td>\n      <td>43</td>\n      <td>высшее</td>\n      <td>0</td>\n      <td>женат / замужем</td>\n      <td>0</td>\n      <td>F</td>\n      <td>компаньон</td>\n      <td>0</td>\n      <td>240525</td>\n      <td>операции с жильем</td>\n    </tr>\n    <tr>\n      <td>7</td>\n      <td>0</td>\n      <td>50</td>\n      <td>среднее</td>\n      <td>1</td>\n      <td>женат / замужем</td>\n      <td>0</td>\n      <td>M</td>\n      <td>сотрудник</td>\n      <td>0</td>\n      <td>135823</td>\n      <td>образование</td>\n    </tr>\n    <tr>\n      <td>8</td>\n      <td>2</td>\n      <td>35</td>\n      <td>высшее</td>\n      <td>0</td>\n      <td>гражданский брак</td>\n      <td>1</td>\n      <td>F</td>\n      <td>сотрудник</td>\n      <td>0</td>\n      <td>95856</td>\n      <td>на проведение свадьбы</td>\n    </tr>\n    <tr>\n      <td>9</td>\n      <td>0</td>\n      <td>41</td>\n      <td>среднее</td>\n      <td>1</td>\n      <td>женат / замужем</td>\n      <td>0</td>\n      <td>M</td>\n      <td>сотрудник</td>\n      <td>0</td>\n      <td>144425</td>\n      <td>покупка жилья для семьи</td>\n    </tr>\n  </tbody>\n</table>\n</div>"
     },
     "execution_count": 775,
     "metadata": {},
     "output_type": "execute_result"
    }
   ],
   "source": [
    "data.info()\n",
    "data.head(10)"
   ],
   "metadata": {
    "collapsed": false,
    "pycharm": {
     "name": "#%%\n"
    }
   }
  },
  {
   "cell_type": "markdown",
   "source": [
    "**Вывод**"
   ],
   "metadata": {
    "collapsed": false
   }
  },
  {
   "cell_type": "markdown",
   "metadata": {},
   "source": [
    "Мы использовали разные способы для борьбы с пропусками. Мы смогли избежать удаления строк с пропусками, что могло бы сказаться в дальнейшем на результатах исследования. В первом случае мы избавились от столбца, в котором были явно ошибочные данные. Для стобца, показывающего доход в месяц, мы заполнили пропущенные значения медианным значением, так как это наилучший способ для количественных значений в выборке с выбросами."
   ]
  },
  {
   "cell_type": "markdown",
   "metadata": {},
   "source": [
    "### Обработка дубликатов"
   ]
  },
  {
   "cell_type": "markdown",
   "source": [
    "Найдем явные дубликаты, посмотрим количество строк, которые полностью совпадают."
   ],
   "metadata": {
    "collapsed": false,
    "pycharm": {
     "name": "#%% md\n"
    }
   }
  },
  {
   "cell_type": "code",
   "execution_count": 776,
   "metadata": {},
   "outputs": [
    {
     "name": "stdout",
     "output_type": "stream",
     "text": [
      "Количество явных дубликатов: 71\n"
     ]
    }
   ],
   "source": [
    "print('Количество явных дубликатов:', data.duplicated().sum())\n"
   ]
  },
  {
   "cell_type": "markdown",
   "source": [
    "Избавимся от этих строк. Скорее всего при внесении данных были продублированы 71 строка, потому что кажется очень маловероятным, чтобы совпадали все поля, вплоть до `total_income`"
   ],
   "metadata": {
    "collapsed": false,
    "pycharm": {
     "name": "#%% md\n"
    }
   }
  },
  {
   "cell_type": "code",
   "execution_count": 777,
   "outputs": [
    {
     "name": "stdout",
     "output_type": "stream",
     "text": [
      "Количество явных дубликатов: 0\n"
     ]
    }
   ],
   "source": [
    "data = data.drop_duplicates().reset_index(drop=True)\n",
    "print('Количество явных дубликатов:', data.duplicated().sum())"
   ],
   "metadata": {
    "collapsed": false,
    "pycharm": {
     "name": "#%%\n"
    }
   }
  },
  {
   "cell_type": "code",
   "execution_count": 778,
   "outputs": [
    {
     "name": "stdout",
     "output_type": "stream",
     "text": [
      "<class 'pandas.core.frame.DataFrame'>\n",
      "RangeIndex: 21454 entries, 0 to 21453\n",
      "Data columns (total 11 columns):\n",
      "children            21454 non-null int64\n",
      "dob_years           21454 non-null int64\n",
      "education           21454 non-null object\n",
      "education_id        21454 non-null int64\n",
      "family_status       21454 non-null object\n",
      "family_status_id    21454 non-null int64\n",
      "gender              21454 non-null object\n",
      "income_type         21454 non-null object\n",
      "debt                21454 non-null int64\n",
      "total_income        21454 non-null int64\n",
      "purpose             21454 non-null object\n",
      "dtypes: int64(6), object(5)\n",
      "memory usage: 1.8+ MB\n"
     ]
    }
   ],
   "source": [
    "data.info()"
   ],
   "metadata": {
    "collapsed": false,
    "pycharm": {
     "name": "#%%\n"
    }
   }
  },
  {
   "cell_type": "markdown",
   "metadata": {},
   "source": [
    "**Вывод**"
   ]
  },
  {
   "cell_type": "markdown",
   "metadata": {},
   "source": [
    "Мы избавились от явных дубликатов, и в том числе, потому что ранее привели к одному регистру данные из столбца `education`."
   ]
  },
  {
   "cell_type": "markdown",
   "metadata": {},
   "source": [
    "### Лемматизация"
   ]
  },
  {
   "cell_type": "markdown",
   "metadata": {
    "pycharm": {
     "name": "#%% md\n"
    }
   },
   "source": [
    "Посмотрим еще раз, какие указывались цели кредита:"
   ]
  },
  {
   "cell_type": "code",
   "execution_count": 779,
   "outputs": [
    {
     "data": {
      "text/plain": "свадьба                                   791\nна проведение свадьбы                     768\nсыграть свадьбу                           765\nоперации с недвижимостью                  675\nпокупка коммерческой недвижимости         661\nоперации с жильем                         652\nпокупка жилья для сдачи                   651\nоперации с коммерческой недвижимостью     650\nпокупка жилья                             646\nжилье                                     646\nпокупка жилья для семьи                   638\nстроительство собственной недвижимости    635\nнедвижимость                              633\nоперации со своей недвижимостью           627\nстроительство жилой недвижимости          624\nпокупка недвижимости                      621\nпокупка своего жилья                      620\nстроительство недвижимости                619\nремонт жилью                              607\nпокупка жилой недвижимости                606\nна покупку своего автомобиля              505\nзаняться высшим образованием              496\nавтомобиль                                494\nсделка с подержанным автомобилем          486\nсвой автомобиль                           478\nавтомобили                                478\nна покупку подержанного автомобиля        478\nна покупку автомобиля                     471\nприобретение автомобиля                   461\nдополнительное образование                460\nсделка с автомобилем                      455\nвысшее образование                        452\nобразование                               447\nполучение дополнительного образования     446\nполучение образования                     442\nпрофильное образование                    436\nполучение высшего образования             426\nзаняться образованием                     408\nName: purpose, dtype: int64"
     },
     "execution_count": 779,
     "metadata": {},
     "output_type": "execute_result"
    }
   ],
   "source": [
    "data['purpose'].value_counts()"
   ],
   "metadata": {
    "collapsed": false,
    "pycharm": {
     "name": "#%%\n"
    }
   }
  },
  {
   "cell_type": "code",
   "execution_count": 780,
   "outputs": [
    {
     "name": "stdout",
     "output_type": "stream",
     "text": [
      "Количество уникальных значений \"purpose\": 38\n"
     ]
    }
   ],
   "source": [
    "unique_purpose = data['purpose'].unique()\n",
    "print('Количество уникальных значений \"purpose\":', len(unique_purpose))"
   ],
   "metadata": {
    "collapsed": false,
    "pycharm": {
     "name": "#%%\n"
    }
   }
  },
  {
   "cell_type": "markdown",
   "source": [
    "На первый взгляд очевидно, что цели кредита, например \"на покупку автомобиля\" и \"свой автомобиль\" можно объединить в более крупные подгруппы.\n",
    "Посчитаем, применив лемматизацию, какие слова в стобце `purpose` встречаются чаще всего"
   ],
   "metadata": {
    "collapsed": false,
    "pycharm": {
     "name": "#%% md\n"
    }
   }
  },
  {
   "cell_type": "code",
   "execution_count": 802,
   "outputs": [
    {
     "name": "stdout",
     "output_type": "stream",
     "text": [
      "Counter({' ': 96, 'покупка': 10, 'недвижимость': 10, 'автомобиль': 9, 'образование': 9, 'жилье': 7, 'с': 5, 'операция': 4, 'на': 4, 'свой': 4, 'свадьба': 3, 'строительство': 3, 'получение': 3, 'высокий': 3, 'дополнительный': 2, 'для': 2, 'коммерческий': 2, 'жилой': 2, 'подержать': 2, 'заниматься': 2, 'сделка': 2, 'приобретение': 1, 'сыграть': 1, 'проведение': 1, 'семья': 1, 'собственный': 1, 'со': 1, 'профильный': 1, 'сдача': 1, 'ремонт': 1, '\\n': 1})\n"
     ]
    }
   ],
   "source": [
    "all_purposes = ' '.join(unique_purpose)\n",
    "m = Mystem()\n",
    "lemmas = m.lemmatize(all_purposes)\n",
    "print(Counter(lemmas))\n"
   ],
   "metadata": {
    "collapsed": false,
    "pycharm": {
     "name": "#%%\n"
    }
   }
  },
  {
   "cell_type": "markdown",
   "source": [
    "Изучив частоту встречающихся слов,  логично выделить следующие подгруппы:\n",
    "- свадьба\n",
    "- ипотека (\"недвижимость\" / \"жилье\")\n",
    "- образование\n",
    "- автомобиль\n",
    "\n",
    "Любое из значений столбца `purpose` можно отнести к одной из этих 4 подгрупп."
   ],
   "metadata": {
    "collapsed": false,
    "pycharm": {
     "name": "#%% md\n"
    }
   }
  },
  {
   "cell_type": "markdown",
   "source": [
    "Сначала напишем функцию `get_purpose_group`, принимающую значение `purpose` в качестве аргумента и возвращающую одно из 4 значений подгруппы целей."
   ],
   "metadata": {
    "collapsed": false,
    "pycharm": {
     "name": "#%% md\n"
    }
   }
  },
  {
   "cell_type": "code",
   "execution_count": 781,
   "outputs": [],
   "source": [
    "def get_purpose_group(purpose: str) -> str:\n",
    "    lemma_purpose = m.lemmatize(purpose)\n",
    "    if 'свадьба' in lemma_purpose:\n",
    "        return 'свадьба'\n",
    "    elif 'образование' in lemma_purpose:\n",
    "        return 'образование'\n",
    "    elif 'автомобиль' in lemma_purpose:\n",
    "        return 'автомобиль'\n",
    "    elif 'жилье' in lemma_purpose or 'недвижимость' in lemma_purpose:\n",
    "        return 'ипотека'\n",
    "    else:\n",
    "        return purpose\n"
   ],
   "metadata": {
    "collapsed": false,
    "pycharm": {
     "name": "#%%\n"
    }
   }
  },
  {
   "cell_type": "markdown",
   "source": [
    "Теперь изменим столбец `purpose` и проверим, что там у нас получилось 4 подгруппы:"
   ],
   "metadata": {
    "collapsed": false,
    "pycharm": {
     "name": "#%% md\n"
    }
   }
  },
  {
   "cell_type": "code",
   "execution_count": 782,
   "outputs": [
    {
     "data": {
      "text/plain": "ипотека        10811\nавтомобиль      4306\nобразование     4013\nсвадьба         2324\nName: purpose, dtype: int64"
     },
     "execution_count": 782,
     "metadata": {},
     "output_type": "execute_result"
    }
   ],
   "source": [
    "data['purpose'] = data['purpose'].apply(get_purpose_group)\n",
    "data['purpose'].value_counts()"
   ],
   "metadata": {
    "collapsed": false,
    "pycharm": {
     "name": "#%%\n"
    }
   }
  },
  {
   "cell_type": "markdown",
   "source": [
    "После того, как мы обобщили цели кредита, проверим еще раз наши данные на предмет дубликатов"
   ],
   "metadata": {
    "collapsed": false,
    "pycharm": {
     "name": "#%% md\n"
    }
   }
  },
  {
   "cell_type": "code",
   "source": [
    "print('Количество дубликатов:', data.duplicated().sum())"
   ],
   "metadata": {
    "collapsed": false,
    "pycharm": {
     "name": "#%%\n"
    }
   },
   "execution_count": 783,
   "outputs": [
    {
     "name": "stdout",
     "output_type": "stream",
     "text": [
      "Количество дубликатов: 337\n"
     ]
    }
   ]
  },
  {
   "cell_type": "markdown",
   "source": [
    "Довольно интересно, у нас обнаружилось еще 337 дубликатов. Учитывая, что случайное полное совпадение, ввиду наличия вещественного столбца в данных, очень маловероятно, то скорее можно предположить, что дубликаты возникли от того, что несколько человек подавали заявление на кредит больше одного раза, указывая чуть иную формулировку для цели кредита.\n",
    "От таких дубликатов логично избавиться."
   ],
   "metadata": {
    "collapsed": false,
    "pycharm": {
     "name": "#%% md\n"
    }
   }
  },
  {
   "cell_type": "code",
   "execution_count": 784,
   "outputs": [
    {
     "name": "stdout",
     "output_type": "stream",
     "text": [
      "Количество дубликатов: 0\n"
     ]
    }
   ],
   "source": [
    "data = data.drop_duplicates().reset_index(drop=True)\n",
    "print('Количество дубликатов:', data.duplicated().sum())"
   ],
   "metadata": {
    "collapsed": false,
    "pycharm": {
     "name": "#%%\n"
    }
   }
  },
  {
   "cell_type": "markdown",
   "metadata": {},
   "source": [
    "**Вывод**"
   ]
  },
  {
   "cell_type": "markdown",
   "metadata": {},
   "source": [
    "Благодаря лемматизации данных столбца `purpose` нам удалось, во-первых, выделить 4 большие подгруппы целей кредита, вместо изначальных 38, а во-вторых, найти и удалить еще 337 дубликатов."
   ]
  },
  {
   "cell_type": "markdown",
   "metadata": {},
   "source": [
    "### Категоризация данных"
   ]
  },
  {
   "cell_type": "markdown",
   "metadata": {
    "pycharm": {
     "name": "#%% md\n"
    }
   },
   "source": [
    "Еще раз взглянем на нашу таблицу с данными:"
   ]
  },
  {
   "cell_type": "code",
   "execution_count": 785,
   "outputs": [
    {
     "data": {
      "text/plain": "       children  dob_years education  education_id     family_status  \\\n0             1         42    высшее             0   женат / замужем   \n1             1         36   среднее             1   женат / замужем   \n2             0         33   среднее             1   женат / замужем   \n3             3         32   среднее             1   женат / замужем   \n4             0         53   среднее             1  гражданский брак   \n...         ...        ...       ...           ...               ...   \n21112         1         43   среднее             1  гражданский брак   \n21113         0         67   среднее             1   женат / замужем   \n21114         1         38   среднее             1  гражданский брак   \n21115         3         38   среднее             1   женат / замужем   \n21116         2         40   среднее             1   женат / замужем   \n\n       family_status_id gender income_type  debt  total_income      purpose  \n0                     0      F   сотрудник     0        253875      ипотека  \n1                     0      F   сотрудник     0        112080   автомобиль  \n2                     0      M   сотрудник     0        145885      ипотека  \n3                     0      M   сотрудник     0        267628  образование  \n4                     1      F   пенсионер     0        158616      свадьба  \n...                 ...    ...         ...   ...           ...          ...  \n21112                 1      F   компаньон     0        224791      ипотека  \n21113                 0      F   пенсионер     0        155999   автомобиль  \n21114                 1      M   сотрудник     1         89672      ипотека  \n21115                 0      M   сотрудник     1        244093   автомобиль  \n21116                 0      F   сотрудник     0         82047   автомобиль  \n\n[21117 rows x 11 columns]",
      "text/html": "<div>\n<style scoped>\n    .dataframe tbody tr th:only-of-type {\n        vertical-align: middle;\n    }\n\n    .dataframe tbody tr th {\n        vertical-align: top;\n    }\n\n    .dataframe thead th {\n        text-align: right;\n    }\n</style>\n<table border=\"1\" class=\"dataframe\">\n  <thead>\n    <tr style=\"text-align: right;\">\n      <th></th>\n      <th>children</th>\n      <th>dob_years</th>\n      <th>education</th>\n      <th>education_id</th>\n      <th>family_status</th>\n      <th>family_status_id</th>\n      <th>gender</th>\n      <th>income_type</th>\n      <th>debt</th>\n      <th>total_income</th>\n      <th>purpose</th>\n    </tr>\n  </thead>\n  <tbody>\n    <tr>\n      <td>0</td>\n      <td>1</td>\n      <td>42</td>\n      <td>высшее</td>\n      <td>0</td>\n      <td>женат / замужем</td>\n      <td>0</td>\n      <td>F</td>\n      <td>сотрудник</td>\n      <td>0</td>\n      <td>253875</td>\n      <td>ипотека</td>\n    </tr>\n    <tr>\n      <td>1</td>\n      <td>1</td>\n      <td>36</td>\n      <td>среднее</td>\n      <td>1</td>\n      <td>женат / замужем</td>\n      <td>0</td>\n      <td>F</td>\n      <td>сотрудник</td>\n      <td>0</td>\n      <td>112080</td>\n      <td>автомобиль</td>\n    </tr>\n    <tr>\n      <td>2</td>\n      <td>0</td>\n      <td>33</td>\n      <td>среднее</td>\n      <td>1</td>\n      <td>женат / замужем</td>\n      <td>0</td>\n      <td>M</td>\n      <td>сотрудник</td>\n      <td>0</td>\n      <td>145885</td>\n      <td>ипотека</td>\n    </tr>\n    <tr>\n      <td>3</td>\n      <td>3</td>\n      <td>32</td>\n      <td>среднее</td>\n      <td>1</td>\n      <td>женат / замужем</td>\n      <td>0</td>\n      <td>M</td>\n      <td>сотрудник</td>\n      <td>0</td>\n      <td>267628</td>\n      <td>образование</td>\n    </tr>\n    <tr>\n      <td>4</td>\n      <td>0</td>\n      <td>53</td>\n      <td>среднее</td>\n      <td>1</td>\n      <td>гражданский брак</td>\n      <td>1</td>\n      <td>F</td>\n      <td>пенсионер</td>\n      <td>0</td>\n      <td>158616</td>\n      <td>свадьба</td>\n    </tr>\n    <tr>\n      <td>...</td>\n      <td>...</td>\n      <td>...</td>\n      <td>...</td>\n      <td>...</td>\n      <td>...</td>\n      <td>...</td>\n      <td>...</td>\n      <td>...</td>\n      <td>...</td>\n      <td>...</td>\n      <td>...</td>\n    </tr>\n    <tr>\n      <td>21112</td>\n      <td>1</td>\n      <td>43</td>\n      <td>среднее</td>\n      <td>1</td>\n      <td>гражданский брак</td>\n      <td>1</td>\n      <td>F</td>\n      <td>компаньон</td>\n      <td>0</td>\n      <td>224791</td>\n      <td>ипотека</td>\n    </tr>\n    <tr>\n      <td>21113</td>\n      <td>0</td>\n      <td>67</td>\n      <td>среднее</td>\n      <td>1</td>\n      <td>женат / замужем</td>\n      <td>0</td>\n      <td>F</td>\n      <td>пенсионер</td>\n      <td>0</td>\n      <td>155999</td>\n      <td>автомобиль</td>\n    </tr>\n    <tr>\n      <td>21114</td>\n      <td>1</td>\n      <td>38</td>\n      <td>среднее</td>\n      <td>1</td>\n      <td>гражданский брак</td>\n      <td>1</td>\n      <td>M</td>\n      <td>сотрудник</td>\n      <td>1</td>\n      <td>89672</td>\n      <td>ипотека</td>\n    </tr>\n    <tr>\n      <td>21115</td>\n      <td>3</td>\n      <td>38</td>\n      <td>среднее</td>\n      <td>1</td>\n      <td>женат / замужем</td>\n      <td>0</td>\n      <td>M</td>\n      <td>сотрудник</td>\n      <td>1</td>\n      <td>244093</td>\n      <td>автомобиль</td>\n    </tr>\n    <tr>\n      <td>21116</td>\n      <td>2</td>\n      <td>40</td>\n      <td>среднее</td>\n      <td>1</td>\n      <td>женат / замужем</td>\n      <td>0</td>\n      <td>F</td>\n      <td>сотрудник</td>\n      <td>0</td>\n      <td>82047</td>\n      <td>автомобиль</td>\n    </tr>\n  </tbody>\n</table>\n<p>21117 rows × 11 columns</p>\n</div>"
     },
     "execution_count": 785,
     "metadata": {},
     "output_type": "execute_result"
    }
   ],
   "source": [
    "data"
   ],
   "metadata": {
    "collapsed": false,
    "pycharm": {
     "name": "#%%\n"
    }
   }
  },
  {
   "cell_type": "markdown",
   "source": [
    "Для того, чтобы ответить на один из вопросов (\"Влияет ли наличие детей на возврат кредита\") добавим столбец `has_children`"
   ],
   "metadata": {
    "collapsed": false,
    "pycharm": {
     "name": "#%% md\n"
    }
   }
  },
  {
   "cell_type": "code",
   "execution_count": 786,
   "outputs": [
    {
     "data": {
      "text/plain": "   children  dob_years education  education_id     family_status  \\\n0         1         42    высшее             0   женат / замужем   \n1         1         36   среднее             1   женат / замужем   \n2         0         33   среднее             1   женат / замужем   \n3         3         32   среднее             1   женат / замужем   \n4         0         53   среднее             1  гражданский брак   \n\n   family_status_id gender income_type  debt  total_income      purpose  \\\n0                 0      F   сотрудник     0        253875      ипотека   \n1                 0      F   сотрудник     0        112080   автомобиль   \n2                 0      M   сотрудник     0        145885      ипотека   \n3                 0      M   сотрудник     0        267628  образование   \n4                 1      F   пенсионер     0        158616      свадьба   \n\n   has_children  \n0          True  \n1          True  \n2         False  \n3          True  \n4         False  ",
      "text/html": "<div>\n<style scoped>\n    .dataframe tbody tr th:only-of-type {\n        vertical-align: middle;\n    }\n\n    .dataframe tbody tr th {\n        vertical-align: top;\n    }\n\n    .dataframe thead th {\n        text-align: right;\n    }\n</style>\n<table border=\"1\" class=\"dataframe\">\n  <thead>\n    <tr style=\"text-align: right;\">\n      <th></th>\n      <th>children</th>\n      <th>dob_years</th>\n      <th>education</th>\n      <th>education_id</th>\n      <th>family_status</th>\n      <th>family_status_id</th>\n      <th>gender</th>\n      <th>income_type</th>\n      <th>debt</th>\n      <th>total_income</th>\n      <th>purpose</th>\n      <th>has_children</th>\n    </tr>\n  </thead>\n  <tbody>\n    <tr>\n      <td>0</td>\n      <td>1</td>\n      <td>42</td>\n      <td>высшее</td>\n      <td>0</td>\n      <td>женат / замужем</td>\n      <td>0</td>\n      <td>F</td>\n      <td>сотрудник</td>\n      <td>0</td>\n      <td>253875</td>\n      <td>ипотека</td>\n      <td>True</td>\n    </tr>\n    <tr>\n      <td>1</td>\n      <td>1</td>\n      <td>36</td>\n      <td>среднее</td>\n      <td>1</td>\n      <td>женат / замужем</td>\n      <td>0</td>\n      <td>F</td>\n      <td>сотрудник</td>\n      <td>0</td>\n      <td>112080</td>\n      <td>автомобиль</td>\n      <td>True</td>\n    </tr>\n    <tr>\n      <td>2</td>\n      <td>0</td>\n      <td>33</td>\n      <td>среднее</td>\n      <td>1</td>\n      <td>женат / замужем</td>\n      <td>0</td>\n      <td>M</td>\n      <td>сотрудник</td>\n      <td>0</td>\n      <td>145885</td>\n      <td>ипотека</td>\n      <td>False</td>\n    </tr>\n    <tr>\n      <td>3</td>\n      <td>3</td>\n      <td>32</td>\n      <td>среднее</td>\n      <td>1</td>\n      <td>женат / замужем</td>\n      <td>0</td>\n      <td>M</td>\n      <td>сотрудник</td>\n      <td>0</td>\n      <td>267628</td>\n      <td>образование</td>\n      <td>True</td>\n    </tr>\n    <tr>\n      <td>4</td>\n      <td>0</td>\n      <td>53</td>\n      <td>среднее</td>\n      <td>1</td>\n      <td>гражданский брак</td>\n      <td>1</td>\n      <td>F</td>\n      <td>пенсионер</td>\n      <td>0</td>\n      <td>158616</td>\n      <td>свадьба</td>\n      <td>False</td>\n    </tr>\n  </tbody>\n</table>\n</div>"
     },
     "execution_count": 786,
     "metadata": {},
     "output_type": "execute_result"
    }
   ],
   "source": [
    "def has_children(num_children: int) -> bool:\n",
    "    return num_children != 0\n",
    "\n",
    "data['has_children'] = data['children'].apply(has_children)\n",
    "data.head()"
   ],
   "metadata": {
    "collapsed": false,
    "pycharm": {
     "name": "#%%\n"
    }
   }
  },
  {
   "cell_type": "markdown",
   "source": [
    "Семейное положение и образование уже продублированы своим id. Длинные наименования делают нашу таблицу объемной и трудночитаемой. Поэтому выделим отдельные словари для них и в таблице оставим только идентификаторы, а наименования уберем."
   ],
   "metadata": {
    "collapsed": false,
    "pycharm": {
     "name": "#%% md\n"
    }
   }
  },
  {
   "cell_type": "code",
   "execution_count": 787,
   "outputs": [
    {
     "data": {
      "text/plain": "   education_id            education\n0             0               высшее\n1             1              среднее\n2             2  неоконченное высшее\n3             3            начальное\n4             4       ученая степень",
      "text/html": "<div>\n<style scoped>\n    .dataframe tbody tr th:only-of-type {\n        vertical-align: middle;\n    }\n\n    .dataframe tbody tr th {\n        vertical-align: top;\n    }\n\n    .dataframe thead th {\n        text-align: right;\n    }\n</style>\n<table border=\"1\" class=\"dataframe\">\n  <thead>\n    <tr style=\"text-align: right;\">\n      <th></th>\n      <th>education_id</th>\n      <th>education</th>\n    </tr>\n  </thead>\n  <tbody>\n    <tr>\n      <td>0</td>\n      <td>0</td>\n      <td>высшее</td>\n    </tr>\n    <tr>\n      <td>1</td>\n      <td>1</td>\n      <td>среднее</td>\n    </tr>\n    <tr>\n      <td>2</td>\n      <td>2</td>\n      <td>неоконченное высшее</td>\n    </tr>\n    <tr>\n      <td>3</td>\n      <td>3</td>\n      <td>начальное</td>\n    </tr>\n    <tr>\n      <td>4</td>\n      <td>4</td>\n      <td>ученая степень</td>\n    </tr>\n  </tbody>\n</table>\n</div>"
     },
     "metadata": {},
     "output_type": "display_data"
    },
    {
     "data": {
      "text/plain": "   family_status_id          family_status\n0                 0        женат / замужем\n1                 1       гражданский брак\n2                 2         вдовец / вдова\n3                 3              в разводе\n4                 4  Не женат / не замужем",
      "text/html": "<div>\n<style scoped>\n    .dataframe tbody tr th:only-of-type {\n        vertical-align: middle;\n    }\n\n    .dataframe tbody tr th {\n        vertical-align: top;\n    }\n\n    .dataframe thead th {\n        text-align: right;\n    }\n</style>\n<table border=\"1\" class=\"dataframe\">\n  <thead>\n    <tr style=\"text-align: right;\">\n      <th></th>\n      <th>family_status_id</th>\n      <th>family_status</th>\n    </tr>\n  </thead>\n  <tbody>\n    <tr>\n      <td>0</td>\n      <td>0</td>\n      <td>женат / замужем</td>\n    </tr>\n    <tr>\n      <td>1</td>\n      <td>1</td>\n      <td>гражданский брак</td>\n    </tr>\n    <tr>\n      <td>2</td>\n      <td>2</td>\n      <td>вдовец / вдова</td>\n    </tr>\n    <tr>\n      <td>3</td>\n      <td>3</td>\n      <td>в разводе</td>\n    </tr>\n    <tr>\n      <td>4</td>\n      <td>4</td>\n      <td>Не женат / не замужем</td>\n    </tr>\n  </tbody>\n</table>\n</div>"
     },
     "metadata": {},
     "output_type": "display_data"
    }
   ],
   "source": [
    "education_dict = data[['education_id', 'education']]\n",
    "education_dict = education_dict.drop_duplicates().reset_index(drop=True)\n",
    "display(education_dict)\n",
    "\n",
    "family_status_dict = data[['family_status_id', 'family_status']]\n",
    "family_status_dict = family_status_dict.drop_duplicates().reset_index(drop=True)\n",
    "display(family_status_dict)"
   ],
   "metadata": {
    "collapsed": false,
    "pycharm": {
     "name": "#%%\n"
    }
   }
  },
  {
   "cell_type": "code",
   "execution_count": 788,
   "outputs": [
    {
     "data": {
      "text/plain": "   children  dob_years  education_id  family_status_id gender income_type  \\\n0         1         42             0                 0      F   сотрудник   \n1         1         36             1                 0      F   сотрудник   \n2         0         33             1                 0      M   сотрудник   \n3         3         32             1                 0      M   сотрудник   \n4         0         53             1                 1      F   пенсионер   \n\n   debt  total_income      purpose  has_children  \n0     0        253875      ипотека          True  \n1     0        112080   автомобиль          True  \n2     0        145885      ипотека         False  \n3     0        267628  образование          True  \n4     0        158616      свадьба         False  ",
      "text/html": "<div>\n<style scoped>\n    .dataframe tbody tr th:only-of-type {\n        vertical-align: middle;\n    }\n\n    .dataframe tbody tr th {\n        vertical-align: top;\n    }\n\n    .dataframe thead th {\n        text-align: right;\n    }\n</style>\n<table border=\"1\" class=\"dataframe\">\n  <thead>\n    <tr style=\"text-align: right;\">\n      <th></th>\n      <th>children</th>\n      <th>dob_years</th>\n      <th>education_id</th>\n      <th>family_status_id</th>\n      <th>gender</th>\n      <th>income_type</th>\n      <th>debt</th>\n      <th>total_income</th>\n      <th>purpose</th>\n      <th>has_children</th>\n    </tr>\n  </thead>\n  <tbody>\n    <tr>\n      <td>0</td>\n      <td>1</td>\n      <td>42</td>\n      <td>0</td>\n      <td>0</td>\n      <td>F</td>\n      <td>сотрудник</td>\n      <td>0</td>\n      <td>253875</td>\n      <td>ипотека</td>\n      <td>True</td>\n    </tr>\n    <tr>\n      <td>1</td>\n      <td>1</td>\n      <td>36</td>\n      <td>1</td>\n      <td>0</td>\n      <td>F</td>\n      <td>сотрудник</td>\n      <td>0</td>\n      <td>112080</td>\n      <td>автомобиль</td>\n      <td>True</td>\n    </tr>\n    <tr>\n      <td>2</td>\n      <td>0</td>\n      <td>33</td>\n      <td>1</td>\n      <td>0</td>\n      <td>M</td>\n      <td>сотрудник</td>\n      <td>0</td>\n      <td>145885</td>\n      <td>ипотека</td>\n      <td>False</td>\n    </tr>\n    <tr>\n      <td>3</td>\n      <td>3</td>\n      <td>32</td>\n      <td>1</td>\n      <td>0</td>\n      <td>M</td>\n      <td>сотрудник</td>\n      <td>0</td>\n      <td>267628</td>\n      <td>образование</td>\n      <td>True</td>\n    </tr>\n    <tr>\n      <td>4</td>\n      <td>0</td>\n      <td>53</td>\n      <td>1</td>\n      <td>1</td>\n      <td>F</td>\n      <td>пенсионер</td>\n      <td>0</td>\n      <td>158616</td>\n      <td>свадьба</td>\n      <td>False</td>\n    </tr>\n  </tbody>\n</table>\n</div>"
     },
     "execution_count": 788,
     "metadata": {},
     "output_type": "execute_result"
    }
   ],
   "source": [
    "data.drop(columns=['education', 'family_status'], inplace=True)\n",
    "data.head()"
   ],
   "metadata": {
    "collapsed": false,
    "pycharm": {
     "name": "#%%\n"
    }
   }
  },
  {
   "cell_type": "markdown",
   "source": [
    "Теперь нам нужно категоризировать данные об уровне дохода. Как мы помним, у нас были данные, где уровень дохода был неизвестен.\n",
    "С помощью функции  `decribe()` найдем квартили, сделаем массив квартилей и напишем функцию, которая на основании `total_income` в зависимости от уровня дохода распределит в новый столбец  `income_level`:\n",
    "- 0 - нет данных\n",
    "- 0-25 - низкий\n",
    "- 25-50 - ниже среднего\n",
    "- 50-75 - выше среднего\n",
    "- \\> 75 - высокий"
   ],
   "metadata": {
    "collapsed": false,
    "pycharm": {
     "name": "#%% md\n"
    }
   }
  },
  {
   "cell_type": "code",
   "execution_count": 789,
   "outputs": [
    {
     "data": {
      "text/plain": "count    1.935100e+04\nmean     1.674218e+05\nstd      1.029716e+05\nmin      2.066700e+04\n25%      1.030530e+05\n50%      1.450170e+05\n75%      2.034345e+05\nmax      2.265604e+06\nName: total_income, dtype: float64"
     },
     "execution_count": 789,
     "metadata": {},
     "output_type": "execute_result"
    }
   ],
   "source": [
    "income_description = data[data['total_income'] != 0]['total_income'].describe()\n",
    "income_description"
   ],
   "metadata": {
    "collapsed": false,
    "pycharm": {
     "name": "#%%\n"
    }
   }
  },
  {
   "cell_type": "code",
   "execution_count": 790,
   "outputs": [
    {
     "data": {
      "text/plain": "   children  dob_years  education_id  family_status_id gender income_type  \\\n0         1         42             0                 0      F   сотрудник   \n1         1         36             1                 0      F   сотрудник   \n2         0         33             1                 0      M   сотрудник   \n3         3         32             1                 0      M   сотрудник   \n4         0         53             1                 1      F   пенсионер   \n\n   debt  total_income      purpose  has_children   income_level  \n0     0        253875      ипотека          True        высокий  \n1     0        112080   автомобиль          True  ниже среднего  \n2     0        145885      ипотека         False  выше среднего  \n3     0        267628  образование          True        высокий  \n4     0        158616      свадьба         False  выше среднего  ",
      "text/html": "<div>\n<style scoped>\n    .dataframe tbody tr th:only-of-type {\n        vertical-align: middle;\n    }\n\n    .dataframe tbody tr th {\n        vertical-align: top;\n    }\n\n    .dataframe thead th {\n        text-align: right;\n    }\n</style>\n<table border=\"1\" class=\"dataframe\">\n  <thead>\n    <tr style=\"text-align: right;\">\n      <th></th>\n      <th>children</th>\n      <th>dob_years</th>\n      <th>education_id</th>\n      <th>family_status_id</th>\n      <th>gender</th>\n      <th>income_type</th>\n      <th>debt</th>\n      <th>total_income</th>\n      <th>purpose</th>\n      <th>has_children</th>\n      <th>income_level</th>\n    </tr>\n  </thead>\n  <tbody>\n    <tr>\n      <td>0</td>\n      <td>1</td>\n      <td>42</td>\n      <td>0</td>\n      <td>0</td>\n      <td>F</td>\n      <td>сотрудник</td>\n      <td>0</td>\n      <td>253875</td>\n      <td>ипотека</td>\n      <td>True</td>\n      <td>высокий</td>\n    </tr>\n    <tr>\n      <td>1</td>\n      <td>1</td>\n      <td>36</td>\n      <td>1</td>\n      <td>0</td>\n      <td>F</td>\n      <td>сотрудник</td>\n      <td>0</td>\n      <td>112080</td>\n      <td>автомобиль</td>\n      <td>True</td>\n      <td>ниже среднего</td>\n    </tr>\n    <tr>\n      <td>2</td>\n      <td>0</td>\n      <td>33</td>\n      <td>1</td>\n      <td>0</td>\n      <td>M</td>\n      <td>сотрудник</td>\n      <td>0</td>\n      <td>145885</td>\n      <td>ипотека</td>\n      <td>False</td>\n      <td>выше среднего</td>\n    </tr>\n    <tr>\n      <td>3</td>\n      <td>3</td>\n      <td>32</td>\n      <td>1</td>\n      <td>0</td>\n      <td>M</td>\n      <td>сотрудник</td>\n      <td>0</td>\n      <td>267628</td>\n      <td>образование</td>\n      <td>True</td>\n      <td>высокий</td>\n    </tr>\n    <tr>\n      <td>4</td>\n      <td>0</td>\n      <td>53</td>\n      <td>1</td>\n      <td>1</td>\n      <td>F</td>\n      <td>пенсионер</td>\n      <td>0</td>\n      <td>158616</td>\n      <td>свадьба</td>\n      <td>False</td>\n      <td>выше среднего</td>\n    </tr>\n  </tbody>\n</table>\n</div>"
     },
     "execution_count": 790,
     "metadata": {},
     "output_type": "execute_result"
    }
   ],
   "source": [
    "quantiles = [income_description['25%'], income_description['50%'], income_description['75%']]\n",
    "\n",
    "def get_income_level(income: int) -> str:\n",
    "    if income == 0:\n",
    "        return 'нет данных'\n",
    "    elif 0 < income <= income_description['25%']:\n",
    "        return 'низкий'\n",
    "    elif income_description['25%'] < income <= income_description['50%']:\n",
    "        return 'ниже среднего'\n",
    "    elif income_description['50%'] < income <= income_description['75%']:\n",
    "        return 'выше среднего'\n",
    "    else:\n",
    "        return 'высокий'\n",
    "\n",
    "data['income_level'] = data['total_income'].apply(get_income_level)\n",
    "data.head()"
   ],
   "metadata": {
    "collapsed": false,
    "pycharm": {
     "name": "#%%\n"
    }
   }
  },
  {
   "cell_type": "markdown",
   "source": [
    "И наконец сделаем таблицу, в которой соберем все необходимые для дальнейшего анализа данные."
   ],
   "metadata": {
    "collapsed": false,
    "pycharm": {
     "name": "#%% md\n"
    }
   }
  },
  {
   "cell_type": "code",
   "source": [
    "research_data = data[['debt', 'has_children', 'family_status_id', 'income_level', 'purpose']]\n",
    "research_data.info()\n",
    "research_data.head(10)"
   ],
   "metadata": {
    "collapsed": false,
    "pycharm": {
     "name": "#%%\n"
    }
   },
   "execution_count": 791,
   "outputs": [
    {
     "name": "stdout",
     "output_type": "stream",
     "text": [
      "<class 'pandas.core.frame.DataFrame'>\n",
      "RangeIndex: 21117 entries, 0 to 21116\n",
      "Data columns (total 5 columns):\n",
      "debt                21117 non-null int64\n",
      "has_children        21117 non-null bool\n",
      "family_status_id    21117 non-null int64\n",
      "income_level        21117 non-null object\n",
      "purpose             21117 non-null object\n",
      "dtypes: bool(1), int64(2), object(2)\n",
      "memory usage: 680.7+ KB\n"
     ]
    },
    {
     "data": {
      "text/plain": "   debt  has_children  family_status_id   income_level      purpose\n0     0          True                 0        высокий      ипотека\n1     0          True                 0  ниже среднего   автомобиль\n2     0         False                 0  выше среднего      ипотека\n3     0          True                 0        высокий  образование\n4     0         False                 1  выше среднего      свадьба\n5     0         False                 1        высокий      ипотека\n6     0         False                 0        высокий      ипотека\n7     0         False                 0  ниже среднего  образование\n8     0          True                 1         низкий      свадьба\n9     0         False                 0  ниже среднего      ипотека",
      "text/html": "<div>\n<style scoped>\n    .dataframe tbody tr th:only-of-type {\n        vertical-align: middle;\n    }\n\n    .dataframe tbody tr th {\n        vertical-align: top;\n    }\n\n    .dataframe thead th {\n        text-align: right;\n    }\n</style>\n<table border=\"1\" class=\"dataframe\">\n  <thead>\n    <tr style=\"text-align: right;\">\n      <th></th>\n      <th>debt</th>\n      <th>has_children</th>\n      <th>family_status_id</th>\n      <th>income_level</th>\n      <th>purpose</th>\n    </tr>\n  </thead>\n  <tbody>\n    <tr>\n      <td>0</td>\n      <td>0</td>\n      <td>True</td>\n      <td>0</td>\n      <td>высокий</td>\n      <td>ипотека</td>\n    </tr>\n    <tr>\n      <td>1</td>\n      <td>0</td>\n      <td>True</td>\n      <td>0</td>\n      <td>ниже среднего</td>\n      <td>автомобиль</td>\n    </tr>\n    <tr>\n      <td>2</td>\n      <td>0</td>\n      <td>False</td>\n      <td>0</td>\n      <td>выше среднего</td>\n      <td>ипотека</td>\n    </tr>\n    <tr>\n      <td>3</td>\n      <td>0</td>\n      <td>True</td>\n      <td>0</td>\n      <td>высокий</td>\n      <td>образование</td>\n    </tr>\n    <tr>\n      <td>4</td>\n      <td>0</td>\n      <td>False</td>\n      <td>1</td>\n      <td>выше среднего</td>\n      <td>свадьба</td>\n    </tr>\n    <tr>\n      <td>5</td>\n      <td>0</td>\n      <td>False</td>\n      <td>1</td>\n      <td>высокий</td>\n      <td>ипотека</td>\n    </tr>\n    <tr>\n      <td>6</td>\n      <td>0</td>\n      <td>False</td>\n      <td>0</td>\n      <td>высокий</td>\n      <td>ипотека</td>\n    </tr>\n    <tr>\n      <td>7</td>\n      <td>0</td>\n      <td>False</td>\n      <td>0</td>\n      <td>ниже среднего</td>\n      <td>образование</td>\n    </tr>\n    <tr>\n      <td>8</td>\n      <td>0</td>\n      <td>True</td>\n      <td>1</td>\n      <td>низкий</td>\n      <td>свадьба</td>\n    </tr>\n    <tr>\n      <td>9</td>\n      <td>0</td>\n      <td>False</td>\n      <td>0</td>\n      <td>ниже среднего</td>\n      <td>ипотека</td>\n    </tr>\n  </tbody>\n</table>\n</div>"
     },
     "execution_count": 791,
     "metadata": {},
     "output_type": "execute_result"
    }
   ]
  },
  {
   "cell_type": "markdown",
   "metadata": {},
   "source": [
    "**Вывод**"
   ]
  },
  {
   "cell_type": "markdown",
   "metadata": {},
   "source": [
    "Мы выделили нужные нам для анализа данные и  объединили их в подходящие категории"
   ]
  },
  {
   "cell_type": "markdown",
   "metadata": {},
   "source": [
    "## Шаг 3. Ответьте на вопросы"
   ]
  },
  {
   "cell_type": "markdown",
   "source": [
    "Для начала будет интересно найти среднее значение возврата кредита"
   ],
   "metadata": {
    "collapsed": false,
    "pycharm": {
     "name": "#%% md\n"
    }
   }
  },
  {
   "cell_type": "code",
   "execution_count": 792,
   "outputs": [
    {
     "name": "stdout",
     "output_type": "stream",
     "text": [
      "Средний процент возврата кредита в срок:  91.8%\n"
     ]
    }
   ],
   "source": [
    "avg_debt = research_data['debt'].sum() / len(research_data)\n",
    "print(f'Средний процент возврата кредита в срок: {1 - avg_debt: .1%}')"
   ],
   "metadata": {
    "collapsed": false,
    "pycharm": {
     "name": "#%%\n"
    }
   }
  },
  {
   "cell_type": "markdown",
   "metadata": {},
   "source": [
    "- Есть ли зависимость между наличием детей и возвратом кредита в срок?"
   ]
  },
  {
   "cell_type": "code",
   "execution_count": 793,
   "metadata": {},
   "outputs": [
    {
     "data": {
      "text/plain": "                  debt\nhas_children          \nFalse         0.076734\nTrue          0.093004",
      "text/html": "<div>\n<style scoped>\n    .dataframe tbody tr th:only-of-type {\n        vertical-align: middle;\n    }\n\n    .dataframe tbody tr th {\n        vertical-align: top;\n    }\n\n    .dataframe thead th {\n        text-align: right;\n    }\n</style>\n<table border=\"1\" class=\"dataframe\">\n  <thead>\n    <tr style=\"text-align: right;\">\n      <th></th>\n      <th>debt</th>\n    </tr>\n    <tr>\n      <th>has_children</th>\n      <th></th>\n    </tr>\n  </thead>\n  <tbody>\n    <tr>\n      <td>False</td>\n      <td>0.076734</td>\n    </tr>\n    <tr>\n      <td>True</td>\n      <td>0.093004</td>\n    </tr>\n  </tbody>\n</table>\n</div>"
     },
     "execution_count": 793,
     "metadata": {},
     "output_type": "execute_result"
    }
   ],
   "source": [
    "has_children_debt = research_data.pivot_table(index='has_children', values='debt')\n",
    "has_children_debt"
   ]
  },
  {
   "cell_type": "code",
   "execution_count": 794,
   "outputs": [
    {
     "name": "stdout",
     "output_type": "stream",
     "text": [
      "Процент возврата кредита\n",
      "* есть дети: 90.7%\n",
      "* нет детей: 92.3%\n"
     ]
    }
   ],
   "source": [
    "print('Процент возврата кредита')\n",
    "print(f\"* есть дети: {1 - has_children_debt.loc[True, 'debt']:.1%}\")\n",
    "print(f\"* нет детей: {1 - has_children_debt.loc[False, 'debt']:.1%}\")"
   ],
   "metadata": {
    "collapsed": false,
    "pycharm": {
     "name": "#%%\n"
    }
   }
  },
  {
   "cell_type": "markdown",
   "metadata": {},
   "source": [
    "**Вывод**"
   ]
  },
  {
   "cell_type": "markdown",
   "metadata": {},
   "source": [
    "Наличие детей ухудшает возврат кредита на 1.1%, а отсутствие - увеличивает на 0.5% (относительно среднего значения)"
   ]
  },
  {
   "cell_type": "markdown",
   "metadata": {},
   "source": [
    "- Есть ли зависимость между семейным положением и возвратом кредита в срок?"
   ]
  },
  {
   "cell_type": "code",
   "execution_count": 795,
   "metadata": {},
   "outputs": [
    {
     "data": {
      "text/plain": "           family_status      debt\n0         вдовец / вдова  0.066808\n1              в разводе  0.071249\n2        женат / замужем  0.076942\n3       гражданский брак  0.094106\n4  Не женат / не замужем  0.098420",
      "text/html": "<div>\n<style scoped>\n    .dataframe tbody tr th:only-of-type {\n        vertical-align: middle;\n    }\n\n    .dataframe tbody tr th {\n        vertical-align: top;\n    }\n\n    .dataframe thead th {\n        text-align: right;\n    }\n</style>\n<table border=\"1\" class=\"dataframe\">\n  <thead>\n    <tr style=\"text-align: right;\">\n      <th></th>\n      <th>family_status</th>\n      <th>debt</th>\n    </tr>\n  </thead>\n  <tbody>\n    <tr>\n      <td>0</td>\n      <td>вдовец / вдова</td>\n      <td>0.066808</td>\n    </tr>\n    <tr>\n      <td>1</td>\n      <td>в разводе</td>\n      <td>0.071249</td>\n    </tr>\n    <tr>\n      <td>2</td>\n      <td>женат / замужем</td>\n      <td>0.076942</td>\n    </tr>\n    <tr>\n      <td>3</td>\n      <td>гражданский брак</td>\n      <td>0.094106</td>\n    </tr>\n    <tr>\n      <td>4</td>\n      <td>Не женат / не замужем</td>\n      <td>0.098420</td>\n    </tr>\n  </tbody>\n</table>\n</div>"
     },
     "execution_count": 795,
     "metadata": {},
     "output_type": "execute_result"
    }
   ],
   "source": [
    "family_status_debt = research_data.pivot_table(index='family_status_id', values='debt')\n",
    "family_status_debt = family_status_dict.join(family_status_debt, on='family_status_id').sort_values(by='debt').reset_index(drop=True)\n",
    "family_status_debt[['family_status', 'debt']]"
   ]
  },
  {
   "cell_type": "code",
   "execution_count": 796,
   "outputs": [
    {
     "name": "stdout",
     "output_type": "stream",
     "text": [
      "Процент возврата кредита в зависимости от семейного положения\n",
      "____________\n",
      "вдовец / вдова                : 93.3%\n",
      "в разводе                     : 92.9%\n",
      "женат / замужем               : 92.3%\n",
      "гражданский брак              : 90.6%\n",
      "Не женат / не замужем         : 90.2%\n"
     ]
    }
   ],
   "source": [
    "print('Процент возврата кредита в зависимости от семейного положения')\n",
    "print('____________')\n",
    "for row in family_status_debt.itertuples():\n",
    "    print(f'{row[2]:<30}: {1 - row[3]:.1%}')"
   ],
   "metadata": {
    "collapsed": false,
    "pycharm": {
     "name": "#%%\n"
    }
   }
  },
  {
   "cell_type": "markdown",
   "metadata": {},
   "source": [
    "**Вывод**"
   ]
  },
  {
   "cell_type": "markdown",
   "metadata": {},
   "source": [
    "Исследование показало, что лучше всего возвращают кредит люди, у которых в прошлом был опыт семейной жизни - потерявшие вторую половину из-за смерти, а так же разведенные. Чуть хуже возвращают кредит те, кто находится в браке официально. И чаще всего проблемы с возвратом у банков возникают с теми, у кого нет печатей в паспорте."
   ]
  },
  {
   "cell_type": "markdown",
   "metadata": {},
   "source": [
    "- Есть ли зависимость между уровнем дохода и возвратом кредита в срок?"
   ]
  },
  {
   "cell_type": "code",
   "execution_count": 797,
   "metadata": {},
   "outputs": [
    {
     "data": {
      "text/plain": "    income_level      debt\n0        высокий  0.070484\n1         низкий  0.079165\n2  ниже среднего  0.087019\n3  выше среднего  0.088071\n4     нет данных  0.095130",
      "text/html": "<div>\n<style scoped>\n    .dataframe tbody tr th:only-of-type {\n        vertical-align: middle;\n    }\n\n    .dataframe tbody tr th {\n        vertical-align: top;\n    }\n\n    .dataframe thead th {\n        text-align: right;\n    }\n</style>\n<table border=\"1\" class=\"dataframe\">\n  <thead>\n    <tr style=\"text-align: right;\">\n      <th></th>\n      <th>income_level</th>\n      <th>debt</th>\n    </tr>\n  </thead>\n  <tbody>\n    <tr>\n      <td>0</td>\n      <td>высокий</td>\n      <td>0.070484</td>\n    </tr>\n    <tr>\n      <td>1</td>\n      <td>низкий</td>\n      <td>0.079165</td>\n    </tr>\n    <tr>\n      <td>2</td>\n      <td>ниже среднего</td>\n      <td>0.087019</td>\n    </tr>\n    <tr>\n      <td>3</td>\n      <td>выше среднего</td>\n      <td>0.088071</td>\n    </tr>\n    <tr>\n      <td>4</td>\n      <td>нет данных</td>\n      <td>0.095130</td>\n    </tr>\n  </tbody>\n</table>\n</div>"
     },
     "execution_count": 797,
     "metadata": {},
     "output_type": "execute_result"
    }
   ],
   "source": [
    "income_level_debt = research_data.pivot_table(index='income_level', values='debt')\n",
    "income_level_debt = income_level_debt.sort_values(by='debt').reset_index()\n",
    "income_level_debt"
   ]
  },
  {
   "cell_type": "code",
   "execution_count": 798,
   "outputs": [
    {
     "name": "stdout",
     "output_type": "stream",
     "text": [
      "Процент возврата кредита в зависимости от уровня дохода\n",
      "____________\n",
      "высокий                       : 93.0%\n",
      "низкий                        : 92.1%\n",
      "ниже среднего                 : 91.3%\n",
      "выше среднего                 : 91.2%\n",
      "нет данных                    : 90.5%\n"
     ]
    }
   ],
   "source": [
    "print('Процент возврата кредита в зависимости от уровня дохода')\n",
    "print('____________')\n",
    "for row in income_level_debt.itertuples():\n",
    "    print(f'{row[1]:<30}: {1 - row[2]:.1%}')"
   ],
   "metadata": {
    "collapsed": false,
    "pycharm": {
     "name": "#%%\n"
    }
   }
  },
  {
   "cell_type": "markdown",
   "source": [
    "**Вывод**"
   ],
   "metadata": {
    "collapsed": false
   }
  },
  {
   "cell_type": "markdown",
   "source": [
    "Лучше всего возвращают кредит люди с высоким уровнем дохода, что выглядит логичным. И неожиданно, что люди с низким доходом возвращают кредит лучше среднего показателя. Кроме того, кажется мы поступили правильно, сделав отдельную категорию для записей, где изначально не был указан доход. Вполне возможно, что это совсем не случайность и доход не был указан вполне осознанно."
   ],
   "metadata": {
    "collapsed": false,
    "pycharm": {
     "name": "#%% md\n"
    }
   }
  },
  {
   "cell_type": "markdown",
   "metadata": {},
   "source": [
    "- Как разные цели кредита влияют на его возврат в срок?"
   ]
  },
  {
   "cell_type": "code",
   "execution_count": 799,
   "metadata": {},
   "outputs": [
    {
     "data": {
      "text/plain": "       purpose      debt\n0      ипотека  0.073853\n1      свадьба  0.080659\n2  образование  0.093340\n3   автомобиль  0.094101",
      "text/html": "<div>\n<style scoped>\n    .dataframe tbody tr th:only-of-type {\n        vertical-align: middle;\n    }\n\n    .dataframe tbody tr th {\n        vertical-align: top;\n    }\n\n    .dataframe thead th {\n        text-align: right;\n    }\n</style>\n<table border=\"1\" class=\"dataframe\">\n  <thead>\n    <tr style=\"text-align: right;\">\n      <th></th>\n      <th>purpose</th>\n      <th>debt</th>\n    </tr>\n  </thead>\n  <tbody>\n    <tr>\n      <td>0</td>\n      <td>ипотека</td>\n      <td>0.073853</td>\n    </tr>\n    <tr>\n      <td>1</td>\n      <td>свадьба</td>\n      <td>0.080659</td>\n    </tr>\n    <tr>\n      <td>2</td>\n      <td>образование</td>\n      <td>0.093340</td>\n    </tr>\n    <tr>\n      <td>3</td>\n      <td>автомобиль</td>\n      <td>0.094101</td>\n    </tr>\n  </tbody>\n</table>\n</div>"
     },
     "execution_count": 799,
     "metadata": {},
     "output_type": "execute_result"
    }
   ],
   "source": [
    "purpose_debt = research_data.pivot_table(index='purpose', values='debt')\n",
    "purpose_debt = purpose_debt.sort_values(by='debt').reset_index()\n",
    "purpose_debt"
   ]
  },
  {
   "cell_type": "code",
   "execution_count": 800,
   "outputs": [
    {
     "name": "stdout",
     "output_type": "stream",
     "text": [
      "Процент возврата кредита в зависимости от его цели\n",
      "____________\n",
      "ипотека                       : 92.6%\n",
      "свадьба                       : 91.9%\n",
      "образование                   : 90.7%\n",
      "автомобиль                    : 90.6%\n"
     ]
    }
   ],
   "source": [
    "print('Процент возврата кредита в зависимости от его цели')\n",
    "print('____________')\n",
    "for row in purpose_debt.itertuples():\n",
    "    print(f'{row[1]:<30}: {1 - row[2]:.1%}')"
   ],
   "metadata": {
    "collapsed": false,
    "pycharm": {
     "name": "#%%\n"
    }
   }
  },
  {
   "cell_type": "markdown",
   "metadata": {},
   "source": [
    "**Вывод**"
   ]
  },
  {
   "cell_type": "markdown",
   "metadata": {},
   "source": [
    "Вполне ожидаемо, что просят ипотеку люди, у которых в прошлом не было проблем с выплатой кредитов. Потому что ипотечный кредит как правило самый крупный и заемщика будут рассматривать с особой тщательностью."
   ]
  },
  {
   "cell_type": "markdown",
   "metadata": {},
   "source": [
    "## Шаг 4. Общий вывод"
   ]
  },
  {
   "cell_type": "markdown",
   "metadata": {},
   "source": [
    "Средний процент людей, подавших заявку на кредит, у которых в прошлом не было проблем с его возвратом - 91.8%\n",
    "Самый надежный заемщик для банка, исходя из наших данных - вдова / вдовец без детей с высоким уровнем дохода, который берет ипотеку. Посмотрим, как много людей, которые подходят под все эти параметры"
   ]
  },
  {
   "cell_type": "code",
   "source": [
    "best_for_loan = (research_data[\n",
    "    (research_data['has_children'] == False) &\n",
    "    (research_data['income_level'] == 'высокий') &\n",
    "    (research_data['family_status_id'] == 2) &\n",
    "    (research_data['purpose'] == 'ипотека')\n",
    "])\n",
    "print(f\"Процент возврата кредита у лучшей категории заемщиков {1 - best_for_loan['debt'].sum() / len(best_for_loan):.1%}\")"
   ],
   "metadata": {
    "collapsed": false,
    "pycharm": {
     "name": "#%%\n"
    }
   },
   "execution_count": 801,
   "outputs": [
    {
     "name": "stdout",
     "output_type": "stream",
     "text": [
      "Процент возврата кредита у лучшей категории заемщиков 97.3%\n"
     ]
    }
   ]
  },
  {
   "cell_type": "markdown",
   "metadata": {},
   "source": [
    "## Чек-лист готовности проекта\n",
    "\n",
    "Поставьте 'x' в выполненных пунктах. Далее нажмите Shift+Enter."
   ]
  },
  {
   "cell_type": "markdown",
   "metadata": {
    "pycharm": {
     "name": "#%% md\n"
    }
   },
   "source": [
    "- [x]  открыт файл;\n",
    "- [x]  файл изучен;\n",
    "- [x]  определены пропущенные значения;\n",
    "- [x]  заполнены пропущенные значения;\n",
    "- [x]  есть пояснение, какие пропущенные значения обнаружены;\n",
    "- [x]  описаны возможные причины появления пропусков в данных;\n",
    "- [x]  объяснено, по какому принципу заполнены пропуски;\n",
    "- [x]  заменен вещественный тип данных на целочисленный;\n",
    "- [x]  есть пояснение, какой метод используется для изменения типа данных и почему;\n",
    "- [x]  удалены дубликаты;\n",
    "- [x]  есть пояснение, какой метод используется для поиска и удаления дубликатов;\n",
    "- [x]  описаны возможные причины появления дубликатов в данных;\n",
    "- [x]  выделены леммы в значениях столбца с целями получения кредита;\n",
    "- [x]  описан процесс лемматизации;\n",
    "- [x]  данные категоризированы;\n",
    "- [x]  есть объяснение принципа категоризации данных;\n",
    "- [x]  есть ответ на вопрос: \"Есть ли зависимость между наличием детей и возвратом кредита в срок?\";\n",
    "- [x]  есть ответ на вопрос: \"Есть ли зависимость между семейным положением и возвратом кредита в срок?\";\n",
    "- [x]  есть ответ на вопрос: \"Есть ли зависимость между уровнем дохода и возвратом кредита в срок?\";\n",
    "- [x]  есть ответ на вопрос: \"Как разные цели кредита влияют на его возврат в срок?\";\n",
    "- [x]  в каждом этапе есть выводы;\n",
    "- [x]  есть общий вывод."
   ]
  }
 ],
 "metadata": {
  "kernelspec": {
   "display_name": "Python 3",
   "language": "python",
   "name": "python3"
  },
  "language_info": {
   "codemirror_mode": {
    "name": "ipython",
    "version": 3
   },
   "file_extension": ".py",
   "mimetype": "text/x-python",
   "name": "python",
   "nbconvert_exporter": "python",
   "pygments_lexer": "ipython3",
   "version": "3.7.12"
  },
  "toc": {
   "base_numbering": 1,
   "nav_menu": {},
   "number_sections": true,
   "sideBar": true,
   "skip_h1_title": true,
   "title_cell": "Содержание",
   "title_sidebar": "Contents",
   "toc_cell": true,
   "toc_position": {},
   "toc_section_display": true,
   "toc_window_display": false
  }
 },
 "nbformat": 4,
 "nbformat_minor": 2
}