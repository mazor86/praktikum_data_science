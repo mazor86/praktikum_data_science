{
 "cells": [
  {
   "cell_type": "markdown",
   "metadata": {
    "toc": true
   },
   "source": [
    "<h1>Содержание<span class=\"tocSkip\"></span></h1>\n",
    "<div class=\"toc\"><ul class=\"toc-item\"><li><span><a href=\"#Изучение-данных-из-файла\" data-toc-modified-id=\"Изучение-данных-из-файла-1\"><span class=\"toc-item-num\">1&nbsp;&nbsp;</span>Изучение данных из файла</a></span><ul class=\"toc-item\"><li><span><a href=\"#Вывод\" data-toc-modified-id=\"Вывод-1.1\"><span class=\"toc-item-num\">1.1&nbsp;&nbsp;</span>Вывод</a></span></li></ul></li><li><span><a href=\"#Предобработка-данных\" data-toc-modified-id=\"Предобработка-данных-2\"><span class=\"toc-item-num\">2&nbsp;&nbsp;</span>Предобработка данных</a></span></li><li><span><a href=\"#Расчёты-и-добавление-результатов-в-таблицу\" data-toc-modified-id=\"Расчёты-и-добавление-результатов-в-таблицу-3\"><span class=\"toc-item-num\">3&nbsp;&nbsp;</span>Расчёты и добавление результатов в таблицу</a></span></li><li><span><a href=\"#Исследовательский-анализ-данных\" data-toc-modified-id=\"Исследовательский-анализ-данных-4\"><span class=\"toc-item-num\">4&nbsp;&nbsp;</span>Исследовательский анализ данных</a></span></li><li><span><a href=\"#Общий-вывод\" data-toc-modified-id=\"Общий-вывод-5\"><span class=\"toc-item-num\">5&nbsp;&nbsp;</span>Общий вывод</a></span></li><li><span><a href=\"#Чек-лист-готовности-проекта\" data-toc-modified-id=\"Чек-лист-готовности-проекта-6\"><span class=\"toc-item-num\">6&nbsp;&nbsp;</span>Чек-лист готовности проекта</a></span></li></ul></div>"
   ]
  },
  {
   "cell_type": "markdown",
   "metadata": {},
   "source": [
    "# Исследование объявлений о продаже квартир\n",
    "\n",
    "В вашем распоряжении данные сервиса Яндекс.Недвижимость — архив объявлений о продаже квартир в Санкт-Петербурге и соседних населённых пунктах за несколько лет. Нужно научиться определять рыночную стоимость объектов недвижимости. Ваша задача — установить параметры. Это позволит построить автоматизированную систему: она отследит аномалии и мошенническую деятельность. \n",
    "\n",
    "По каждой квартире на продажу доступны два вида данных. Первые вписаны пользователем, вторые получены автоматически на основе картографических данных. Например, расстояние до центра, аэропорта, ближайшего парка и водоёма. "
   ]
  },
  {
   "cell_type": "markdown",
   "metadata": {},
   "source": [
    "## Изучение данных из файла"
   ]
  },
  {
   "cell_type": "code",
   "execution_count": 1,
   "metadata": {},
   "outputs": [],
   "source": [
    "import pandas as pd\n",
    "import matplotlib.pyplot as plt"
   ]
  },
  {
   "cell_type": "code",
   "execution_count": 2,
   "outputs": [
    {
     "name": "stdout",
     "output_type": "stream",
     "text": [
      "<class 'pandas.core.frame.DataFrame'>\n",
      "RangeIndex: 23699 entries, 0 to 23698\n",
      "Data columns (total 22 columns):\n",
      "total_images            23699 non-null int64\n",
      "last_price              23699 non-null float64\n",
      "total_area              23699 non-null float64\n",
      "first_day_exposition    23699 non-null object\n",
      "rooms                   23699 non-null int64\n",
      "ceiling_height          14504 non-null float64\n",
      "floors_total            23613 non-null float64\n",
      "living_area             21796 non-null float64\n",
      "floor                   23699 non-null int64\n",
      "is_apartment            2775 non-null object\n",
      "studio                  23699 non-null bool\n",
      "open_plan               23699 non-null bool\n",
      "kitchen_area            21421 non-null float64\n",
      "balcony                 12180 non-null float64\n",
      "locality_name           23650 non-null object\n",
      "airports_nearest        18157 non-null float64\n",
      "cityCenters_nearest     18180 non-null float64\n",
      "parks_around3000        18181 non-null float64\n",
      "parks_nearest           8079 non-null float64\n",
      "ponds_around3000        18181 non-null float64\n",
      "ponds_nearest           9110 non-null float64\n",
      "days_exposition         20518 non-null float64\n",
      "dtypes: bool(2), float64(14), int64(3), object(3)\n",
      "memory usage: 3.7+ MB\n"
     ]
    }
   ],
   "source": [
    "try:\n",
    "    data = pd.read_csv('/datasets/real_estate_data.csv', sep='\\t')\n",
    "except IOError:\n",
    "    data = pd.read_csv('real_estate_data.csv', sep='\\t')\n",
    "\n",
    "data.info()"
   ],
   "metadata": {
    "collapsed": false,
    "pycharm": {
     "name": "#%%\n"
    }
   }
  },
  {
   "cell_type": "code",
   "execution_count": 3,
   "outputs": [
    {
     "data": {
      "text/plain": "   total_images  last_price  total_area first_day_exposition  rooms  \\\n0            20  13000000.0      108.00  2019-03-07T00:00:00      3   \n1             7   3350000.0       40.40  2018-12-04T00:00:00      1   \n2            10   5196000.0       56.00  2015-08-20T00:00:00      2   \n3             0  64900000.0      159.00  2015-07-24T00:00:00      3   \n4             2  10000000.0      100.00  2018-06-19T00:00:00      2   \n5            10   2890000.0       30.40  2018-09-10T00:00:00      1   \n6             6   3700000.0       37.30  2017-11-02T00:00:00      1   \n7             5   7915000.0       71.60  2019-04-18T00:00:00      2   \n8            20   2900000.0       33.16  2018-05-23T00:00:00      1   \n9            18   5400000.0       61.00  2017-02-26T00:00:00      3   \n\n   ceiling_height  floors_total  living_area  floor is_apartment  studio  \\\n0            2.70          16.0        51.00      8          NaN   False   \n1             NaN          11.0        18.60      1          NaN   False   \n2             NaN           5.0        34.30      4          NaN   False   \n3             NaN          14.0          NaN      9          NaN   False   \n4            3.03          14.0        32.00     13          NaN   False   \n5             NaN          12.0        14.40      5          NaN   False   \n6             NaN          26.0        10.60      6          NaN   False   \n7             NaN          24.0          NaN     22          NaN   False   \n8             NaN          27.0        15.43     26          NaN   False   \n9            2.50           9.0        43.60      7          NaN   False   \n\n   open_plan  kitchen_area  balcony              locality_name  \\\n0      False         25.00      NaN            Санкт-Петербург   \n1      False         11.00      2.0             посёлок Шушары   \n2      False          8.30      0.0            Санкт-Петербург   \n3      False           NaN      0.0            Санкт-Петербург   \n4      False         41.00      NaN            Санкт-Петербург   \n5      False          9.10      NaN  городской посёлок Янино-1   \n6      False         14.40      1.0          посёлок Парголово   \n7      False         18.90      2.0            Санкт-Петербург   \n8      False          8.81      NaN             посёлок Мурино   \n9      False          6.50      2.0            Санкт-Петербург   \n\n   airports_nearest  cityCenters_nearest  parks_around3000  parks_nearest  \\\n0           18863.0              16028.0               1.0          482.0   \n1           12817.0              18603.0               0.0            NaN   \n2           21741.0              13933.0               1.0           90.0   \n3           28098.0               6800.0               2.0           84.0   \n4           31856.0               8098.0               2.0          112.0   \n5               NaN                  NaN               NaN            NaN   \n6           52996.0              19143.0               0.0            NaN   \n7           23982.0              11634.0               0.0            NaN   \n8               NaN                  NaN               NaN            NaN   \n9           50898.0              15008.0               0.0            NaN   \n\n   ponds_around3000  ponds_nearest  days_exposition  \n0               2.0          755.0              NaN  \n1               0.0            NaN             81.0  \n2               2.0          574.0            558.0  \n3               3.0          234.0            424.0  \n4               1.0           48.0            121.0  \n5               NaN            NaN             55.0  \n6               0.0            NaN            155.0  \n7               0.0            NaN              NaN  \n8               NaN            NaN            189.0  \n9               0.0            NaN            289.0  ",
      "text/html": "<div>\n<style scoped>\n    .dataframe tbody tr th:only-of-type {\n        vertical-align: middle;\n    }\n\n    .dataframe tbody tr th {\n        vertical-align: top;\n    }\n\n    .dataframe thead th {\n        text-align: right;\n    }\n</style>\n<table border=\"1\" class=\"dataframe\">\n  <thead>\n    <tr style=\"text-align: right;\">\n      <th></th>\n      <th>total_images</th>\n      <th>last_price</th>\n      <th>total_area</th>\n      <th>first_day_exposition</th>\n      <th>rooms</th>\n      <th>ceiling_height</th>\n      <th>floors_total</th>\n      <th>living_area</th>\n      <th>floor</th>\n      <th>is_apartment</th>\n      <th>studio</th>\n      <th>open_plan</th>\n      <th>kitchen_area</th>\n      <th>balcony</th>\n      <th>locality_name</th>\n      <th>airports_nearest</th>\n      <th>cityCenters_nearest</th>\n      <th>parks_around3000</th>\n      <th>parks_nearest</th>\n      <th>ponds_around3000</th>\n      <th>ponds_nearest</th>\n      <th>days_exposition</th>\n    </tr>\n  </thead>\n  <tbody>\n    <tr>\n      <td>0</td>\n      <td>20</td>\n      <td>13000000.0</td>\n      <td>108.00</td>\n      <td>2019-03-07T00:00:00</td>\n      <td>3</td>\n      <td>2.70</td>\n      <td>16.0</td>\n      <td>51.00</td>\n      <td>8</td>\n      <td>NaN</td>\n      <td>False</td>\n      <td>False</td>\n      <td>25.00</td>\n      <td>NaN</td>\n      <td>Санкт-Петербург</td>\n      <td>18863.0</td>\n      <td>16028.0</td>\n      <td>1.0</td>\n      <td>482.0</td>\n      <td>2.0</td>\n      <td>755.0</td>\n      <td>NaN</td>\n    </tr>\n    <tr>\n      <td>1</td>\n      <td>7</td>\n      <td>3350000.0</td>\n      <td>40.40</td>\n      <td>2018-12-04T00:00:00</td>\n      <td>1</td>\n      <td>NaN</td>\n      <td>11.0</td>\n      <td>18.60</td>\n      <td>1</td>\n      <td>NaN</td>\n      <td>False</td>\n      <td>False</td>\n      <td>11.00</td>\n      <td>2.0</td>\n      <td>посёлок Шушары</td>\n      <td>12817.0</td>\n      <td>18603.0</td>\n      <td>0.0</td>\n      <td>NaN</td>\n      <td>0.0</td>\n      <td>NaN</td>\n      <td>81.0</td>\n    </tr>\n    <tr>\n      <td>2</td>\n      <td>10</td>\n      <td>5196000.0</td>\n      <td>56.00</td>\n      <td>2015-08-20T00:00:00</td>\n      <td>2</td>\n      <td>NaN</td>\n      <td>5.0</td>\n      <td>34.30</td>\n      <td>4</td>\n      <td>NaN</td>\n      <td>False</td>\n      <td>False</td>\n      <td>8.30</td>\n      <td>0.0</td>\n      <td>Санкт-Петербург</td>\n      <td>21741.0</td>\n      <td>13933.0</td>\n      <td>1.0</td>\n      <td>90.0</td>\n      <td>2.0</td>\n      <td>574.0</td>\n      <td>558.0</td>\n    </tr>\n    <tr>\n      <td>3</td>\n      <td>0</td>\n      <td>64900000.0</td>\n      <td>159.00</td>\n      <td>2015-07-24T00:00:00</td>\n      <td>3</td>\n      <td>NaN</td>\n      <td>14.0</td>\n      <td>NaN</td>\n      <td>9</td>\n      <td>NaN</td>\n      <td>False</td>\n      <td>False</td>\n      <td>NaN</td>\n      <td>0.0</td>\n      <td>Санкт-Петербург</td>\n      <td>28098.0</td>\n      <td>6800.0</td>\n      <td>2.0</td>\n      <td>84.0</td>\n      <td>3.0</td>\n      <td>234.0</td>\n      <td>424.0</td>\n    </tr>\n    <tr>\n      <td>4</td>\n      <td>2</td>\n      <td>10000000.0</td>\n      <td>100.00</td>\n      <td>2018-06-19T00:00:00</td>\n      <td>2</td>\n      <td>3.03</td>\n      <td>14.0</td>\n      <td>32.00</td>\n      <td>13</td>\n      <td>NaN</td>\n      <td>False</td>\n      <td>False</td>\n      <td>41.00</td>\n      <td>NaN</td>\n      <td>Санкт-Петербург</td>\n      <td>31856.0</td>\n      <td>8098.0</td>\n      <td>2.0</td>\n      <td>112.0</td>\n      <td>1.0</td>\n      <td>48.0</td>\n      <td>121.0</td>\n    </tr>\n    <tr>\n      <td>5</td>\n      <td>10</td>\n      <td>2890000.0</td>\n      <td>30.40</td>\n      <td>2018-09-10T00:00:00</td>\n      <td>1</td>\n      <td>NaN</td>\n      <td>12.0</td>\n      <td>14.40</td>\n      <td>5</td>\n      <td>NaN</td>\n      <td>False</td>\n      <td>False</td>\n      <td>9.10</td>\n      <td>NaN</td>\n      <td>городской посёлок Янино-1</td>\n      <td>NaN</td>\n      <td>NaN</td>\n      <td>NaN</td>\n      <td>NaN</td>\n      <td>NaN</td>\n      <td>NaN</td>\n      <td>55.0</td>\n    </tr>\n    <tr>\n      <td>6</td>\n      <td>6</td>\n      <td>3700000.0</td>\n      <td>37.30</td>\n      <td>2017-11-02T00:00:00</td>\n      <td>1</td>\n      <td>NaN</td>\n      <td>26.0</td>\n      <td>10.60</td>\n      <td>6</td>\n      <td>NaN</td>\n      <td>False</td>\n      <td>False</td>\n      <td>14.40</td>\n      <td>1.0</td>\n      <td>посёлок Парголово</td>\n      <td>52996.0</td>\n      <td>19143.0</td>\n      <td>0.0</td>\n      <td>NaN</td>\n      <td>0.0</td>\n      <td>NaN</td>\n      <td>155.0</td>\n    </tr>\n    <tr>\n      <td>7</td>\n      <td>5</td>\n      <td>7915000.0</td>\n      <td>71.60</td>\n      <td>2019-04-18T00:00:00</td>\n      <td>2</td>\n      <td>NaN</td>\n      <td>24.0</td>\n      <td>NaN</td>\n      <td>22</td>\n      <td>NaN</td>\n      <td>False</td>\n      <td>False</td>\n      <td>18.90</td>\n      <td>2.0</td>\n      <td>Санкт-Петербург</td>\n      <td>23982.0</td>\n      <td>11634.0</td>\n      <td>0.0</td>\n      <td>NaN</td>\n      <td>0.0</td>\n      <td>NaN</td>\n      <td>NaN</td>\n    </tr>\n    <tr>\n      <td>8</td>\n      <td>20</td>\n      <td>2900000.0</td>\n      <td>33.16</td>\n      <td>2018-05-23T00:00:00</td>\n      <td>1</td>\n      <td>NaN</td>\n      <td>27.0</td>\n      <td>15.43</td>\n      <td>26</td>\n      <td>NaN</td>\n      <td>False</td>\n      <td>False</td>\n      <td>8.81</td>\n      <td>NaN</td>\n      <td>посёлок Мурино</td>\n      <td>NaN</td>\n      <td>NaN</td>\n      <td>NaN</td>\n      <td>NaN</td>\n      <td>NaN</td>\n      <td>NaN</td>\n      <td>189.0</td>\n    </tr>\n    <tr>\n      <td>9</td>\n      <td>18</td>\n      <td>5400000.0</td>\n      <td>61.00</td>\n      <td>2017-02-26T00:00:00</td>\n      <td>3</td>\n      <td>2.50</td>\n      <td>9.0</td>\n      <td>43.60</td>\n      <td>7</td>\n      <td>NaN</td>\n      <td>False</td>\n      <td>False</td>\n      <td>6.50</td>\n      <td>2.0</td>\n      <td>Санкт-Петербург</td>\n      <td>50898.0</td>\n      <td>15008.0</td>\n      <td>0.0</td>\n      <td>NaN</td>\n      <td>0.0</td>\n      <td>NaN</td>\n      <td>289.0</td>\n    </tr>\n  </tbody>\n</table>\n</div>"
     },
     "execution_count": 3,
     "metadata": {},
     "output_type": "execute_result"
    }
   ],
   "source": [
    "pd.set_option('display.max_columns', None)\n",
    "data.head(10)"
   ],
   "metadata": {
    "collapsed": false,
    "pycharm": {
     "name": "#%%\n"
    }
   }
  },
  {
   "cell_type": "code",
   "execution_count": null,
   "outputs": [],
   "source": [],
   "metadata": {
    "collapsed": false,
    "pycharm": {
     "name": "#%%\n"
    }
   }
  },
  {
   "cell_type": "markdown",
   "metadata": {},
   "source": [
    "### Вывод"
   ]
  },
  {
   "cell_type": "markdown",
   "metadata": {},
   "source": [
    "Первое, что стоит отметить, это то, что разделить в csv-файле - знак табуляции.\n",
    "Сам файл содержит 23699 объявлений о продаже квартир и соответственно такое же количество строк. Каждая строка содержит 22 столбца, которые характеризуют квартиры из объявлений.\n",
    "Сразу заметно, что данные нуждаются в обработке. Есть много столбцов с пропусками, некоторые столбцы требуют изменения типа данных. Возможно есть какие-то другие проблемы с данными, исследуем это подробнее."
   ]
  },
  {
   "cell_type": "markdown",
   "metadata": {},
   "source": [
    "## Предобработка данных"
   ]
  },
  {
   "cell_type": "markdown",
   "source": [
    "### Изменение названий столбцов"
   ],
   "metadata": {
    "collapsed": false,
    "pycharm": {
     "name": "#%% md\n"
    }
   }
  },
  {
   "cell_type": "markdown",
   "source": [
    "Из `info()` видно, что стобцы `cityCenters_nearest`, `parks_around3000`, `ponds_around3000` не соответствуют стилю `snake_case`.\n",
    "Исправим это."
   ],
   "metadata": {
    "collapsed": false,
    "pycharm": {
     "name": "#%% md\n"
    }
   }
  },
  {
   "cell_type": "code",
   "execution_count": 14,
   "outputs": [
    {
     "name": "stdout",
     "output_type": "stream",
     "text": [
      "<class 'pandas.core.frame.DataFrame'>\n",
      "RangeIndex: 23699 entries, 0 to 23698\n",
      "Data columns (total 22 columns):\n",
      "total_images            23699 non-null int64\n",
      "last_price              23699 non-null float64\n",
      "total_area              23699 non-null float64\n",
      "first_day_exposition    23699 non-null object\n",
      "rooms                   23699 non-null int64\n",
      "ceiling_height          14504 non-null float64\n",
      "floors_total            23613 non-null float64\n",
      "living_area             21796 non-null float64\n",
      "floor                   23699 non-null int64\n",
      "is_apartment            2775 non-null object\n",
      "studio                  23699 non-null bool\n",
      "open_plan               23699 non-null bool\n",
      "kitchen_area            21421 non-null float64\n",
      "balcony                 12180 non-null float64\n",
      "locality_name           23650 non-null object\n",
      "airports_nearest        18157 non-null float64\n",
      "city_centers_nearest    18180 non-null float64\n",
      "parks_around_3000       18181 non-null float64\n",
      "parks_nearest           8079 non-null float64\n",
      "ponds_around_3000       18181 non-null float64\n",
      "ponds_nearest           9110 non-null float64\n",
      "days_exposition         20518 non-null float64\n",
      "dtypes: bool(2), float64(14), int64(3), object(3)\n",
      "memory usage: 3.7+ MB\n"
     ]
    }
   ],
   "source": [
    "data = data.rename(columns={\n",
    "    'cityCenters_nearest': 'city_centers_nearest',\n",
    "    'parks_around3000': 'parks_around_3000',\n",
    "    'ponds_around3000': 'ponds_around_3000'})\n",
    "data.info()"
   ],
   "metadata": {
    "collapsed": false,
    "pycharm": {
     "name": "#%%\n"
    }
   }
  },
  {
   "cell_type": "markdown",
   "source": [
    "### Обработка пропусков"
   ],
   "metadata": {
    "collapsed": false,
    "pycharm": {
     "name": "#%% md\n"
    }
   }
  },
  {
   "cell_type": "markdown",
   "source": [
    "Пропуски есть в следующих столбцах:"
   ],
   "metadata": {
    "collapsed": false,
    "pycharm": {
     "name": "#%% md\n"
    }
   }
  },
  {
   "cell_type": "code",
   "execution_count": 16,
   "outputs": [
    {
     "name": "stdout",
     "output_type": "stream",
     "text": [
      "ceiling_height                : 9195\n",
      "floors_total                  : 86\n",
      "living_area                   : 1903\n",
      "is_apartment                  : 20924\n",
      "kitchen_area                  : 2278\n",
      "balcony                       : 11519\n",
      "locality_name                 : 49\n",
      "airports_nearest              : 5542\n",
      "city_centers_nearest          : 5519\n",
      "parks_around_3000             : 5518\n",
      "parks_nearest                 : 15620\n",
      "ponds_around_3000             : 5518\n",
      "ponds_nearest                 : 14589\n",
      "days_exposition               : 3181\n"
     ]
    }
   ],
   "source": [
    "for column in data.columns:\n",
    "    is_null = data[column].isna().sum()\n",
    "    if is_null:\n",
    "        print(f\"{column:<30}: {is_null}\")"
   ],
   "metadata": {
    "collapsed": false,
    "pycharm": {
     "name": "#%%\n"
    }
   }
  },
  {
   "cell_type": "markdown",
   "source": [
    "#### Название населенного пункта `locality_name`"
   ],
   "metadata": {
    "collapsed": false,
    "pycharm": {
     "name": "#%% md\n"
    }
   }
  },
  {
   "cell_type": "markdown",
   "source": [
    "Создадим датафрейм, в котором строки с пропущеными названия населенных пунктов и столбцы, которые характеризуют их относительное географическое положение:"
   ],
   "metadata": {
    "collapsed": false,
    "pycharm": {
     "name": "#%% md\n"
    }
   }
  },
  {
   "cell_type": "code",
   "execution_count": 19,
   "outputs": [],
   "source": [
    "empty_locality_name = data.loc[\n",
    "    data['locality_name'].isna(), [\n",
    "            'airports_nearest',\n",
    "            'city_centers_nearest',\n",
    "            'parks_around_3000',\n",
    "            'parks_nearest',\n",
    "            'ponds_around_3000',\n",
    "            'ponds_nearest']]"
   ],
   "metadata": {
    "collapsed": false,
    "pycharm": {
     "name": "#%%\n"
    }
   }
  },
  {
   "cell_type": "markdown",
   "source": [
    "А теперь сводную таблицу по `locality_name` и среднему расстоянию до географических ориентиров:"
   ],
   "metadata": {
    "collapsed": false,
    "pycharm": {
     "name": "#%% md\n"
    }
   }
  },
  {
   "cell_type": "code",
   "execution_count": 27,
   "outputs": [],
   "source": [
    "pivot_locality_geography = data.pivot_table(\n",
    "    index='locality_name',\n",
    "    values=[\n",
    "        'airports_nearest',\n",
    "        'city_centers_nearest',\n",
    "        'parks_around_3000',\n",
    "        'parks_nearest',\n",
    "        'ponds_around_3000',\n",
    "        'ponds_nearest'])"
   ],
   "metadata": {
    "collapsed": false,
    "pycharm": {
     "name": "#%%\n"
    }
   }
  },
  {
   "cell_type": "markdown",
   "source": [
    "Выведем эти таблицы, отсортировав для начала по расстоянию до аэропорта"
   ],
   "metadata": {
    "collapsed": false,
    "pycharm": {
     "name": "#%% md\n"
    }
   }
  },
  {
   "cell_type": "code",
   "execution_count": 29,
   "outputs": [
    {
     "data": {
      "text/plain": "                         airports_nearest  city_centers_nearest  \\\nlocality_name                                                     \nпосёлок Александровская      12896.500000          27468.000000   \nпосёлок Шушары               16061.458716          24243.387615   \nПушкин                       16447.869919          28745.375000   \nпосёлок Петро-Славянка       20605.000000          27165.000000   \nПавловск                     21053.342105          33206.921053   \nпосёлок Металлострой         25726.484848          27561.348485   \nКолпино                      26375.863501          32113.771513   \nпосёлок Усть-Ижора           26510.500000          28222.500000   \nКрасное Село                 26595.579545          30020.284091   \nСанкт-Петербург              28046.186237          11601.291571   \nпосёлок Стрельна             28148.363636          23376.113636   \nпосёлок Понтонный            30581.400000          32293.450000   \nпосёлок Сапёрный             34142.666667          35854.666667   \nПетергоф                     40184.676617          35468.925373   \nЛомоносов                    48308.280303          50739.969697   \nпоселок Мурино               51553.000000          21888.000000   \nпосёлок Левашово             52693.000000          25727.000000   \nпосёлок Парголово            53994.926606          19924.776758   \nпосёлок Песочный             54565.500000          26475.250000   \nпосёлок Лисий Нос            54988.500000          27297.000000   \nпоселок Лисий Нос            55930.000000          28246.000000   \nСестрорецк                   56640.486339          34624.480874   \nпосёлок Белоостров           57769.000000          38868.000000   \nпосёлок Щеглово              61908.000000          34085.000000   \nпосёлок Репино               62293.250000          43392.250000   \nКронштадт                    67469.263158          49195.726316   \nЗеленогорск                  73300.250000          54617.583333   \nпосёлок Молодёжное           84430.200000          65529.200000   \n\n                         parks_around_3000  parks_nearest  ponds_around_3000  \\\nlocality_name                                                                  \nпосёлок Александровская           0.000000            NaN           1.000000   \nпосёлок Шушары                    0.000000            NaN           0.348624   \nПушкин                            0.747967     404.297170           0.872629   \nпосёлок Петро-Славянка            0.000000            NaN           2.000000   \nПавловск                          1.552632     379.538462           1.842105   \nпосёлок Металлострой              0.000000            NaN           0.000000   \nКолпино                           0.522255     495.481203           0.997033   \nпосёлок Усть-Ижора                0.000000            NaN           0.000000   \nКрасное Село                      0.494318     466.086957           0.090909   \nСанкт-Петербург                   0.627586     498.597886           0.770434   \nпосёлок Стрельна                  0.704545     580.157895           1.045455   \nпосёлок Понтонный                 0.000000            NaN           0.350000   \nпосёлок Сапёрный                  0.000000            NaN           1.000000   \nПетергоф                          1.338308     419.559441           1.308458   \nЛомоносов                         0.242424     389.062500           1.128788   \nпоселок Мурино                    0.000000            NaN           2.000000   \nпосёлок Левашово                  0.000000            NaN           0.000000   \nпосёлок Парголово                 0.030581     501.100000           0.290520   \nпосёлок Песочный                  0.000000            NaN           0.000000   \nпосёлок Лисий Нос                 0.000000            NaN           0.000000   \nпоселок Лисий Нос                 0.000000            NaN           0.000000   \nСестрорецк                        0.601093     409.583333           1.207650   \nпосёлок Белоостров                0.000000            NaN           1.000000   \nпосёлок Щеглово                   0.000000            NaN           0.000000   \nпосёлок Репино                    0.000000            NaN           0.000000   \nКронштадт                         1.789474     324.574713           1.936842   \nЗеленогорск                       1.916667     210.625000           0.875000   \nпосёлок Молодёжное                0.000000            NaN           0.000000   \n\n                         ponds_nearest  \nlocality_name                           \nпосёлок Александровская     711.500000  \nпосёлок Шушары              573.217105  \nПушкин                      482.988701  \nпосёлок Петро-Славянка      663.000000  \nПавловск                    493.382353  \nпосёлок Металлострой               NaN  \nКолпино                     532.268421  \nпосёлок Усть-Ижора                 NaN  \nКрасное Село                445.500000  \nСанкт-Петербург             520.213955  \nпосёлок Стрельна            741.875000  \nпосёлок Понтонный           589.857143  \nпосёлок Сапёрный            426.833333  \nПетергоф                    513.367521  \nЛомоносов                   550.048193  \nпоселок Мурино              133.000000  \nпосёлок Левашово                   NaN  \nпосёлок Парголово           598.071429  \nпосёлок Песочный                   NaN  \nпосёлок Лисий Нос                  NaN  \nпоселок Лисий Нос                  NaN  \nСестрорецк                  397.977778  \nпосёлок Белоостров          320.000000  \nпосёлок Щеглово                    NaN  \nпосёлок Репино                     NaN  \nКронштадт                   343.413793  \nЗеленогорск                 485.888889  \nпосёлок Молодёжное                 NaN  ",
      "text/html": "<div>\n<style scoped>\n    .dataframe tbody tr th:only-of-type {\n        vertical-align: middle;\n    }\n\n    .dataframe tbody tr th {\n        vertical-align: top;\n    }\n\n    .dataframe thead th {\n        text-align: right;\n    }\n</style>\n<table border=\"1\" class=\"dataframe\">\n  <thead>\n    <tr style=\"text-align: right;\">\n      <th></th>\n      <th>airports_nearest</th>\n      <th>city_centers_nearest</th>\n      <th>parks_around_3000</th>\n      <th>parks_nearest</th>\n      <th>ponds_around_3000</th>\n      <th>ponds_nearest</th>\n    </tr>\n    <tr>\n      <th>locality_name</th>\n      <th></th>\n      <th></th>\n      <th></th>\n      <th></th>\n      <th></th>\n      <th></th>\n    </tr>\n  </thead>\n  <tbody>\n    <tr>\n      <td>посёлок Александровская</td>\n      <td>12896.500000</td>\n      <td>27468.000000</td>\n      <td>0.000000</td>\n      <td>NaN</td>\n      <td>1.000000</td>\n      <td>711.500000</td>\n    </tr>\n    <tr>\n      <td>посёлок Шушары</td>\n      <td>16061.458716</td>\n      <td>24243.387615</td>\n      <td>0.000000</td>\n      <td>NaN</td>\n      <td>0.348624</td>\n      <td>573.217105</td>\n    </tr>\n    <tr>\n      <td>Пушкин</td>\n      <td>16447.869919</td>\n      <td>28745.375000</td>\n      <td>0.747967</td>\n      <td>404.297170</td>\n      <td>0.872629</td>\n      <td>482.988701</td>\n    </tr>\n    <tr>\n      <td>посёлок Петро-Славянка</td>\n      <td>20605.000000</td>\n      <td>27165.000000</td>\n      <td>0.000000</td>\n      <td>NaN</td>\n      <td>2.000000</td>\n      <td>663.000000</td>\n    </tr>\n    <tr>\n      <td>Павловск</td>\n      <td>21053.342105</td>\n      <td>33206.921053</td>\n      <td>1.552632</td>\n      <td>379.538462</td>\n      <td>1.842105</td>\n      <td>493.382353</td>\n    </tr>\n    <tr>\n      <td>посёлок Металлострой</td>\n      <td>25726.484848</td>\n      <td>27561.348485</td>\n      <td>0.000000</td>\n      <td>NaN</td>\n      <td>0.000000</td>\n      <td>NaN</td>\n    </tr>\n    <tr>\n      <td>Колпино</td>\n      <td>26375.863501</td>\n      <td>32113.771513</td>\n      <td>0.522255</td>\n      <td>495.481203</td>\n      <td>0.997033</td>\n      <td>532.268421</td>\n    </tr>\n    <tr>\n      <td>посёлок Усть-Ижора</td>\n      <td>26510.500000</td>\n      <td>28222.500000</td>\n      <td>0.000000</td>\n      <td>NaN</td>\n      <td>0.000000</td>\n      <td>NaN</td>\n    </tr>\n    <tr>\n      <td>Красное Село</td>\n      <td>26595.579545</td>\n      <td>30020.284091</td>\n      <td>0.494318</td>\n      <td>466.086957</td>\n      <td>0.090909</td>\n      <td>445.500000</td>\n    </tr>\n    <tr>\n      <td>Санкт-Петербург</td>\n      <td>28046.186237</td>\n      <td>11601.291571</td>\n      <td>0.627586</td>\n      <td>498.597886</td>\n      <td>0.770434</td>\n      <td>520.213955</td>\n    </tr>\n    <tr>\n      <td>посёлок Стрельна</td>\n      <td>28148.363636</td>\n      <td>23376.113636</td>\n      <td>0.704545</td>\n      <td>580.157895</td>\n      <td>1.045455</td>\n      <td>741.875000</td>\n    </tr>\n    <tr>\n      <td>посёлок Понтонный</td>\n      <td>30581.400000</td>\n      <td>32293.450000</td>\n      <td>0.000000</td>\n      <td>NaN</td>\n      <td>0.350000</td>\n      <td>589.857143</td>\n    </tr>\n    <tr>\n      <td>посёлок Сапёрный</td>\n      <td>34142.666667</td>\n      <td>35854.666667</td>\n      <td>0.000000</td>\n      <td>NaN</td>\n      <td>1.000000</td>\n      <td>426.833333</td>\n    </tr>\n    <tr>\n      <td>Петергоф</td>\n      <td>40184.676617</td>\n      <td>35468.925373</td>\n      <td>1.338308</td>\n      <td>419.559441</td>\n      <td>1.308458</td>\n      <td>513.367521</td>\n    </tr>\n    <tr>\n      <td>Ломоносов</td>\n      <td>48308.280303</td>\n      <td>50739.969697</td>\n      <td>0.242424</td>\n      <td>389.062500</td>\n      <td>1.128788</td>\n      <td>550.048193</td>\n    </tr>\n    <tr>\n      <td>поселок Мурино</td>\n      <td>51553.000000</td>\n      <td>21888.000000</td>\n      <td>0.000000</td>\n      <td>NaN</td>\n      <td>2.000000</td>\n      <td>133.000000</td>\n    </tr>\n    <tr>\n      <td>посёлок Левашово</td>\n      <td>52693.000000</td>\n      <td>25727.000000</td>\n      <td>0.000000</td>\n      <td>NaN</td>\n      <td>0.000000</td>\n      <td>NaN</td>\n    </tr>\n    <tr>\n      <td>посёлок Парголово</td>\n      <td>53994.926606</td>\n      <td>19924.776758</td>\n      <td>0.030581</td>\n      <td>501.100000</td>\n      <td>0.290520</td>\n      <td>598.071429</td>\n    </tr>\n    <tr>\n      <td>посёлок Песочный</td>\n      <td>54565.500000</td>\n      <td>26475.250000</td>\n      <td>0.000000</td>\n      <td>NaN</td>\n      <td>0.000000</td>\n      <td>NaN</td>\n    </tr>\n    <tr>\n      <td>посёлок Лисий Нос</td>\n      <td>54988.500000</td>\n      <td>27297.000000</td>\n      <td>0.000000</td>\n      <td>NaN</td>\n      <td>0.000000</td>\n      <td>NaN</td>\n    </tr>\n    <tr>\n      <td>поселок Лисий Нос</td>\n      <td>55930.000000</td>\n      <td>28246.000000</td>\n      <td>0.000000</td>\n      <td>NaN</td>\n      <td>0.000000</td>\n      <td>NaN</td>\n    </tr>\n    <tr>\n      <td>Сестрорецк</td>\n      <td>56640.486339</td>\n      <td>34624.480874</td>\n      <td>0.601093</td>\n      <td>409.583333</td>\n      <td>1.207650</td>\n      <td>397.977778</td>\n    </tr>\n    <tr>\n      <td>посёлок Белоостров</td>\n      <td>57769.000000</td>\n      <td>38868.000000</td>\n      <td>0.000000</td>\n      <td>NaN</td>\n      <td>1.000000</td>\n      <td>320.000000</td>\n    </tr>\n    <tr>\n      <td>посёлок Щеглово</td>\n      <td>61908.000000</td>\n      <td>34085.000000</td>\n      <td>0.000000</td>\n      <td>NaN</td>\n      <td>0.000000</td>\n      <td>NaN</td>\n    </tr>\n    <tr>\n      <td>посёлок Репино</td>\n      <td>62293.250000</td>\n      <td>43392.250000</td>\n      <td>0.000000</td>\n      <td>NaN</td>\n      <td>0.000000</td>\n      <td>NaN</td>\n    </tr>\n    <tr>\n      <td>Кронштадт</td>\n      <td>67469.263158</td>\n      <td>49195.726316</td>\n      <td>1.789474</td>\n      <td>324.574713</td>\n      <td>1.936842</td>\n      <td>343.413793</td>\n    </tr>\n    <tr>\n      <td>Зеленогорск</td>\n      <td>73300.250000</td>\n      <td>54617.583333</td>\n      <td>1.916667</td>\n      <td>210.625000</td>\n      <td>0.875000</td>\n      <td>485.888889</td>\n    </tr>\n    <tr>\n      <td>посёлок Молодёжное</td>\n      <td>84430.200000</td>\n      <td>65529.200000</td>\n      <td>0.000000</td>\n      <td>NaN</td>\n      <td>0.000000</td>\n      <td>NaN</td>\n    </tr>\n  </tbody>\n</table>\n</div>"
     },
     "execution_count": 29,
     "metadata": {},
     "output_type": "execute_result"
    }
   ],
   "source": [
    "pivot_locality_geography.sort_values(by='airports_nearest')"
   ],
   "metadata": {
    "collapsed": false,
    "pycharm": {
     "name": "#%%\n"
    }
   }
  },
  {
   "cell_type": "code",
   "execution_count": 30,
   "outputs": [
    {
     "data": {
      "text/plain": "       airports_nearest  city_centers_nearest  parks_around_3000  \\\n5343            10556.0                9538.0                1.0   \n23214           11206.0                8943.0                0.0   \n18526           11206.0                8943.0                0.0   \n7114            14031.0                8582.0                0.0   \n8986            19659.0               31813.0                0.0   \n21119           19744.0               31897.0                0.0   \n13690           20234.0               23659.0                0.0   \n16610           21219.0                1322.0                1.0   \n5707            21460.0               16788.0                0.0   \n18917           21540.0                8429.0                0.0   \n19045           21654.0                3312.0                1.0   \n16561           21731.0                8619.0                0.0   \n4189            21774.0                3039.0                1.0   \n16499           22041.0               17369.0                0.0   \n14273           22041.0               17369.0                0.0   \n19972           22041.0               17369.0                0.0   \n22933           22041.0               17369.0                0.0   \n13223           22041.0               17369.0                0.0   \n2603            22041.0               17369.0                0.0   \n6765            22041.0               17369.0                0.0   \n2632            22041.0               17369.0                0.0   \n22474           23297.0                1780.0                3.0   \n1097            23478.0                4258.0                0.0   \n20057           23478.0                4258.0                0.0   \n8568            24233.0                4065.0                1.0   \n20654           24385.0                4604.0                1.0   \n9821            24953.0                3801.0                1.0   \n4151            25054.0                3902.0                1.0   \n11248           25221.0                4069.0                0.0   \n12936           25680.0                4383.0                3.0   \n10122           25771.0                4474.0                2.0   \n7330            25925.0                4627.0                2.0   \n21333           26090.0                4805.0                0.0   \n4670            26534.0                5382.0                1.0   \n3574            27419.0                8127.0                0.0   \n15686           35920.0                9633.0                2.0   \n15866           36380.0                9497.0                1.0   \n17764           36865.0               10976.0                0.0   \n7600            37123.0               12332.0                0.0   \n12879           37123.0               12332.0                0.0   \n21276           60195.0               41294.0                0.0   \n2033                NaN                   NaN                NaN   \n14342               NaN                   NaN                NaN   \n17535               NaN                   NaN                NaN   \n20382               NaN                   NaN                NaN   \n20590               NaN                   NaN                NaN   \n21715               NaN                   NaN                NaN   \n21898               NaN                   NaN                NaN   \n22717               NaN                   NaN                NaN   \n\n       parks_nearest  ponds_around_3000  ponds_nearest  \n5343            67.0                0.0            NaN  \n23214            NaN                0.0            NaN  \n18526            NaN                0.0            NaN  \n7114             NaN                0.0            NaN  \n8986             NaN                0.0            NaN  \n21119            NaN                0.0            NaN  \n13690            NaN                2.0          296.0  \n16610          740.0                3.0          365.0  \n5707             NaN                1.0          170.0  \n18917            NaN                3.0          142.0  \n19045          549.0                1.0          858.0  \n16561            NaN                3.0          162.0  \n4189           690.0                1.0          953.0  \n16499            NaN                1.0          374.0  \n14273            NaN                1.0          374.0  \n19972            NaN                1.0          374.0  \n22933            NaN                1.0          374.0  \n13223            NaN                1.0          374.0  \n2603             NaN                1.0          374.0  \n6765             NaN                1.0          374.0  \n2632             NaN                1.0          374.0  \n22474          277.0                3.0          561.0  \n1097             NaN                0.0            NaN  \n20057            NaN                0.0            NaN  \n8568           547.0                0.0            NaN  \n20654          700.0                0.0            NaN  \n9821           375.0                2.0          532.0  \n4151           485.0                3.0          722.0  \n11248            NaN                2.0          653.0  \n12936          336.0                0.0            NaN  \n10122          374.0                0.0            NaN  \n7330           459.0                0.0            NaN  \n21333            NaN                1.0          943.0  \n4670           446.0                1.0          376.0  \n3574             NaN                1.0          603.0  \n15686          472.0                3.0          535.0  \n15866          634.0                3.0          513.0  \n17764            NaN                1.0          856.0  \n7600             NaN                0.0            NaN  \n12879            NaN                0.0            NaN  \n21276            NaN                0.0            NaN  \n2033             NaN                NaN            NaN  \n14342            NaN                NaN            NaN  \n17535            NaN                NaN            NaN  \n20382            NaN                NaN            NaN  \n20590            NaN                NaN            NaN  \n21715            NaN                NaN            NaN  \n21898            NaN                NaN            NaN  \n22717            NaN                NaN            NaN  ",
      "text/html": "<div>\n<style scoped>\n    .dataframe tbody tr th:only-of-type {\n        vertical-align: middle;\n    }\n\n    .dataframe tbody tr th {\n        vertical-align: top;\n    }\n\n    .dataframe thead th {\n        text-align: right;\n    }\n</style>\n<table border=\"1\" class=\"dataframe\">\n  <thead>\n    <tr style=\"text-align: right;\">\n      <th></th>\n      <th>airports_nearest</th>\n      <th>city_centers_nearest</th>\n      <th>parks_around_3000</th>\n      <th>parks_nearest</th>\n      <th>ponds_around_3000</th>\n      <th>ponds_nearest</th>\n    </tr>\n  </thead>\n  <tbody>\n    <tr>\n      <td>5343</td>\n      <td>10556.0</td>\n      <td>9538.0</td>\n      <td>1.0</td>\n      <td>67.0</td>\n      <td>0.0</td>\n      <td>NaN</td>\n    </tr>\n    <tr>\n      <td>23214</td>\n      <td>11206.0</td>\n      <td>8943.0</td>\n      <td>0.0</td>\n      <td>NaN</td>\n      <td>0.0</td>\n      <td>NaN</td>\n    </tr>\n    <tr>\n      <td>18526</td>\n      <td>11206.0</td>\n      <td>8943.0</td>\n      <td>0.0</td>\n      <td>NaN</td>\n      <td>0.0</td>\n      <td>NaN</td>\n    </tr>\n    <tr>\n      <td>7114</td>\n      <td>14031.0</td>\n      <td>8582.0</td>\n      <td>0.0</td>\n      <td>NaN</td>\n      <td>0.0</td>\n      <td>NaN</td>\n    </tr>\n    <tr>\n      <td>8986</td>\n      <td>19659.0</td>\n      <td>31813.0</td>\n      <td>0.0</td>\n      <td>NaN</td>\n      <td>0.0</td>\n      <td>NaN</td>\n    </tr>\n    <tr>\n      <td>21119</td>\n      <td>19744.0</td>\n      <td>31897.0</td>\n      <td>0.0</td>\n      <td>NaN</td>\n      <td>0.0</td>\n      <td>NaN</td>\n    </tr>\n    <tr>\n      <td>13690</td>\n      <td>20234.0</td>\n      <td>23659.0</td>\n      <td>0.0</td>\n      <td>NaN</td>\n      <td>2.0</td>\n      <td>296.0</td>\n    </tr>\n    <tr>\n      <td>16610</td>\n      <td>21219.0</td>\n      <td>1322.0</td>\n      <td>1.0</td>\n      <td>740.0</td>\n      <td>3.0</td>\n      <td>365.0</td>\n    </tr>\n    <tr>\n      <td>5707</td>\n      <td>21460.0</td>\n      <td>16788.0</td>\n      <td>0.0</td>\n      <td>NaN</td>\n      <td>1.0</td>\n      <td>170.0</td>\n    </tr>\n    <tr>\n      <td>18917</td>\n      <td>21540.0</td>\n      <td>8429.0</td>\n      <td>0.0</td>\n      <td>NaN</td>\n      <td>3.0</td>\n      <td>142.0</td>\n    </tr>\n    <tr>\n      <td>19045</td>\n      <td>21654.0</td>\n      <td>3312.0</td>\n      <td>1.0</td>\n      <td>549.0</td>\n      <td>1.0</td>\n      <td>858.0</td>\n    </tr>\n    <tr>\n      <td>16561</td>\n      <td>21731.0</td>\n      <td>8619.0</td>\n      <td>0.0</td>\n      <td>NaN</td>\n      <td>3.0</td>\n      <td>162.0</td>\n    </tr>\n    <tr>\n      <td>4189</td>\n      <td>21774.0</td>\n      <td>3039.0</td>\n      <td>1.0</td>\n      <td>690.0</td>\n      <td>1.0</td>\n      <td>953.0</td>\n    </tr>\n    <tr>\n      <td>16499</td>\n      <td>22041.0</td>\n      <td>17369.0</td>\n      <td>0.0</td>\n      <td>NaN</td>\n      <td>1.0</td>\n      <td>374.0</td>\n    </tr>\n    <tr>\n      <td>14273</td>\n      <td>22041.0</td>\n      <td>17369.0</td>\n      <td>0.0</td>\n      <td>NaN</td>\n      <td>1.0</td>\n      <td>374.0</td>\n    </tr>\n    <tr>\n      <td>19972</td>\n      <td>22041.0</td>\n      <td>17369.0</td>\n      <td>0.0</td>\n      <td>NaN</td>\n      <td>1.0</td>\n      <td>374.0</td>\n    </tr>\n    <tr>\n      <td>22933</td>\n      <td>22041.0</td>\n      <td>17369.0</td>\n      <td>0.0</td>\n      <td>NaN</td>\n      <td>1.0</td>\n      <td>374.0</td>\n    </tr>\n    <tr>\n      <td>13223</td>\n      <td>22041.0</td>\n      <td>17369.0</td>\n      <td>0.0</td>\n      <td>NaN</td>\n      <td>1.0</td>\n      <td>374.0</td>\n    </tr>\n    <tr>\n      <td>2603</td>\n      <td>22041.0</td>\n      <td>17369.0</td>\n      <td>0.0</td>\n      <td>NaN</td>\n      <td>1.0</td>\n      <td>374.0</td>\n    </tr>\n    <tr>\n      <td>6765</td>\n      <td>22041.0</td>\n      <td>17369.0</td>\n      <td>0.0</td>\n      <td>NaN</td>\n      <td>1.0</td>\n      <td>374.0</td>\n    </tr>\n    <tr>\n      <td>2632</td>\n      <td>22041.0</td>\n      <td>17369.0</td>\n      <td>0.0</td>\n      <td>NaN</td>\n      <td>1.0</td>\n      <td>374.0</td>\n    </tr>\n    <tr>\n      <td>22474</td>\n      <td>23297.0</td>\n      <td>1780.0</td>\n      <td>3.0</td>\n      <td>277.0</td>\n      <td>3.0</td>\n      <td>561.0</td>\n    </tr>\n    <tr>\n      <td>1097</td>\n      <td>23478.0</td>\n      <td>4258.0</td>\n      <td>0.0</td>\n      <td>NaN</td>\n      <td>0.0</td>\n      <td>NaN</td>\n    </tr>\n    <tr>\n      <td>20057</td>\n      <td>23478.0</td>\n      <td>4258.0</td>\n      <td>0.0</td>\n      <td>NaN</td>\n      <td>0.0</td>\n      <td>NaN</td>\n    </tr>\n    <tr>\n      <td>8568</td>\n      <td>24233.0</td>\n      <td>4065.0</td>\n      <td>1.0</td>\n      <td>547.0</td>\n      <td>0.0</td>\n      <td>NaN</td>\n    </tr>\n    <tr>\n      <td>20654</td>\n      <td>24385.0</td>\n      <td>4604.0</td>\n      <td>1.0</td>\n      <td>700.0</td>\n      <td>0.0</td>\n      <td>NaN</td>\n    </tr>\n    <tr>\n      <td>9821</td>\n      <td>24953.0</td>\n      <td>3801.0</td>\n      <td>1.0</td>\n      <td>375.0</td>\n      <td>2.0</td>\n      <td>532.0</td>\n    </tr>\n    <tr>\n      <td>4151</td>\n      <td>25054.0</td>\n      <td>3902.0</td>\n      <td>1.0</td>\n      <td>485.0</td>\n      <td>3.0</td>\n      <td>722.0</td>\n    </tr>\n    <tr>\n      <td>11248</td>\n      <td>25221.0</td>\n      <td>4069.0</td>\n      <td>0.0</td>\n      <td>NaN</td>\n      <td>2.0</td>\n      <td>653.0</td>\n    </tr>\n    <tr>\n      <td>12936</td>\n      <td>25680.0</td>\n      <td>4383.0</td>\n      <td>3.0</td>\n      <td>336.0</td>\n      <td>0.0</td>\n      <td>NaN</td>\n    </tr>\n    <tr>\n      <td>10122</td>\n      <td>25771.0</td>\n      <td>4474.0</td>\n      <td>2.0</td>\n      <td>374.0</td>\n      <td>0.0</td>\n      <td>NaN</td>\n    </tr>\n    <tr>\n      <td>7330</td>\n      <td>25925.0</td>\n      <td>4627.0</td>\n      <td>2.0</td>\n      <td>459.0</td>\n      <td>0.0</td>\n      <td>NaN</td>\n    </tr>\n    <tr>\n      <td>21333</td>\n      <td>26090.0</td>\n      <td>4805.0</td>\n      <td>0.0</td>\n      <td>NaN</td>\n      <td>1.0</td>\n      <td>943.0</td>\n    </tr>\n    <tr>\n      <td>4670</td>\n      <td>26534.0</td>\n      <td>5382.0</td>\n      <td>1.0</td>\n      <td>446.0</td>\n      <td>1.0</td>\n      <td>376.0</td>\n    </tr>\n    <tr>\n      <td>3574</td>\n      <td>27419.0</td>\n      <td>8127.0</td>\n      <td>0.0</td>\n      <td>NaN</td>\n      <td>1.0</td>\n      <td>603.0</td>\n    </tr>\n    <tr>\n      <td>15686</td>\n      <td>35920.0</td>\n      <td>9633.0</td>\n      <td>2.0</td>\n      <td>472.0</td>\n      <td>3.0</td>\n      <td>535.0</td>\n    </tr>\n    <tr>\n      <td>15866</td>\n      <td>36380.0</td>\n      <td>9497.0</td>\n      <td>1.0</td>\n      <td>634.0</td>\n      <td>3.0</td>\n      <td>513.0</td>\n    </tr>\n    <tr>\n      <td>17764</td>\n      <td>36865.0</td>\n      <td>10976.0</td>\n      <td>0.0</td>\n      <td>NaN</td>\n      <td>1.0</td>\n      <td>856.0</td>\n    </tr>\n    <tr>\n      <td>7600</td>\n      <td>37123.0</td>\n      <td>12332.0</td>\n      <td>0.0</td>\n      <td>NaN</td>\n      <td>0.0</td>\n      <td>NaN</td>\n    </tr>\n    <tr>\n      <td>12879</td>\n      <td>37123.0</td>\n      <td>12332.0</td>\n      <td>0.0</td>\n      <td>NaN</td>\n      <td>0.0</td>\n      <td>NaN</td>\n    </tr>\n    <tr>\n      <td>21276</td>\n      <td>60195.0</td>\n      <td>41294.0</td>\n      <td>0.0</td>\n      <td>NaN</td>\n      <td>0.0</td>\n      <td>NaN</td>\n    </tr>\n    <tr>\n      <td>2033</td>\n      <td>NaN</td>\n      <td>NaN</td>\n      <td>NaN</td>\n      <td>NaN</td>\n      <td>NaN</td>\n      <td>NaN</td>\n    </tr>\n    <tr>\n      <td>14342</td>\n      <td>NaN</td>\n      <td>NaN</td>\n      <td>NaN</td>\n      <td>NaN</td>\n      <td>NaN</td>\n      <td>NaN</td>\n    </tr>\n    <tr>\n      <td>17535</td>\n      <td>NaN</td>\n      <td>NaN</td>\n      <td>NaN</td>\n      <td>NaN</td>\n      <td>NaN</td>\n      <td>NaN</td>\n    </tr>\n    <tr>\n      <td>20382</td>\n      <td>NaN</td>\n      <td>NaN</td>\n      <td>NaN</td>\n      <td>NaN</td>\n      <td>NaN</td>\n      <td>NaN</td>\n    </tr>\n    <tr>\n      <td>20590</td>\n      <td>NaN</td>\n      <td>NaN</td>\n      <td>NaN</td>\n      <td>NaN</td>\n      <td>NaN</td>\n      <td>NaN</td>\n    </tr>\n    <tr>\n      <td>21715</td>\n      <td>NaN</td>\n      <td>NaN</td>\n      <td>NaN</td>\n      <td>NaN</td>\n      <td>NaN</td>\n      <td>NaN</td>\n    </tr>\n    <tr>\n      <td>21898</td>\n      <td>NaN</td>\n      <td>NaN</td>\n      <td>NaN</td>\n      <td>NaN</td>\n      <td>NaN</td>\n      <td>NaN</td>\n    </tr>\n    <tr>\n      <td>22717</td>\n      <td>NaN</td>\n      <td>NaN</td>\n      <td>NaN</td>\n      <td>NaN</td>\n      <td>NaN</td>\n      <td>NaN</td>\n    </tr>\n  </tbody>\n</table>\n</div>"
     },
     "execution_count": 30,
     "metadata": {},
     "output_type": "execute_result"
    }
   ],
   "source": [
    "empty_locality_name.sort_values(by='airports_nearest')"
   ],
   "metadata": {
    "collapsed": false,
    "pycharm": {
     "name": "#%%\n"
    }
   }
  },
  {
   "cell_type": "markdown",
   "source": [
    "Для нескольких объявлений полностью отсутствует информация о названии и географических ориентирах. Их всего 8, нам придется просто исключить их из нашего датафрейма"
   ],
   "metadata": {
    "collapsed": false,
    "pycharm": {
     "name": "#%% md\n"
    }
   }
  },
  {
   "cell_type": "code",
   "execution_count": 35,
   "outputs": [
    {
     "ename": "SyntaxError",
     "evalue": "can't use starred expression here (861810161.py, line 7)",
     "output_type": "error",
     "traceback": [
      "\u001B[0;36m  File \u001B[0;32m\"/var/folders/zz/zyxvpxvq6csfxvn_n0001gcw000bv7/T/ipykernel_94399/861810161.py\"\u001B[0;36m, line \u001B[0;32m7\u001B[0m\n\u001B[0;31mSyntaxError\u001B[0m\u001B[0;31m:\u001B[0m can't use starred expression here\n"
     ]
    }
   ],
   "source": [
    "bad_index = (empty_locality_name[empty_locality_name['airports_nearest'].isna()]\n",
    "             .index\n",
    "             .to_list())\n",
    "print(f'Удалить строки: ')"
   ],
   "metadata": {
    "collapsed": false,
    "pycharm": {
     "name": "#%%\n"
    }
   }
  },
  {
   "cell_type": "markdown",
   "source": [
    "#### Высота потолков `ceiling_height`\n"
   ],
   "metadata": {
    "collapsed": false,
    "pycharm": {
     "name": "#%% md\n"
    }
   }
  },
  {
   "cell_type": "markdown",
   "source": [
    "Изучим содержимое столбца `ceiling_height`"
   ],
   "metadata": {
    "collapsed": false,
    "pycharm": {
     "name": "#%% md\n"
    }
   }
  },
  {
   "cell_type": "code",
   "execution_count": 4,
   "outputs": [],
   "source": [
    "plt.rcParams['figure.figsize'] = [9, 6] # зададим размер окна для графиков"
   ],
   "metadata": {
    "collapsed": false,
    "pycharm": {
     "name": "#%%\n"
    }
   }
  },
  {
   "cell_type": "code",
   "execution_count": 5,
   "metadata": {},
   "outputs": [
    {
     "data": {
      "text/plain": "<matplotlib.axes._subplots.AxesSubplot at 0x11da4bcd0>"
     },
     "execution_count": 5,
     "metadata": {},
     "output_type": "execute_result"
    },
    {
     "data": {
      "text/plain": "<Figure size 648x432 with 1 Axes>",
      "image/png": "[encoded data removed]"
     },
     "metadata": {
      "needs_background": "light"
     },
     "output_type": "display_data"
    }
   ],
   "source": [
    "data['ceiling_height'].plot(style='.', title='Данные о высоте потолков в метрах')"
   ]
  },
  {
   "cell_type": "markdown",
   "source": [
    "Как видно из визуализации данных `ceiling_height`, основная часть значений сосредоточена в районе 2-3 метров.\n",
    "Обычно не бывает квартир с высотой потолков меньше 2.40 м. Проверим это в нашей таблице."
   ],
   "metadata": {
    "collapsed": false,
    "pycharm": {
     "name": "#%% md\n"
    }
   }
  },
  {
   "cell_type": "code",
   "execution_count": 6,
   "outputs": [
    {
     "data": {
      "text/plain": "       total_images  last_price  total_area first_day_exposition  rooms  \\\n22590            16   6000000.0       55.00  2018-10-31T00:00:00      2   \n5712              5   1500000.0       42.80  2017-08-14T00:00:00      2   \n16934             5   4100000.0       40.00  2017-10-17T00:00:00      1   \n16446             6  12300000.0       88.30  2019-03-12T00:00:00      3   \n552              11   2999000.0       33.50  2017-03-30T00:00:00      1   \n2572              4   2400000.0       62.00  2018-12-27T00:00:00      3   \n4212              1   2120000.0       35.43  2017-12-18T00:00:00      1   \n20520             9   3600000.0       38.00  2018-07-05T00:00:00      1   \n5850              9   1650000.0       35.50  2018-05-29T00:00:00      1   \n11352             4   3300000.0       36.00  2017-06-18T00:00:00      1   \n22960            17   2300000.0       53.60  2018-10-18T00:00:00      2   \n16884             0   1500000.0       33.00  2018-10-03T00:00:00      1   \n19329             5   1700000.0       40.00  2018-07-15T00:00:00      2   \n19098             7   2700000.0       56.00  2018-02-04T00:00:00      3   \n12755             2   1400000.0       22.50  2017-09-21T00:00:00      1   \n17794             1   2300000.0       58.60  2016-05-12T00:00:00      3   \n23498             7   1600000.0       54.00  2016-12-26T00:00:00      2   \n5498             17   2200000.0       56.00  2018-04-02T00:00:00      2   \n1582              4   4100000.0       45.60  2016-01-13T00:00:00      2   \n17762            20   2300000.0       54.30  2018-06-28T00:00:00      3   \n227              13   2200000.0       47.00  2018-01-12T00:00:00      3   \n\n       ceiling_height  floors_total  living_area  floor is_apartment  studio  \\\n22590            1.00          12.0    32.400000      7          NaN   False   \n5712             1.20           2.0    27.500000      1          NaN   False   \n16934            1.75          37.0    17.400000      5          NaN   False   \n16446            2.00           5.0    63.900000      2          NaN   False   \n552              2.00          15.0    17.500000      6          NaN   False   \n2572             2.00           5.0    40.000000      4          NaN   False   \n4212             2.00          18.0    16.600000      9          NaN   False   \n20520            2.00          12.0    15.000000      9          NaN   False   \n5850             2.00           5.0          NaN      5          NaN   False   \n11352            2.00          17.0    15.200000     12          NaN   False   \n22960            2.00           2.0    19.000000      1          NaN   False   \n16884            2.00           5.0    20.000000      5        False   False   \n19329            2.00           9.0          NaN      8          NaN   False   \n19098            2.00           5.0    46.000000      1          NaN   False   \n12755            2.20           2.0    18.000000      2          NaN   False   \n17794            2.25           5.0    44.100002      3        False   False   \n23498            2.30           1.0    33.000000      1        False   False   \n5498             2.30           5.0    45.000000      1          NaN   False   \n1582             2.30           9.0    28.400000      8        False   False   \n17762            2.30           5.0    39.000000      2          NaN   False   \n227              2.34           5.0          NaN      1          NaN   False   \n\n       open_plan  kitchen_area  balcony          locality_name  \\\n22590      False         10.00      NaN        Санкт-Петербург   \n5712       False          5.20      NaN  городской посёлок Мга   \n16934      False          8.34      NaN        Санкт-Петербург   \n16446      False         12.00      NaN        Санкт-Петербург   \n552        False          6.50      NaN        Санкт-Петербург   \n2572       False          6.00      1.0                   Луга   \n4212       False          8.80      2.0                  Тосно   \n20520      False         11.80      1.0                Кудрово   \n5850       False           NaN      NaN                   Луга   \n11352      False         10.10      0.0   посёлок Металлострой   \n22960      False         10.00      NaN             Всеволожск   \n16884      False          6.00      NaN                 Выборг   \n19329      False           NaN      NaN           Сосновый Бор   \n19098      False          6.00      NaN                 Выборг   \n12755      False          4.50      1.0           село Копорье   \n17794      False          5.50      1.0       деревня Бегуницы   \n23498      False          3.50      0.0                 Высоцк   \n5498       False          9.00      2.0              Сясьстрой   \n1582       False          7.00      2.0        Санкт-Петербург   \n17762      False          5.30      1.0       деревня Бегуницы   \n227        False           NaN      NaN     посёлок Новый Свет   \n\n       airports_nearest  cityCenters_nearest  parks_around3000  parks_nearest  \\\n22590           33053.0              14217.0               2.0          293.0   \n5712                NaN                  NaN               NaN            NaN   \n16934           18732.0              20444.0               0.0            NaN   \n16446           38415.0               7675.0               1.0          568.0   \n552             33972.0              11746.0               1.0          520.0   \n2572                NaN                  NaN               NaN            NaN   \n4212                NaN                  NaN               NaN            NaN   \n20520               NaN                  NaN               NaN            NaN   \n5850                NaN                  NaN               NaN            NaN   \n11352           25268.0              26980.0               0.0            NaN   \n22960               NaN                  NaN               NaN            NaN   \n16884               NaN                  NaN               NaN            NaN   \n19329               NaN                  NaN               NaN            NaN   \n19098               NaN                  NaN               NaN            NaN   \n12755               NaN                  NaN               NaN            NaN   \n17794               NaN                  NaN               NaN            NaN   \n23498               NaN                  NaN               NaN            NaN   \n5498                NaN                  NaN               NaN            NaN   \n1582            49152.0              14977.0               1.0          489.0   \n17762               NaN                  NaN               NaN            NaN   \n227                 NaN                  NaN               NaN            NaN   \n\n       ponds_around3000  ponds_nearest  days_exposition  \n22590               2.0          289.0             13.0  \n5712                NaN            NaN            248.0  \n16934               3.0           80.0             71.0  \n16446               1.0          154.0              NaN  \n552                 1.0          949.0            270.0  \n2572                NaN            NaN              NaN  \n4212                NaN            NaN             36.0  \n20520               NaN            NaN             62.0  \n5850                NaN            NaN            100.0  \n11352               0.0            NaN             53.0  \n22960               NaN            NaN              NaN  \n16884               NaN            NaN              6.0  \n19329               NaN            NaN             45.0  \n19098               NaN            NaN            282.0  \n12755               NaN            NaN             45.0  \n17794               NaN            NaN             45.0  \n23498               NaN            NaN            281.0  \n5498                NaN            NaN             55.0  \n1582                1.0          525.0            329.0  \n17762               NaN            NaN            189.0  \n227                 NaN            NaN             45.0  ",
      "text/html": "<div>\n<style scoped>\n    .dataframe tbody tr th:only-of-type {\n        vertical-align: middle;\n    }\n\n    .dataframe tbody tr th {\n        vertical-align: top;\n    }\n\n    .dataframe thead th {\n        text-align: right;\n    }\n</style>\n<table border=\"1\" class=\"dataframe\">\n  <thead>\n    <tr style=\"text-align: right;\">\n      <th></th>\n      <th>total_images</th>\n      <th>last_price</th>\n      <th>total_area</th>\n      <th>first_day_exposition</th>\n      <th>rooms</th>\n      <th>ceiling_height</th>\n      <th>floors_total</th>\n      <th>living_area</th>\n      <th>floor</th>\n      <th>is_apartment</th>\n      <th>studio</th>\n      <th>open_plan</th>\n      <th>kitchen_area</th>\n      <th>balcony</th>\n      <th>locality_name</th>\n      <th>airports_nearest</th>\n      <th>cityCenters_nearest</th>\n      <th>parks_around3000</th>\n      <th>parks_nearest</th>\n      <th>ponds_around3000</th>\n      <th>ponds_nearest</th>\n      <th>days_exposition</th>\n    </tr>\n  </thead>\n  <tbody>\n    <tr>\n      <td>22590</td>\n      <td>16</td>\n      <td>6000000.0</td>\n      <td>55.00</td>\n      <td>2018-10-31T00:00:00</td>\n      <td>2</td>\n      <td>1.00</td>\n      <td>12.0</td>\n      <td>32.400000</td>\n      <td>7</td>\n      <td>NaN</td>\n      <td>False</td>\n      <td>False</td>\n      <td>10.00</td>\n      <td>NaN</td>\n      <td>Санкт-Петербург</td>\n      <td>33053.0</td>\n      <td>14217.0</td>\n      <td>2.0</td>\n      <td>293.0</td>\n      <td>2.0</td>\n      <td>289.0</td>\n      <td>13.0</td>\n    </tr>\n    <tr>\n      <td>5712</td>\n      <td>5</td>\n      <td>1500000.0</td>\n      <td>42.80</td>\n      <td>2017-08-14T00:00:00</td>\n      <td>2</td>\n      <td>1.20</td>\n      <td>2.0</td>\n      <td>27.500000</td>\n      <td>1</td>\n      <td>NaN</td>\n      <td>False</td>\n      <td>False</td>\n      <td>5.20</td>\n      <td>NaN</td>\n      <td>городской посёлок Мга</td>\n      <td>NaN</td>\n      <td>NaN</td>\n      <td>NaN</td>\n      <td>NaN</td>\n      <td>NaN</td>\n      <td>NaN</td>\n      <td>248.0</td>\n    </tr>\n    <tr>\n      <td>16934</td>\n      <td>5</td>\n      <td>4100000.0</td>\n      <td>40.00</td>\n      <td>2017-10-17T00:00:00</td>\n      <td>1</td>\n      <td>1.75</td>\n      <td>37.0</td>\n      <td>17.400000</td>\n      <td>5</td>\n      <td>NaN</td>\n      <td>False</td>\n      <td>False</td>\n      <td>8.34</td>\n      <td>NaN</td>\n      <td>Санкт-Петербург</td>\n      <td>18732.0</td>\n      <td>20444.0</td>\n      <td>0.0</td>\n      <td>NaN</td>\n      <td>3.0</td>\n      <td>80.0</td>\n      <td>71.0</td>\n    </tr>\n    <tr>\n      <td>16446</td>\n      <td>6</td>\n      <td>12300000.0</td>\n      <td>88.30</td>\n      <td>2019-03-12T00:00:00</td>\n      <td>3</td>\n      <td>2.00</td>\n      <td>5.0</td>\n      <td>63.900000</td>\n      <td>2</td>\n      <td>NaN</td>\n      <td>False</td>\n      <td>False</td>\n      <td>12.00</td>\n      <td>NaN</td>\n      <td>Санкт-Петербург</td>\n      <td>38415.0</td>\n      <td>7675.0</td>\n      <td>1.0</td>\n      <td>568.0</td>\n      <td>1.0</td>\n      <td>154.0</td>\n      <td>NaN</td>\n    </tr>\n    <tr>\n      <td>552</td>\n      <td>11</td>\n      <td>2999000.0</td>\n      <td>33.50</td>\n      <td>2017-03-30T00:00:00</td>\n      <td>1</td>\n      <td>2.00</td>\n      <td>15.0</td>\n      <td>17.500000</td>\n      <td>6</td>\n      <td>NaN</td>\n      <td>False</td>\n      <td>False</td>\n      <td>6.50</td>\n      <td>NaN</td>\n      <td>Санкт-Петербург</td>\n      <td>33972.0</td>\n      <td>11746.0</td>\n      <td>1.0</td>\n      <td>520.0</td>\n      <td>1.0</td>\n      <td>949.0</td>\n      <td>270.0</td>\n    </tr>\n    <tr>\n      <td>2572</td>\n      <td>4</td>\n      <td>2400000.0</td>\n      <td>62.00</td>\n      <td>2018-12-27T00:00:00</td>\n      <td>3</td>\n      <td>2.00</td>\n      <td>5.0</td>\n      <td>40.000000</td>\n      <td>4</td>\n      <td>NaN</td>\n      <td>False</td>\n      <td>False</td>\n      <td>6.00</td>\n      <td>1.0</td>\n      <td>Луга</td>\n      <td>NaN</td>\n      <td>NaN</td>\n      <td>NaN</td>\n      <td>NaN</td>\n      <td>NaN</td>\n      <td>NaN</td>\n      <td>NaN</td>\n    </tr>\n    <tr>\n      <td>4212</td>\n      <td>1</td>\n      <td>2120000.0</td>\n      <td>35.43</td>\n      <td>2017-12-18T00:00:00</td>\n      <td>1</td>\n      <td>2.00</td>\n      <td>18.0</td>\n      <td>16.600000</td>\n      <td>9</td>\n      <td>NaN</td>\n      <td>False</td>\n      <td>False</td>\n      <td>8.80</td>\n      <td>2.0</td>\n      <td>Тосно</td>\n      <td>NaN</td>\n      <td>NaN</td>\n      <td>NaN</td>\n      <td>NaN</td>\n      <td>NaN</td>\n      <td>NaN</td>\n      <td>36.0</td>\n    </tr>\n    <tr>\n      <td>20520</td>\n      <td>9</td>\n      <td>3600000.0</td>\n      <td>38.00</td>\n      <td>2018-07-05T00:00:00</td>\n      <td>1</td>\n      <td>2.00</td>\n      <td>12.0</td>\n      <td>15.000000</td>\n      <td>9</td>\n      <td>NaN</td>\n      <td>False</td>\n      <td>False</td>\n      <td>11.80</td>\n      <td>1.0</td>\n      <td>Кудрово</td>\n      <td>NaN</td>\n      <td>NaN</td>\n      <td>NaN</td>\n      <td>NaN</td>\n      <td>NaN</td>\n      <td>NaN</td>\n      <td>62.0</td>\n    </tr>\n    <tr>\n      <td>5850</td>\n      <td>9</td>\n      <td>1650000.0</td>\n      <td>35.50</td>\n      <td>2018-05-29T00:00:00</td>\n      <td>1</td>\n      <td>2.00</td>\n      <td>5.0</td>\n      <td>NaN</td>\n      <td>5</td>\n      <td>NaN</td>\n      <td>False</td>\n      <td>False</td>\n      <td>NaN</td>\n      <td>NaN</td>\n      <td>Луга</td>\n      <td>NaN</td>\n      <td>NaN</td>\n      <td>NaN</td>\n      <td>NaN</td>\n      <td>NaN</td>\n      <td>NaN</td>\n      <td>100.0</td>\n    </tr>\n    <tr>\n      <td>11352</td>\n      <td>4</td>\n      <td>3300000.0</td>\n      <td>36.00</td>\n      <td>2017-06-18T00:00:00</td>\n      <td>1</td>\n      <td>2.00</td>\n      <td>17.0</td>\n      <td>15.200000</td>\n      <td>12</td>\n      <td>NaN</td>\n      <td>False</td>\n      <td>False</td>\n      <td>10.10</td>\n      <td>0.0</td>\n      <td>посёлок Металлострой</td>\n      <td>25268.0</td>\n      <td>26980.0</td>\n      <td>0.0</td>\n      <td>NaN</td>\n      <td>0.0</td>\n      <td>NaN</td>\n      <td>53.0</td>\n    </tr>\n    <tr>\n      <td>22960</td>\n      <td>17</td>\n      <td>2300000.0</td>\n      <td>53.60</td>\n      <td>2018-10-18T00:00:00</td>\n      <td>2</td>\n      <td>2.00</td>\n      <td>2.0</td>\n      <td>19.000000</td>\n      <td>1</td>\n      <td>NaN</td>\n      <td>False</td>\n      <td>False</td>\n      <td>10.00</td>\n      <td>NaN</td>\n      <td>Всеволожск</td>\n      <td>NaN</td>\n      <td>NaN</td>\n      <td>NaN</td>\n      <td>NaN</td>\n      <td>NaN</td>\n      <td>NaN</td>\n      <td>NaN</td>\n    </tr>\n    <tr>\n      <td>16884</td>\n      <td>0</td>\n      <td>1500000.0</td>\n      <td>33.00</td>\n      <td>2018-10-03T00:00:00</td>\n      <td>1</td>\n      <td>2.00</td>\n      <td>5.0</td>\n      <td>20.000000</td>\n      <td>5</td>\n      <td>False</td>\n      <td>False</td>\n      <td>False</td>\n      <td>6.00</td>\n      <td>NaN</td>\n      <td>Выборг</td>\n      <td>NaN</td>\n      <td>NaN</td>\n      <td>NaN</td>\n      <td>NaN</td>\n      <td>NaN</td>\n      <td>NaN</td>\n      <td>6.0</td>\n    </tr>\n    <tr>\n      <td>19329</td>\n      <td>5</td>\n      <td>1700000.0</td>\n      <td>40.00</td>\n      <td>2018-07-15T00:00:00</td>\n      <td>2</td>\n      <td>2.00</td>\n      <td>9.0</td>\n      <td>NaN</td>\n      <td>8</td>\n      <td>NaN</td>\n      <td>False</td>\n      <td>False</td>\n      <td>NaN</td>\n      <td>NaN</td>\n      <td>Сосновый Бор</td>\n      <td>NaN</td>\n      <td>NaN</td>\n      <td>NaN</td>\n      <td>NaN</td>\n      <td>NaN</td>\n      <td>NaN</td>\n      <td>45.0</td>\n    </tr>\n    <tr>\n      <td>19098</td>\n      <td>7</td>\n      <td>2700000.0</td>\n      <td>56.00</td>\n      <td>2018-02-04T00:00:00</td>\n      <td>3</td>\n      <td>2.00</td>\n      <td>5.0</td>\n      <td>46.000000</td>\n      <td>1</td>\n      <td>NaN</td>\n      <td>False</td>\n      <td>False</td>\n      <td>6.00</td>\n      <td>NaN</td>\n      <td>Выборг</td>\n      <td>NaN</td>\n      <td>NaN</td>\n      <td>NaN</td>\n      <td>NaN</td>\n      <td>NaN</td>\n      <td>NaN</td>\n      <td>282.0</td>\n    </tr>\n    <tr>\n      <td>12755</td>\n      <td>2</td>\n      <td>1400000.0</td>\n      <td>22.50</td>\n      <td>2017-09-21T00:00:00</td>\n      <td>1</td>\n      <td>2.20</td>\n      <td>2.0</td>\n      <td>18.000000</td>\n      <td>2</td>\n      <td>NaN</td>\n      <td>False</td>\n      <td>False</td>\n      <td>4.50</td>\n      <td>1.0</td>\n      <td>село Копорье</td>\n      <td>NaN</td>\n      <td>NaN</td>\n      <td>NaN</td>\n      <td>NaN</td>\n      <td>NaN</td>\n      <td>NaN</td>\n      <td>45.0</td>\n    </tr>\n    <tr>\n      <td>17794</td>\n      <td>1</td>\n      <td>2300000.0</td>\n      <td>58.60</td>\n      <td>2016-05-12T00:00:00</td>\n      <td>3</td>\n      <td>2.25</td>\n      <td>5.0</td>\n      <td>44.100002</td>\n      <td>3</td>\n      <td>False</td>\n      <td>False</td>\n      <td>False</td>\n      <td>5.50</td>\n      <td>1.0</td>\n      <td>деревня Бегуницы</td>\n      <td>NaN</td>\n      <td>NaN</td>\n      <td>NaN</td>\n      <td>NaN</td>\n      <td>NaN</td>\n      <td>NaN</td>\n      <td>45.0</td>\n    </tr>\n    <tr>\n      <td>23498</td>\n      <td>7</td>\n      <td>1600000.0</td>\n      <td>54.00</td>\n      <td>2016-12-26T00:00:00</td>\n      <td>2</td>\n      <td>2.30</td>\n      <td>1.0</td>\n      <td>33.000000</td>\n      <td>1</td>\n      <td>False</td>\n      <td>False</td>\n      <td>False</td>\n      <td>3.50</td>\n      <td>0.0</td>\n      <td>Высоцк</td>\n      <td>NaN</td>\n      <td>NaN</td>\n      <td>NaN</td>\n      <td>NaN</td>\n      <td>NaN</td>\n      <td>NaN</td>\n      <td>281.0</td>\n    </tr>\n    <tr>\n      <td>5498</td>\n      <td>17</td>\n      <td>2200000.0</td>\n      <td>56.00</td>\n      <td>2018-04-02T00:00:00</td>\n      <td>2</td>\n      <td>2.30</td>\n      <td>5.0</td>\n      <td>45.000000</td>\n      <td>1</td>\n      <td>NaN</td>\n      <td>False</td>\n      <td>False</td>\n      <td>9.00</td>\n      <td>2.0</td>\n      <td>Сясьстрой</td>\n      <td>NaN</td>\n      <td>NaN</td>\n      <td>NaN</td>\n      <td>NaN</td>\n      <td>NaN</td>\n      <td>NaN</td>\n      <td>55.0</td>\n    </tr>\n    <tr>\n      <td>1582</td>\n      <td>4</td>\n      <td>4100000.0</td>\n      <td>45.60</td>\n      <td>2016-01-13T00:00:00</td>\n      <td>2</td>\n      <td>2.30</td>\n      <td>9.0</td>\n      <td>28.400000</td>\n      <td>8</td>\n      <td>False</td>\n      <td>False</td>\n      <td>False</td>\n      <td>7.00</td>\n      <td>2.0</td>\n      <td>Санкт-Петербург</td>\n      <td>49152.0</td>\n      <td>14977.0</td>\n      <td>1.0</td>\n      <td>489.0</td>\n      <td>1.0</td>\n      <td>525.0</td>\n      <td>329.0</td>\n    </tr>\n    <tr>\n      <td>17762</td>\n      <td>20</td>\n      <td>2300000.0</td>\n      <td>54.30</td>\n      <td>2018-06-28T00:00:00</td>\n      <td>3</td>\n      <td>2.30</td>\n      <td>5.0</td>\n      <td>39.000000</td>\n      <td>2</td>\n      <td>NaN</td>\n      <td>False</td>\n      <td>False</td>\n      <td>5.30</td>\n      <td>1.0</td>\n      <td>деревня Бегуницы</td>\n      <td>NaN</td>\n      <td>NaN</td>\n      <td>NaN</td>\n      <td>NaN</td>\n      <td>NaN</td>\n      <td>NaN</td>\n      <td>189.0</td>\n    </tr>\n    <tr>\n      <td>227</td>\n      <td>13</td>\n      <td>2200000.0</td>\n      <td>47.00</td>\n      <td>2018-01-12T00:00:00</td>\n      <td>3</td>\n      <td>2.34</td>\n      <td>5.0</td>\n      <td>NaN</td>\n      <td>1</td>\n      <td>NaN</td>\n      <td>False</td>\n      <td>False</td>\n      <td>NaN</td>\n      <td>NaN</td>\n      <td>посёлок Новый Свет</td>\n      <td>NaN</td>\n      <td>NaN</td>\n      <td>NaN</td>\n      <td>NaN</td>\n      <td>NaN</td>\n      <td>NaN</td>\n      <td>45.0</td>\n    </tr>\n  </tbody>\n</table>\n</div>"
     },
     "execution_count": 6,
     "metadata": {},
     "output_type": "execute_result"
    }
   ],
   "source": [
    "data[data['ceiling_height'] < 2.40].sort_values(by='ceiling_height')"
   ],
   "metadata": {
    "collapsed": false,
    "pycharm": {
     "name": "#%%\n"
    }
   }
  },
  {
   "cell_type": "markdown",
   "source": [
    "Высоту потолка 2.2м в 2-х этажном доме в селе Копорье хоть и с трудом, но можно допустить, а всё, что ниже не может быть правдой. С другой стороны, хорошо, что таких значений мало, около 15."
   ],
   "metadata": {
    "collapsed": false,
    "pycharm": {
     "name": "#%% md\n"
    }
   }
  },
  {
   "cell_type": "markdown",
   "source": [
    "Теперь посмотрим внимательнее на строки, где высота потолков неправдоподобно большая."
   ],
   "metadata": {
    "collapsed": false,
    "pycharm": {
     "name": "#%% md\n"
    }
   }
  },
  {
   "cell_type": "code",
   "source": [
    "data['ceiling_height'].plot(style='.', title='Потолки выше 5 м', ylim=(5, 110), grid=True)"
   ],
   "metadata": {
    "collapsed": false,
    "pycharm": {
     "name": "#%%\n"
    }
   },
   "execution_count": 10,
   "outputs": [
    {
     "data": {
      "text/plain": "<matplotlib.axes._subplots.AxesSubplot at 0x11f77c710>"
     },
     "execution_count": 10,
     "metadata": {},
     "output_type": "execute_result"
    },
    {
     "data": {
      "text/plain": "<Figure size 648x432 with 1 Axes>",
      "image/png": "[encoded data removed]"
     },
     "metadata": {
      "needs_background": "light"
     },
     "output_type": "display_data"
    }
   ]
  },
  {
   "cell_type": "code",
   "execution_count": 8,
   "outputs": [
    {
     "data": {
      "text/plain": "       total_images   last_price  total_area first_day_exposition  rooms  \\\n464              15   66571000.0       280.3  2015-06-11T00:00:00      6   \n12628            14    3900000.0        50.0  2018-03-29T00:00:00      1   \n1026             20  155000000.0       310.0  2018-10-12T00:00:00      5   \n7578             17   38000000.0       143.0  2017-11-02T00:00:00      3   \n1388             20   59800000.0       399.0  2015-01-21T00:00:00      5   \n21227             0    8200000.0        71.0  2017-07-21T00:00:00      0   \n20264            17  119000000.0       187.6  2017-07-10T00:00:00      4   \n17442             0    5350000.0        54.0  2015-06-16T00:00:00      2   \n15743            14    5600000.0        67.0  2016-11-11T00:00:00      3   \n3474              3    1400000.0        30.0  2018-03-16T00:00:00      1   \n5863             20    5650000.0        45.0  2018-08-15T00:00:00      1   \n22309            20    5300000.0        45.0  2017-09-30T00:00:00      1   \n15061            19    5600000.0        56.4  2018-05-11T00:00:00      2   \n17496            15    6700000.0        92.9  2019-02-19T00:00:00      3   \n20507            12    5950000.0        60.0  2018-02-19T00:00:00      2   \n5076              0    3850000.0        30.5  2018-10-03T00:00:00      1   \n14382             9    1700000.0        35.0  2015-12-04T00:00:00      1   \n18545             6    3750000.0        43.0  2019-03-18T00:00:00      2   \n355              17    3600000.0        55.2  2018-07-12T00:00:00      2   \n11285             0    1950000.0        37.0  2019-03-20T00:00:00      1   \n9379              5    3950000.0        42.0  2017-03-26T00:00:00      3   \n6246              6    3300000.0        44.4  2019-03-25T00:00:00      2   \n4643              0    4300000.0        45.0  2018-02-01T00:00:00      2   \n5669              4    4400000.0        50.0  2017-08-08T00:00:00      2   \n10773             8    3800000.0        58.0  2017-10-13T00:00:00      2   \n5807             17    8150000.0        80.0  2019-01-09T00:00:00      2   \n17857             1    3900000.0        56.0  2017-12-22T00:00:00      3   \n5246              0    2500000.0        54.0  2017-10-13T00:00:00      2   \n20478            11    8000000.0        45.0  2017-07-18T00:00:00      1   \n4876              7    3000000.0        25.0  2017-09-27T00:00:00      0   \n21824            20    2450000.0        44.0  2019-02-12T00:00:00      2   \n22938            14    4000000.0        98.0  2018-03-15T00:00:00      4   \n21377            19    4900000.0        42.0  2017-04-18T00:00:00      1   \n3148             14    2900000.0        75.0  2018-11-12T00:00:00      3   \n22336            19    9999000.0        92.4  2019-04-05T00:00:00      2   \n22869             0   15000000.0        25.0  2018-07-25T00:00:00      1   \n\n       ceiling_height  floors_total  living_area  floor is_apartment  studio  \\\n464               5.2           8.0        159.5      7          NaN   False   \n12628             5.3           5.0          NaN      5          NaN   False   \n1026              5.3           3.0        190.0      3          NaN   False   \n7578              5.5           5.0         83.0      5          NaN   False   \n1388              5.6           6.0          NaN      6          NaN   False   \n21227             5.8           5.0         68.0      5          NaN    True   \n20264             6.0           7.0        147.0      7          NaN   False   \n17442             8.0           5.0         29.0      2          NaN   False   \n15743             8.0          16.0         41.0      1          NaN   False   \n3474              8.0           5.0         15.3      2        False   False   \n5863              8.3          16.0         19.3     14          NaN   False   \n22309            10.3          16.0         15.5     15          NaN   False   \n15061            14.0          14.0         32.4      5          NaN   False   \n17496            20.0          17.0         53.2     14          NaN   False   \n20507            22.6          14.0         35.0     11          NaN   False   \n5076             24.0           5.0         19.5      1         True   False   \n14382            25.0           5.0         20.0      2        False   False   \n18545            25.0           5.0         29.0      3        False   False   \n355              25.0           5.0         32.0      2        False   False   \n11285            25.0           5.0         17.0      4        False   False   \n9379             25.0           5.0         30.0      2          NaN   False   \n6246             25.0           5.0         31.3      5          NaN   False   \n4643             25.0           9.0         30.0      2          NaN   False   \n5669             26.0           9.0         21.3      3          NaN   False   \n10773            27.0          10.0         30.1      3        False   False   \n5807             27.0          36.0         41.0     13          NaN   False   \n17857            27.0           5.0         33.0      4        False   False   \n5246             27.0           5.0         30.0      3          NaN   False   \n20478            27.0           4.0         22.0      2          NaN   False   \n4876             27.0          25.0         17.0     17          NaN   False   \n21824            27.0           2.0         38.0      2        False   False   \n22938            27.0           2.0         73.0      2         True   False   \n21377            27.5          24.0         37.7     19        False   False   \n3148             32.0           3.0         53.0      2          NaN   False   \n22336            32.0           6.0         55.5      5        False   False   \n22869           100.0           5.0         14.0      5         True   False   \n\n       open_plan  kitchen_area  balcony                    locality_name  \\\n464        False          21.1      0.0                  Санкт-Петербург   \n12628      False           NaN      NaN                  Санкт-Петербург   \n1026       False          63.0      2.0                  Санкт-Петербург   \n7578       False          29.0      1.0                  Санкт-Петербург   \n1388       False           NaN      0.0                  Санкт-Петербург   \n21227      False           NaN      0.0                  Санкт-Петербург   \n20264      False          15.6      NaN                  Санкт-Петербург   \n17442      False           NaN      1.0                     Красное Село   \n15743      False           8.0      NaN                  Санкт-Петербург   \n3474       False           7.3      NaN                    деревня Нурма   \n5863       False           8.3      1.0                  Санкт-Петербург   \n22309      False           NaN      NaN                  Санкт-Петербург   \n15061      False           9.1      2.0                  Санкт-Петербург   \n17496      False          12.0      5.0                  Санкт-Петербург   \n20507      False          13.0      1.0                  Санкт-Петербург   \n5076       False           5.5      NaN                  Санкт-Петербург   \n14382      False           8.0      1.0               поселок Новый Свет   \n18545      False           NaN      NaN                  Санкт-Петербург   \n355        False           NaN      2.0                          Гатчина   \n11285      False           9.0      2.0                             Луга   \n9379       False           5.2      NaN                  Санкт-Петербург   \n6246       False           5.7      NaN                        Кронштадт   \n4643       False           7.0      1.0                  Санкт-Петербург   \n5669       False           7.0      2.0                  Санкт-Петербург   \n10773      False           8.1      2.0                   посёлок Мурино   \n5807       False          12.0      5.0                  Санкт-Петербург   \n17857      False           NaN      NaN                  Санкт-Петербург   \n5246       False           9.0      2.0                     деревня Мины   \n20478      False          10.0      1.0                  Санкт-Петербург   \n4876        True           NaN      2.0                   посёлок Мурино   \n21824      False           8.6      2.0  городской поселок Большая Ижора   \n22938      False           9.0      1.0                   деревня Нижняя   \n21377      False          11.0      2.0                  Санкт-Петербург   \n3148       False           8.0      NaN                           Волхов   \n22336      False          16.5      4.0                  Санкт-Петербург   \n22869      False          11.0      5.0                  Санкт-Петербург   \n\n       airports_nearest  cityCenters_nearest  parks_around3000  parks_nearest  \\\n464             26316.0               6655.0               3.0          187.0   \n12628           19644.0               3918.0               1.0          505.0   \n1026            24899.0               4785.0               0.0            NaN   \n7578            26333.0               6448.0               3.0          479.0   \n1388            26204.0               6934.0               2.0          149.0   \n21227           20170.0               1261.0               2.0          295.0   \n20264           26902.0               5605.0               3.0          484.0   \n17442           24638.0              28062.0               0.0            NaN   \n15743           32691.0              11035.0               1.0          723.0   \n3474                NaN                  NaN               NaN            NaN   \n5863            13069.0              10763.0               0.0            NaN   \n22309           36353.0              11936.0               2.0          440.0   \n15061           14814.0              13610.0               0.0            NaN   \n17496           16295.0              15092.0               1.0          967.0   \n20507           27028.0              12570.0               0.0            NaN   \n5076            29686.0               8389.0               3.0          397.0   \n14382               NaN                  NaN               NaN            NaN   \n18545           27054.0               8033.0               1.0          540.0   \n355                 NaN                  NaN               NaN            NaN   \n11285               NaN                  NaN               NaN            NaN   \n9379            11647.0              13581.0               0.0            NaN   \n6246            68923.0              50649.0               1.0          417.0   \n4643            12016.0              13256.0               1.0          658.0   \n5669            28981.0              10912.0               1.0          305.0   \n10773               NaN                  NaN               NaN            NaN   \n5807            18732.0              20444.0               0.0            NaN   \n17857           41030.0              15543.0               0.0            NaN   \n5246                NaN                  NaN               NaN            NaN   \n20478           18975.0               3246.0               0.0            NaN   \n4876                NaN                  NaN               NaN            NaN   \n21824               NaN                  NaN               NaN            NaN   \n22938               NaN                  NaN               NaN            NaN   \n21377           42742.0               9760.0               0.0            NaN   \n3148                NaN                  NaN               NaN            NaN   \n22336           18838.0               3506.0               0.0            NaN   \n22869           34963.0               8283.0               1.0          223.0   \n\n       ponds_around3000  ponds_nearest  days_exposition  \n464                 1.0          616.0            578.0  \n12628               1.0           92.0              8.0  \n1026                1.0          603.0              NaN  \n7578                0.0            NaN              NaN  \n1388                2.0          577.0            719.0  \n21227               3.0          366.0             30.0  \n20264               1.0          305.0            259.0  \n17442               0.0            NaN            469.0  \n15743               0.0            NaN            474.0  \n3474                NaN            NaN            125.0  \n5863                1.0          613.0             14.0  \n22309               2.0          450.0            136.0  \n15061               0.0            NaN            315.0  \n17496               0.0            NaN              NaN  \n20507               0.0            NaN             40.0  \n5076                1.0          578.0              7.0  \n14382               NaN            NaN            206.0  \n18545               0.0            NaN             12.0  \n355                 NaN            NaN            259.0  \n11285               NaN            NaN             18.0  \n9379                0.0            NaN              NaN  \n6246                2.0           73.0              NaN  \n4643                1.0          331.0            181.0  \n5669                0.0            NaN            267.0  \n10773               NaN            NaN             71.0  \n5807                3.0           80.0             38.0  \n17857               0.0            NaN             73.0  \n5246                NaN            NaN            540.0  \n20478               3.0          449.0            429.0  \n4876                NaN            NaN             28.0  \n21824               NaN            NaN              NaN  \n22938               NaN            NaN             27.0  \n21377               0.0            NaN             61.0  \n3148                NaN            NaN              NaN  \n22336               3.0          511.0              NaN  \n22869               3.0           30.0             19.0  ",
      "text/html": "<div>\n<style scoped>\n    .dataframe tbody tr th:only-of-type {\n        vertical-align: middle;\n    }\n\n    .dataframe tbody tr th {\n        vertical-align: top;\n    }\n\n    .dataframe thead th {\n        text-align: right;\n    }\n</style>\n<table border=\"1\" class=\"dataframe\">\n  <thead>\n    <tr style=\"text-align: right;\">\n      <th></th>\n      <th>total_images</th>\n      <th>last_price</th>\n      <th>total_area</th>\n      <th>first_day_exposition</th>\n      <th>rooms</th>\n      <th>ceiling_height</th>\n      <th>floors_total</th>\n      <th>living_area</th>\n      <th>floor</th>\n      <th>is_apartment</th>\n      <th>studio</th>\n      <th>open_plan</th>\n      <th>kitchen_area</th>\n      <th>balcony</th>\n      <th>locality_name</th>\n      <th>airports_nearest</th>\n      <th>cityCenters_nearest</th>\n      <th>parks_around3000</th>\n      <th>parks_nearest</th>\n      <th>ponds_around3000</th>\n      <th>ponds_nearest</th>\n      <th>days_exposition</th>\n    </tr>\n  </thead>\n  <tbody>\n    <tr>\n      <td>464</td>\n      <td>15</td>\n      <td>66571000.0</td>\n      <td>280.3</td>\n      <td>2015-06-11T00:00:00</td>\n      <td>6</td>\n      <td>5.2</td>\n      <td>8.0</td>\n      <td>159.5</td>\n      <td>7</td>\n      <td>NaN</td>\n      <td>False</td>\n      <td>False</td>\n      <td>21.1</td>\n      <td>0.0</td>\n      <td>Санкт-Петербург</td>\n      <td>26316.0</td>\n      <td>6655.0</td>\n      <td>3.0</td>\n      <td>187.0</td>\n      <td>1.0</td>\n      <td>616.0</td>\n      <td>578.0</td>\n    </tr>\n    <tr>\n      <td>12628</td>\n      <td>14</td>\n      <td>3900000.0</td>\n      <td>50.0</td>\n      <td>2018-03-29T00:00:00</td>\n      <td>1</td>\n      <td>5.3</td>\n      <td>5.0</td>\n      <td>NaN</td>\n      <td>5</td>\n      <td>NaN</td>\n      <td>False</td>\n      <td>False</td>\n      <td>NaN</td>\n      <td>NaN</td>\n      <td>Санкт-Петербург</td>\n      <td>19644.0</td>\n      <td>3918.0</td>\n      <td>1.0</td>\n      <td>505.0</td>\n      <td>1.0</td>\n      <td>92.0</td>\n      <td>8.0</td>\n    </tr>\n    <tr>\n      <td>1026</td>\n      <td>20</td>\n      <td>155000000.0</td>\n      <td>310.0</td>\n      <td>2018-10-12T00:00:00</td>\n      <td>5</td>\n      <td>5.3</td>\n      <td>3.0</td>\n      <td>190.0</td>\n      <td>3</td>\n      <td>NaN</td>\n      <td>False</td>\n      <td>False</td>\n      <td>63.0</td>\n      <td>2.0</td>\n      <td>Санкт-Петербург</td>\n      <td>24899.0</td>\n      <td>4785.0</td>\n      <td>0.0</td>\n      <td>NaN</td>\n      <td>1.0</td>\n      <td>603.0</td>\n      <td>NaN</td>\n    </tr>\n    <tr>\n      <td>7578</td>\n      <td>17</td>\n      <td>38000000.0</td>\n      <td>143.0</td>\n      <td>2017-11-02T00:00:00</td>\n      <td>3</td>\n      <td>5.5</td>\n      <td>5.0</td>\n      <td>83.0</td>\n      <td>5</td>\n      <td>NaN</td>\n      <td>False</td>\n      <td>False</td>\n      <td>29.0</td>\n      <td>1.0</td>\n      <td>Санкт-Петербург</td>\n      <td>26333.0</td>\n      <td>6448.0</td>\n      <td>3.0</td>\n      <td>479.0</td>\n      <td>0.0</td>\n      <td>NaN</td>\n      <td>NaN</td>\n    </tr>\n    <tr>\n      <td>1388</td>\n      <td>20</td>\n      <td>59800000.0</td>\n      <td>399.0</td>\n      <td>2015-01-21T00:00:00</td>\n      <td>5</td>\n      <td>5.6</td>\n      <td>6.0</td>\n      <td>NaN</td>\n      <td>6</td>\n      <td>NaN</td>\n      <td>False</td>\n      <td>False</td>\n      <td>NaN</td>\n      <td>0.0</td>\n      <td>Санкт-Петербург</td>\n      <td>26204.0</td>\n      <td>6934.0</td>\n      <td>2.0</td>\n      <td>149.0</td>\n      <td>2.0</td>\n      <td>577.0</td>\n      <td>719.0</td>\n    </tr>\n    <tr>\n      <td>21227</td>\n      <td>0</td>\n      <td>8200000.0</td>\n      <td>71.0</td>\n      <td>2017-07-21T00:00:00</td>\n      <td>0</td>\n      <td>5.8</td>\n      <td>5.0</td>\n      <td>68.0</td>\n      <td>5</td>\n      <td>NaN</td>\n      <td>True</td>\n      <td>False</td>\n      <td>NaN</td>\n      <td>0.0</td>\n      <td>Санкт-Петербург</td>\n      <td>20170.0</td>\n      <td>1261.0</td>\n      <td>2.0</td>\n      <td>295.0</td>\n      <td>3.0</td>\n      <td>366.0</td>\n      <td>30.0</td>\n    </tr>\n    <tr>\n      <td>20264</td>\n      <td>17</td>\n      <td>119000000.0</td>\n      <td>187.6</td>\n      <td>2017-07-10T00:00:00</td>\n      <td>4</td>\n      <td>6.0</td>\n      <td>7.0</td>\n      <td>147.0</td>\n      <td>7</td>\n      <td>NaN</td>\n      <td>False</td>\n      <td>False</td>\n      <td>15.6</td>\n      <td>NaN</td>\n      <td>Санкт-Петербург</td>\n      <td>26902.0</td>\n      <td>5605.0</td>\n      <td>3.0</td>\n      <td>484.0</td>\n      <td>1.0</td>\n      <td>305.0</td>\n      <td>259.0</td>\n    </tr>\n    <tr>\n      <td>17442</td>\n      <td>0</td>\n      <td>5350000.0</td>\n      <td>54.0</td>\n      <td>2015-06-16T00:00:00</td>\n      <td>2</td>\n      <td>8.0</td>\n      <td>5.0</td>\n      <td>29.0</td>\n      <td>2</td>\n      <td>NaN</td>\n      <td>False</td>\n      <td>False</td>\n      <td>NaN</td>\n      <td>1.0</td>\n      <td>Красное Село</td>\n      <td>24638.0</td>\n      <td>28062.0</td>\n      <td>0.0</td>\n      <td>NaN</td>\n      <td>0.0</td>\n      <td>NaN</td>\n      <td>469.0</td>\n    </tr>\n    <tr>\n      <td>15743</td>\n      <td>14</td>\n      <td>5600000.0</td>\n      <td>67.0</td>\n      <td>2016-11-11T00:00:00</td>\n      <td>3</td>\n      <td>8.0</td>\n      <td>16.0</td>\n      <td>41.0</td>\n      <td>1</td>\n      <td>NaN</td>\n      <td>False</td>\n      <td>False</td>\n      <td>8.0</td>\n      <td>NaN</td>\n      <td>Санкт-Петербург</td>\n      <td>32691.0</td>\n      <td>11035.0</td>\n      <td>1.0</td>\n      <td>723.0</td>\n      <td>0.0</td>\n      <td>NaN</td>\n      <td>474.0</td>\n    </tr>\n    <tr>\n      <td>3474</td>\n      <td>3</td>\n      <td>1400000.0</td>\n      <td>30.0</td>\n      <td>2018-03-16T00:00:00</td>\n      <td>1</td>\n      <td>8.0</td>\n      <td>5.0</td>\n      <td>15.3</td>\n      <td>2</td>\n      <td>False</td>\n      <td>False</td>\n      <td>False</td>\n      <td>7.3</td>\n      <td>NaN</td>\n      <td>деревня Нурма</td>\n      <td>NaN</td>\n      <td>NaN</td>\n      <td>NaN</td>\n      <td>NaN</td>\n      <td>NaN</td>\n      <td>NaN</td>\n      <td>125.0</td>\n    </tr>\n    <tr>\n      <td>5863</td>\n      <td>20</td>\n      <td>5650000.0</td>\n      <td>45.0</td>\n      <td>2018-08-15T00:00:00</td>\n      <td>1</td>\n      <td>8.3</td>\n      <td>16.0</td>\n      <td>19.3</td>\n      <td>14</td>\n      <td>NaN</td>\n      <td>False</td>\n      <td>False</td>\n      <td>8.3</td>\n      <td>1.0</td>\n      <td>Санкт-Петербург</td>\n      <td>13069.0</td>\n      <td>10763.0</td>\n      <td>0.0</td>\n      <td>NaN</td>\n      <td>1.0</td>\n      <td>613.0</td>\n      <td>14.0</td>\n    </tr>\n    <tr>\n      <td>22309</td>\n      <td>20</td>\n      <td>5300000.0</td>\n      <td>45.0</td>\n      <td>2017-09-30T00:00:00</td>\n      <td>1</td>\n      <td>10.3</td>\n      <td>16.0</td>\n      <td>15.5</td>\n      <td>15</td>\n      <td>NaN</td>\n      <td>False</td>\n      <td>False</td>\n      <td>NaN</td>\n      <td>NaN</td>\n      <td>Санкт-Петербург</td>\n      <td>36353.0</td>\n      <td>11936.0</td>\n      <td>2.0</td>\n      <td>440.0</td>\n      <td>2.0</td>\n      <td>450.0</td>\n      <td>136.0</td>\n    </tr>\n    <tr>\n      <td>15061</td>\n      <td>19</td>\n      <td>5600000.0</td>\n      <td>56.4</td>\n      <td>2018-05-11T00:00:00</td>\n      <td>2</td>\n      <td>14.0</td>\n      <td>14.0</td>\n      <td>32.4</td>\n      <td>5</td>\n      <td>NaN</td>\n      <td>False</td>\n      <td>False</td>\n      <td>9.1</td>\n      <td>2.0</td>\n      <td>Санкт-Петербург</td>\n      <td>14814.0</td>\n      <td>13610.0</td>\n      <td>0.0</td>\n      <td>NaN</td>\n      <td>0.0</td>\n      <td>NaN</td>\n      <td>315.0</td>\n    </tr>\n    <tr>\n      <td>17496</td>\n      <td>15</td>\n      <td>6700000.0</td>\n      <td>92.9</td>\n      <td>2019-02-19T00:00:00</td>\n      <td>3</td>\n      <td>20.0</td>\n      <td>17.0</td>\n      <td>53.2</td>\n      <td>14</td>\n      <td>NaN</td>\n      <td>False</td>\n      <td>False</td>\n      <td>12.0</td>\n      <td>5.0</td>\n      <td>Санкт-Петербург</td>\n      <td>16295.0</td>\n      <td>15092.0</td>\n      <td>1.0</td>\n      <td>967.0</td>\n      <td>0.0</td>\n      <td>NaN</td>\n      <td>NaN</td>\n    </tr>\n    <tr>\n      <td>20507</td>\n      <td>12</td>\n      <td>5950000.0</td>\n      <td>60.0</td>\n      <td>2018-02-19T00:00:00</td>\n      <td>2</td>\n      <td>22.6</td>\n      <td>14.0</td>\n      <td>35.0</td>\n      <td>11</td>\n      <td>NaN</td>\n      <td>False</td>\n      <td>False</td>\n      <td>13.0</td>\n      <td>1.0</td>\n      <td>Санкт-Петербург</td>\n      <td>27028.0</td>\n      <td>12570.0</td>\n      <td>0.0</td>\n      <td>NaN</td>\n      <td>0.0</td>\n      <td>NaN</td>\n      <td>40.0</td>\n    </tr>\n    <tr>\n      <td>5076</td>\n      <td>0</td>\n      <td>3850000.0</td>\n      <td>30.5</td>\n      <td>2018-10-03T00:00:00</td>\n      <td>1</td>\n      <td>24.0</td>\n      <td>5.0</td>\n      <td>19.5</td>\n      <td>1</td>\n      <td>True</td>\n      <td>False</td>\n      <td>False</td>\n      <td>5.5</td>\n      <td>NaN</td>\n      <td>Санкт-Петербург</td>\n      <td>29686.0</td>\n      <td>8389.0</td>\n      <td>3.0</td>\n      <td>397.0</td>\n      <td>1.0</td>\n      <td>578.0</td>\n      <td>7.0</td>\n    </tr>\n    <tr>\n      <td>14382</td>\n      <td>9</td>\n      <td>1700000.0</td>\n      <td>35.0</td>\n      <td>2015-12-04T00:00:00</td>\n      <td>1</td>\n      <td>25.0</td>\n      <td>5.0</td>\n      <td>20.0</td>\n      <td>2</td>\n      <td>False</td>\n      <td>False</td>\n      <td>False</td>\n      <td>8.0</td>\n      <td>1.0</td>\n      <td>поселок Новый Свет</td>\n      <td>NaN</td>\n      <td>NaN</td>\n      <td>NaN</td>\n      <td>NaN</td>\n      <td>NaN</td>\n      <td>NaN</td>\n      <td>206.0</td>\n    </tr>\n    <tr>\n      <td>18545</td>\n      <td>6</td>\n      <td>3750000.0</td>\n      <td>43.0</td>\n      <td>2019-03-18T00:00:00</td>\n      <td>2</td>\n      <td>25.0</td>\n      <td>5.0</td>\n      <td>29.0</td>\n      <td>3</td>\n      <td>False</td>\n      <td>False</td>\n      <td>False</td>\n      <td>NaN</td>\n      <td>NaN</td>\n      <td>Санкт-Петербург</td>\n      <td>27054.0</td>\n      <td>8033.0</td>\n      <td>1.0</td>\n      <td>540.0</td>\n      <td>0.0</td>\n      <td>NaN</td>\n      <td>12.0</td>\n    </tr>\n    <tr>\n      <td>355</td>\n      <td>17</td>\n      <td>3600000.0</td>\n      <td>55.2</td>\n      <td>2018-07-12T00:00:00</td>\n      <td>2</td>\n      <td>25.0</td>\n      <td>5.0</td>\n      <td>32.0</td>\n      <td>2</td>\n      <td>False</td>\n      <td>False</td>\n      <td>False</td>\n      <td>NaN</td>\n      <td>2.0</td>\n      <td>Гатчина</td>\n      <td>NaN</td>\n      <td>NaN</td>\n      <td>NaN</td>\n      <td>NaN</td>\n      <td>NaN</td>\n      <td>NaN</td>\n      <td>259.0</td>\n    </tr>\n    <tr>\n      <td>11285</td>\n      <td>0</td>\n      <td>1950000.0</td>\n      <td>37.0</td>\n      <td>2019-03-20T00:00:00</td>\n      <td>1</td>\n      <td>25.0</td>\n      <td>5.0</td>\n      <td>17.0</td>\n      <td>4</td>\n      <td>False</td>\n      <td>False</td>\n      <td>False</td>\n      <td>9.0</td>\n      <td>2.0</td>\n      <td>Луга</td>\n      <td>NaN</td>\n      <td>NaN</td>\n      <td>NaN</td>\n      <td>NaN</td>\n      <td>NaN</td>\n      <td>NaN</td>\n      <td>18.0</td>\n    </tr>\n    <tr>\n      <td>9379</td>\n      <td>5</td>\n      <td>3950000.0</td>\n      <td>42.0</td>\n      <td>2017-03-26T00:00:00</td>\n      <td>3</td>\n      <td>25.0</td>\n      <td>5.0</td>\n      <td>30.0</td>\n      <td>2</td>\n      <td>NaN</td>\n      <td>False</td>\n      <td>False</td>\n      <td>5.2</td>\n      <td>NaN</td>\n      <td>Санкт-Петербург</td>\n      <td>11647.0</td>\n      <td>13581.0</td>\n      <td>0.0</td>\n      <td>NaN</td>\n      <td>0.0</td>\n      <td>NaN</td>\n      <td>NaN</td>\n    </tr>\n    <tr>\n      <td>6246</td>\n      <td>6</td>\n      <td>3300000.0</td>\n      <td>44.4</td>\n      <td>2019-03-25T00:00:00</td>\n      <td>2</td>\n      <td>25.0</td>\n      <td>5.0</td>\n      <td>31.3</td>\n      <td>5</td>\n      <td>NaN</td>\n      <td>False</td>\n      <td>False</td>\n      <td>5.7</td>\n      <td>NaN</td>\n      <td>Кронштадт</td>\n      <td>68923.0</td>\n      <td>50649.0</td>\n      <td>1.0</td>\n      <td>417.0</td>\n      <td>2.0</td>\n      <td>73.0</td>\n      <td>NaN</td>\n    </tr>\n    <tr>\n      <td>4643</td>\n      <td>0</td>\n      <td>4300000.0</td>\n      <td>45.0</td>\n      <td>2018-02-01T00:00:00</td>\n      <td>2</td>\n      <td>25.0</td>\n      <td>9.0</td>\n      <td>30.0</td>\n      <td>2</td>\n      <td>NaN</td>\n      <td>False</td>\n      <td>False</td>\n      <td>7.0</td>\n      <td>1.0</td>\n      <td>Санкт-Петербург</td>\n      <td>12016.0</td>\n      <td>13256.0</td>\n      <td>1.0</td>\n      <td>658.0</td>\n      <td>1.0</td>\n      <td>331.0</td>\n      <td>181.0</td>\n    </tr>\n    <tr>\n      <td>5669</td>\n      <td>4</td>\n      <td>4400000.0</td>\n      <td>50.0</td>\n      <td>2017-08-08T00:00:00</td>\n      <td>2</td>\n      <td>26.0</td>\n      <td>9.0</td>\n      <td>21.3</td>\n      <td>3</td>\n      <td>NaN</td>\n      <td>False</td>\n      <td>False</td>\n      <td>7.0</td>\n      <td>2.0</td>\n      <td>Санкт-Петербург</td>\n      <td>28981.0</td>\n      <td>10912.0</td>\n      <td>1.0</td>\n      <td>305.0</td>\n      <td>0.0</td>\n      <td>NaN</td>\n      <td>267.0</td>\n    </tr>\n    <tr>\n      <td>10773</td>\n      <td>8</td>\n      <td>3800000.0</td>\n      <td>58.0</td>\n      <td>2017-10-13T00:00:00</td>\n      <td>2</td>\n      <td>27.0</td>\n      <td>10.0</td>\n      <td>30.1</td>\n      <td>3</td>\n      <td>False</td>\n      <td>False</td>\n      <td>False</td>\n      <td>8.1</td>\n      <td>2.0</td>\n      <td>посёлок Мурино</td>\n      <td>NaN</td>\n      <td>NaN</td>\n      <td>NaN</td>\n      <td>NaN</td>\n      <td>NaN</td>\n      <td>NaN</td>\n      <td>71.0</td>\n    </tr>\n    <tr>\n      <td>5807</td>\n      <td>17</td>\n      <td>8150000.0</td>\n      <td>80.0</td>\n      <td>2019-01-09T00:00:00</td>\n      <td>2</td>\n      <td>27.0</td>\n      <td>36.0</td>\n      <td>41.0</td>\n      <td>13</td>\n      <td>NaN</td>\n      <td>False</td>\n      <td>False</td>\n      <td>12.0</td>\n      <td>5.0</td>\n      <td>Санкт-Петербург</td>\n      <td>18732.0</td>\n      <td>20444.0</td>\n      <td>0.0</td>\n      <td>NaN</td>\n      <td>3.0</td>\n      <td>80.0</td>\n      <td>38.0</td>\n    </tr>\n    <tr>\n      <td>17857</td>\n      <td>1</td>\n      <td>3900000.0</td>\n      <td>56.0</td>\n      <td>2017-12-22T00:00:00</td>\n      <td>3</td>\n      <td>27.0</td>\n      <td>5.0</td>\n      <td>33.0</td>\n      <td>4</td>\n      <td>False</td>\n      <td>False</td>\n      <td>False</td>\n      <td>NaN</td>\n      <td>NaN</td>\n      <td>Санкт-Петербург</td>\n      <td>41030.0</td>\n      <td>15543.0</td>\n      <td>0.0</td>\n      <td>NaN</td>\n      <td>0.0</td>\n      <td>NaN</td>\n      <td>73.0</td>\n    </tr>\n    <tr>\n      <td>5246</td>\n      <td>0</td>\n      <td>2500000.0</td>\n      <td>54.0</td>\n      <td>2017-10-13T00:00:00</td>\n      <td>2</td>\n      <td>27.0</td>\n      <td>5.0</td>\n      <td>30.0</td>\n      <td>3</td>\n      <td>NaN</td>\n      <td>False</td>\n      <td>False</td>\n      <td>9.0</td>\n      <td>2.0</td>\n      <td>деревня Мины</td>\n      <td>NaN</td>\n      <td>NaN</td>\n      <td>NaN</td>\n      <td>NaN</td>\n      <td>NaN</td>\n      <td>NaN</td>\n      <td>540.0</td>\n    </tr>\n    <tr>\n      <td>20478</td>\n      <td>11</td>\n      <td>8000000.0</td>\n      <td>45.0</td>\n      <td>2017-07-18T00:00:00</td>\n      <td>1</td>\n      <td>27.0</td>\n      <td>4.0</td>\n      <td>22.0</td>\n      <td>2</td>\n      <td>NaN</td>\n      <td>False</td>\n      <td>False</td>\n      <td>10.0</td>\n      <td>1.0</td>\n      <td>Санкт-Петербург</td>\n      <td>18975.0</td>\n      <td>3246.0</td>\n      <td>0.0</td>\n      <td>NaN</td>\n      <td>3.0</td>\n      <td>449.0</td>\n      <td>429.0</td>\n    </tr>\n    <tr>\n      <td>4876</td>\n      <td>7</td>\n      <td>3000000.0</td>\n      <td>25.0</td>\n      <td>2017-09-27T00:00:00</td>\n      <td>0</td>\n      <td>27.0</td>\n      <td>25.0</td>\n      <td>17.0</td>\n      <td>17</td>\n      <td>NaN</td>\n      <td>False</td>\n      <td>True</td>\n      <td>NaN</td>\n      <td>2.0</td>\n      <td>посёлок Мурино</td>\n      <td>NaN</td>\n      <td>NaN</td>\n      <td>NaN</td>\n      <td>NaN</td>\n      <td>NaN</td>\n      <td>NaN</td>\n      <td>28.0</td>\n    </tr>\n    <tr>\n      <td>21824</td>\n      <td>20</td>\n      <td>2450000.0</td>\n      <td>44.0</td>\n      <td>2019-02-12T00:00:00</td>\n      <td>2</td>\n      <td>27.0</td>\n      <td>2.0</td>\n      <td>38.0</td>\n      <td>2</td>\n      <td>False</td>\n      <td>False</td>\n      <td>False</td>\n      <td>8.6</td>\n      <td>2.0</td>\n      <td>городской поселок Большая Ижора</td>\n      <td>NaN</td>\n      <td>NaN</td>\n      <td>NaN</td>\n      <td>NaN</td>\n      <td>NaN</td>\n      <td>NaN</td>\n      <td>NaN</td>\n    </tr>\n    <tr>\n      <td>22938</td>\n      <td>14</td>\n      <td>4000000.0</td>\n      <td>98.0</td>\n      <td>2018-03-15T00:00:00</td>\n      <td>4</td>\n      <td>27.0</td>\n      <td>2.0</td>\n      <td>73.0</td>\n      <td>2</td>\n      <td>True</td>\n      <td>False</td>\n      <td>False</td>\n      <td>9.0</td>\n      <td>1.0</td>\n      <td>деревня Нижняя</td>\n      <td>NaN</td>\n      <td>NaN</td>\n      <td>NaN</td>\n      <td>NaN</td>\n      <td>NaN</td>\n      <td>NaN</td>\n      <td>27.0</td>\n    </tr>\n    <tr>\n      <td>21377</td>\n      <td>19</td>\n      <td>4900000.0</td>\n      <td>42.0</td>\n      <td>2017-04-18T00:00:00</td>\n      <td>1</td>\n      <td>27.5</td>\n      <td>24.0</td>\n      <td>37.7</td>\n      <td>19</td>\n      <td>False</td>\n      <td>False</td>\n      <td>False</td>\n      <td>11.0</td>\n      <td>2.0</td>\n      <td>Санкт-Петербург</td>\n      <td>42742.0</td>\n      <td>9760.0</td>\n      <td>0.0</td>\n      <td>NaN</td>\n      <td>0.0</td>\n      <td>NaN</td>\n      <td>61.0</td>\n    </tr>\n    <tr>\n      <td>3148</td>\n      <td>14</td>\n      <td>2900000.0</td>\n      <td>75.0</td>\n      <td>2018-11-12T00:00:00</td>\n      <td>3</td>\n      <td>32.0</td>\n      <td>3.0</td>\n      <td>53.0</td>\n      <td>2</td>\n      <td>NaN</td>\n      <td>False</td>\n      <td>False</td>\n      <td>8.0</td>\n      <td>NaN</td>\n      <td>Волхов</td>\n      <td>NaN</td>\n      <td>NaN</td>\n      <td>NaN</td>\n      <td>NaN</td>\n      <td>NaN</td>\n      <td>NaN</td>\n      <td>NaN</td>\n    </tr>\n    <tr>\n      <td>22336</td>\n      <td>19</td>\n      <td>9999000.0</td>\n      <td>92.4</td>\n      <td>2019-04-05T00:00:00</td>\n      <td>2</td>\n      <td>32.0</td>\n      <td>6.0</td>\n      <td>55.5</td>\n      <td>5</td>\n      <td>False</td>\n      <td>False</td>\n      <td>False</td>\n      <td>16.5</td>\n      <td>4.0</td>\n      <td>Санкт-Петербург</td>\n      <td>18838.0</td>\n      <td>3506.0</td>\n      <td>0.0</td>\n      <td>NaN</td>\n      <td>3.0</td>\n      <td>511.0</td>\n      <td>NaN</td>\n    </tr>\n    <tr>\n      <td>22869</td>\n      <td>0</td>\n      <td>15000000.0</td>\n      <td>25.0</td>\n      <td>2018-07-25T00:00:00</td>\n      <td>1</td>\n      <td>100.0</td>\n      <td>5.0</td>\n      <td>14.0</td>\n      <td>5</td>\n      <td>True</td>\n      <td>False</td>\n      <td>False</td>\n      <td>11.0</td>\n      <td>5.0</td>\n      <td>Санкт-Петербург</td>\n      <td>34963.0</td>\n      <td>8283.0</td>\n      <td>1.0</td>\n      <td>223.0</td>\n      <td>3.0</td>\n      <td>30.0</td>\n      <td>19.0</td>\n    </tr>\n  </tbody>\n</table>\n</div>"
     },
     "execution_count": 8,
     "metadata": {},
     "output_type": "execute_result"
    }
   ],
   "source": [
    "data[data['ceiling_height'] > 5].sort_values(by='ceiling_height')"
   ],
   "metadata": {
    "collapsed": false,
    "pycharm": {
     "name": "#%%\n"
    }
   }
  },
  {
   "cell_type": "markdown",
   "source": [
    "В объявлениях, где высота потолков указана от 24 до 32 метров, почти наверняка просто ошибка в разрядности и нужно поделить высоту на 10"
   ],
   "metadata": {
    "collapsed": false,
    "pycharm": {
     "name": "#%% md\n"
    }
   }
  },
  {
   "cell_type": "code",
   "execution_count": 69,
   "outputs": [],
   "source": [
    "ceiling_height_filter_from24_to_32 = (\n",
    "        (data['ceiling_height'] >= 24) &\n",
    "        (data['ceiling_height'] <= 32))\n",
    "data.loc[ceiling_height_filter_from24_to_32, 'ceiling_height'] /= 10"
   ],
   "metadata": {
    "collapsed": false,
    "pycharm": {
     "name": "#%%\n"
    }
   }
  },
  {
   "cell_type": "code",
   "execution_count": 70,
   "outputs": [
    {
     "data": {
      "text/plain": "        last_price  total_area  ceiling_height  floors_total  floor  \\\n464     66571000.0       280.3             5.2           8.0      7   \n1026   155000000.0       310.0             5.3           3.0      3   \n12628    3900000.0        50.0             5.3           5.0      5   \n7578    38000000.0       143.0             5.5           5.0      5   \n1388    59800000.0       399.0             5.6           6.0      6   \n21227    8200000.0        71.0             5.8           5.0      5   \n20264  119000000.0       187.6             6.0           7.0      7   \n3474     1400000.0        30.0             8.0           5.0      2   \n15743    5600000.0        67.0             8.0          16.0      1   \n17442    5350000.0        54.0             8.0           5.0      2   \n5863     5650000.0        45.0             8.3          16.0     14   \n22309    5300000.0        45.0            10.3          16.0     15   \n15061    5600000.0        56.4            14.0          14.0      5   \n17496    6700000.0        92.9            20.0          17.0     14   \n20507    5950000.0        60.0            22.6          14.0     11   \n22869   15000000.0        25.0           100.0           5.0      5   \n\n         locality_name  \n464    Санкт-Петербург  \n1026   Санкт-Петербург  \n12628  Санкт-Петербург  \n7578   Санкт-Петербург  \n1388   Санкт-Петербург  \n21227  Санкт-Петербург  \n20264  Санкт-Петербург  \n3474     деревня Нурма  \n15743  Санкт-Петербург  \n17442     Красное Село  \n5863   Санкт-Петербург  \n22309  Санкт-Петербург  \n15061  Санкт-Петербург  \n17496  Санкт-Петербург  \n20507  Санкт-Петербург  \n22869  Санкт-Петербург  ",
      "text/html": "<div>\n<style scoped>\n    .dataframe tbody tr th:only-of-type {\n        vertical-align: middle;\n    }\n\n    .dataframe tbody tr th {\n        vertical-align: top;\n    }\n\n    .dataframe thead th {\n        text-align: right;\n    }\n</style>\n<table border=\"1\" class=\"dataframe\">\n  <thead>\n    <tr style=\"text-align: right;\">\n      <th></th>\n      <th>last_price</th>\n      <th>total_area</th>\n      <th>ceiling_height</th>\n      <th>floors_total</th>\n      <th>floor</th>\n      <th>locality_name</th>\n    </tr>\n  </thead>\n  <tbody>\n    <tr>\n      <td>464</td>\n      <td>66571000.0</td>\n      <td>280.3</td>\n      <td>5.2</td>\n      <td>8.0</td>\n      <td>7</td>\n      <td>Санкт-Петербург</td>\n    </tr>\n    <tr>\n      <td>1026</td>\n      <td>155000000.0</td>\n      <td>310.0</td>\n      <td>5.3</td>\n      <td>3.0</td>\n      <td>3</td>\n      <td>Санкт-Петербург</td>\n    </tr>\n    <tr>\n      <td>12628</td>\n      <td>3900000.0</td>\n      <td>50.0</td>\n      <td>5.3</td>\n      <td>5.0</td>\n      <td>5</td>\n      <td>Санкт-Петербург</td>\n    </tr>\n    <tr>\n      <td>7578</td>\n      <td>38000000.0</td>\n      <td>143.0</td>\n      <td>5.5</td>\n      <td>5.0</td>\n      <td>5</td>\n      <td>Санкт-Петербург</td>\n    </tr>\n    <tr>\n      <td>1388</td>\n      <td>59800000.0</td>\n      <td>399.0</td>\n      <td>5.6</td>\n      <td>6.0</td>\n      <td>6</td>\n      <td>Санкт-Петербург</td>\n    </tr>\n    <tr>\n      <td>21227</td>\n      <td>8200000.0</td>\n      <td>71.0</td>\n      <td>5.8</td>\n      <td>5.0</td>\n      <td>5</td>\n      <td>Санкт-Петербург</td>\n    </tr>\n    <tr>\n      <td>20264</td>\n      <td>119000000.0</td>\n      <td>187.6</td>\n      <td>6.0</td>\n      <td>7.0</td>\n      <td>7</td>\n      <td>Санкт-Петербург</td>\n    </tr>\n    <tr>\n      <td>3474</td>\n      <td>1400000.0</td>\n      <td>30.0</td>\n      <td>8.0</td>\n      <td>5.0</td>\n      <td>2</td>\n      <td>деревня Нурма</td>\n    </tr>\n    <tr>\n      <td>15743</td>\n      <td>5600000.0</td>\n      <td>67.0</td>\n      <td>8.0</td>\n      <td>16.0</td>\n      <td>1</td>\n      <td>Санкт-Петербург</td>\n    </tr>\n    <tr>\n      <td>17442</td>\n      <td>5350000.0</td>\n      <td>54.0</td>\n      <td>8.0</td>\n      <td>5.0</td>\n      <td>2</td>\n      <td>Красное Село</td>\n    </tr>\n    <tr>\n      <td>5863</td>\n      <td>5650000.0</td>\n      <td>45.0</td>\n      <td>8.3</td>\n      <td>16.0</td>\n      <td>14</td>\n      <td>Санкт-Петербург</td>\n    </tr>\n    <tr>\n      <td>22309</td>\n      <td>5300000.0</td>\n      <td>45.0</td>\n      <td>10.3</td>\n      <td>16.0</td>\n      <td>15</td>\n      <td>Санкт-Петербург</td>\n    </tr>\n    <tr>\n      <td>15061</td>\n      <td>5600000.0</td>\n      <td>56.4</td>\n      <td>14.0</td>\n      <td>14.0</td>\n      <td>5</td>\n      <td>Санкт-Петербург</td>\n    </tr>\n    <tr>\n      <td>17496</td>\n      <td>6700000.0</td>\n      <td>92.9</td>\n      <td>20.0</td>\n      <td>17.0</td>\n      <td>14</td>\n      <td>Санкт-Петербург</td>\n    </tr>\n    <tr>\n      <td>20507</td>\n      <td>5950000.0</td>\n      <td>60.0</td>\n      <td>22.6</td>\n      <td>14.0</td>\n      <td>11</td>\n      <td>Санкт-Петербург</td>\n    </tr>\n    <tr>\n      <td>22869</td>\n      <td>15000000.0</td>\n      <td>25.0</td>\n      <td>100.0</td>\n      <td>5.0</td>\n      <td>5</td>\n      <td>Санкт-Петербург</td>\n    </tr>\n  </tbody>\n</table>\n</div>"
     },
     "execution_count": 70,
     "metadata": {},
     "output_type": "execute_result"
    }
   ],
   "source": [
    "data.pivot_table(index='locality_name')"
   ],
   "metadata": {
    "collapsed": false,
    "pycharm": {
     "name": "#%%\n"
    }
   }
  },
  {
   "cell_type": "markdown",
   "metadata": {},
   "source": [
    "## Расчёты и добавление результатов в таблицу"
   ]
  },
  {
   "cell_type": "code",
   "execution_count": null,
   "metadata": {},
   "outputs": [],
   "source": []
  },
  {
   "cell_type": "markdown",
   "metadata": {},
   "source": [
    "## Исследовательский анализ данных"
   ]
  },
  {
   "cell_type": "code",
   "execution_count": null,
   "metadata": {},
   "outputs": [],
   "source": []
  },
  {
   "cell_type": "markdown",
   "metadata": {},
   "source": [
    "## Общий вывод"
   ]
  },
  {
   "cell_type": "markdown",
   "metadata": {},
   "source": []
  },
  {
   "cell_type": "markdown",
   "metadata": {},
   "source": [
    "## Чек-лист готовности проекта\n",
    "\n",
    "Поставьте 'x' в выполненных пунктах. Далее нажмите Shift+Enter."
   ]
  },
  {
   "cell_type": "markdown",
   "metadata": {},
   "source": [
    "- [x]  открыт файл\n",
    "- [x]  файлы изучены (выведены первые строки, метод info())\n",
    "- [ ]  определены пропущенные значения\n",
    "- [ ]  заполнены пропущенные значения\n",
    "- [ ]  есть пояснение, какие пропущенные значения обнаружены\n",
    "- [ ]  изменены типы данных\n",
    "- [ ]  есть пояснение, в каких столбцах изменены типы и почему\n",
    "- [ ]  посчитано и добавлено в таблицу: цена квадратного метра\n",
    "- [ ]  посчитано и добавлено в таблицу: день недели, месяц и год публикации объявления\n",
    "- [ ]  посчитано и добавлено в таблицу: этаж квартиры; варианты — первый, последний, другой\n",
    "- [ ]  посчитано и добавлено в таблицу: соотношение жилой и общей площади, а также отношение площади кухни к общей\n",
    "- [ ]  изучены следующие параметры: площадь, цена, число комнат, высота потолков\n",
    "- [ ]  построены гистограммы для каждого параметра\n",
    "- [ ]  выполнено задание: \"Изучите время продажи квартиры. Постройте гистограмму. Посчитайте среднее и медиану. Опишите, сколько обычно занимает продажа. Когда можно считать, что продажи прошли очень быстро, а когда необычно долго?\"\n",
    "- [ ]  выполнено задание: \"Уберите редкие и выбивающиеся значения. Опишите, какие особенности обнаружили.\"\n",
    "- [ ]  выполнено задание: \"Какие факторы больше всего влияют на стоимость квартиры? Изучите, зависит ли цена от квадратного метра, числа комнат, этажа (первого или последнего), удалённости от центра. Также изучите зависимость от даты размещения: дня недели, месяца и года. \"Выберите 10 населённых пунктов с наибольшим числом объявлений. Посчитайте среднюю цену квадратного метра в этих населённых пунктах. Выделите населённые пункты с самой высокой и низкой стоимостью жилья. Эти данные можно найти по имени в столбце '*locality_name'*. \"\n",
    "- [ ]  выполнено задание: \"Изучите предложения квартир: для каждой квартиры есть информация о расстоянии до центра. Выделите квартиры в Санкт-Петербурге (*'locality_name'*). Ваша задача — выяснить, какая область входит в центр. Создайте столбец с расстоянием до центра в километрах: округлите до целых значений. После этого посчитайте среднюю цену для каждого километра. Постройте график: он должен показывать, как цена зависит от удалённости от центра. Определите границу, где график сильно меняется — это и будет центральная зона. \"\n",
    "- [ ]  выполнено задание: \"Выделите сегмент квартир в центре. Проанализируйте эту территорию и изучите следующие параметры: площадь, цена, число комнат, высота потолков. Также выделите факторы, которые влияют на стоимость квартиры (число комнат, этаж, удалённость от центра, дата размещения объявления). Сделайте выводы. Отличаются ли они от общих выводов по всему городу?\"\n",
    "- [ ]  в каждом этапе есть выводы\n",
    "- [ ]  есть общий вывод"
   ]
  },
  {
   "cell_type": "code",
   "execution_count": null,
   "outputs": [],
   "source": [],
   "metadata": {
    "collapsed": false,
    "pycharm": {
     "name": "#%%\n"
    }
   }
  }
 ],
 "metadata": {
  "kernelspec": {
   "display_name": "Python 3",
   "language": "python",
   "name": "python3"
  },
  "language_info": {
   "codemirror_mode": {
    "name": "ipython",
    "version": 3
   },
   "file_extension": ".py",
   "mimetype": "text/x-python",
   "name": "python",
   "nbconvert_exporter": "python",
   "pygments_lexer": "ipython3",
   "version": "3.7.8"
  },
  "toc": {
   "base_numbering": 1,
   "nav_menu": {},
   "number_sections": true,
   "sideBar": true,
   "skip_h1_title": true,
   "title_cell": "Содержание",
   "title_sidebar": "Contents",
   "toc_cell": true,
   "toc_position": {},
   "toc_section_display": true,
   "toc_window_display": true
  }
 },
 "nbformat": 4,
 "nbformat_minor": 2
}