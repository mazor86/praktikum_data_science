{
 "cells": [
  {
   "cell_type": "markdown",
   "source": [
    "<h1>Содержание<span class=\"tocSkip\"></span></h1>\n",
    "<div class=\"toc\"><ul class=\"toc-item\"><li><span><a href=\"#Изучение-данных-из-файла\" data-toc-modified-id=\"Изучение-данных-из-файла-1\"><span class=\"toc-item-num\">1&nbsp;&nbsp;</span>Изучение данных из файла</a></span><ul class=\"toc-item\"><li><span><a href=\"#Вывод\" data-toc-modified-id=\"Вывод-1.1\"><span class=\"toc-item-num\">1.1&nbsp;&nbsp;</span>Вывод</a></span></li></ul></li><li><span><a href=\"#Предобработка-данных\" data-toc-modified-id=\"Предобработка-данных-2\"><span class=\"toc-item-num\">2&nbsp;&nbsp;</span>Предобработка данных</a></span></li><li><span><a href=\"#Расчёты-и-добавление-результатов-в-таблицу\" data-toc-modified-id=\"Расчёты-и-добавление-результатов-в-таблицу-3\"><span class=\"toc-item-num\">3&nbsp;&nbsp;</span>Расчёты и добавление результатов в таблицу</a></span></li><li><span><a href=\"#Исследовательский-анализ-данных\" data-toc-modified-id=\"Исследовательский-анализ-данных-4\"><span class=\"toc-item-num\">4&nbsp;&nbsp;</span>Исследовательский анализ данных</a></span></li><li><span><a href=\"#Общий-вывод\" data-toc-modified-id=\"Общий-вывод-5\"><span class=\"toc-item-num\">5&nbsp;&nbsp;</span>Общий вывод</a></span></li><li><span><a href=\"#Чек-лист-готовности-проекта\" data-toc-modified-id=\"Чек-лист-готовности-проекта-6\"><span class=\"toc-item-num\">6&nbsp;&nbsp;</span>Чек-лист готовности проекта</a></span></li></ul></div>"
   ],
   "metadata": {
    "collapsed": false
   }
  },
  {
   "cell_type": "markdown",
   "source": [
    "# Исследование объявлений о продаже квартир\n",
    "\n",
    "В вашем распоряжении данные сервиса Яндекс.Недвижимость — архив объявлений о продаже квартир в Санкт-Петербурге и соседних населённых пунктах за несколько лет. Нужно научиться определять рыночную стоимость объектов недвижимости. Ваша задача — установить параметры. Это позволит построить автоматизированную систему: она отследит аномалии и мошенническую деятельность. \n",
    "\n",
    "По каждой квартире на продажу доступны два вида данных. Первые вписаны пользователем, вторые получены автоматически на основе картографических данных. Например, расстояние до центра, аэропорта, ближайшего парка и водоёма. "
   ],
   "metadata": {
    "collapsed": false
   }
  },
  {
   "cell_type": "markdown",
   "source": [
    "## Изучение данных из файла"
   ],
   "metadata": {
    "collapsed": false
   }
  },
  {
   "cell_type": "code",
   "execution_count": 313,
   "outputs": [],
   "source": [
    "import pandas as pd\n",
    "import numpy as np\n",
    "import matplotlib.pyplot as plt"
   ],
   "metadata": {
    "collapsed": false,
    "pycharm": {
     "name": "#%%\n"
    }
   }
  },
  {
   "cell_type": "code",
   "execution_count": 314,
   "outputs": [
    {
     "name": "stdout",
     "output_type": "stream",
     "text": [
      "<class 'pandas.core.frame.DataFrame'>\n",
      "RangeIndex: 23699 entries, 0 to 23698\n",
      "Data columns (total 22 columns):\n",
      "total_images            23699 non-null int64\n",
      "last_price              23699 non-null float64\n",
      "total_area              23699 non-null float64\n",
      "first_day_exposition    23699 non-null object\n",
      "rooms                   23699 non-null int64\n",
      "ceiling_height          14504 non-null float64\n",
      "floors_total            23613 non-null float64\n",
      "living_area             21796 non-null float64\n",
      "floor                   23699 non-null int64\n",
      "is_apartment            2775 non-null object\n",
      "studio                  23699 non-null bool\n",
      "open_plan               23699 non-null bool\n",
      "kitchen_area            21421 non-null float64\n",
      "balcony                 12180 non-null float64\n",
      "locality_name           23650 non-null object\n",
      "airports_nearest        18157 non-null float64\n",
      "cityCenters_nearest     18180 non-null float64\n",
      "parks_around3000        18181 non-null float64\n",
      "parks_nearest           8079 non-null float64\n",
      "ponds_around3000        18181 non-null float64\n",
      "ponds_nearest           9110 non-null float64\n",
      "days_exposition         20518 non-null float64\n",
      "dtypes: bool(2), float64(14), int64(3), object(3)\n",
      "memory usage: 3.7+ MB\n"
     ]
    }
   ],
   "source": [
    "try:\n",
    "    data = pd.read_csv('/datasets/real_estate_data.csv', sep='\\t')\n",
    "except IOError:\n",
    "    data = pd.read_csv('real_estate_data.csv', sep='\\t')\n",
    "\n",
    "data.info()"
   ],
   "metadata": {
    "collapsed": false,
    "pycharm": {
     "name": "#%%\n"
    }
   }
  },
  {
   "cell_type": "code",
   "execution_count": 315,
   "outputs": [
    {
     "data": {
      "text/plain": "   total_images  last_price  total_area first_day_exposition  rooms  \\\n0            20  13000000.0      108.00  2019-03-07T00:00:00      3   \n1             7   3350000.0       40.40  2018-12-04T00:00:00      1   \n2            10   5196000.0       56.00  2015-08-20T00:00:00      2   \n3             0  64900000.0      159.00  2015-07-24T00:00:00      3   \n4             2  10000000.0      100.00  2018-06-19T00:00:00      2   \n5            10   2890000.0       30.40  2018-09-10T00:00:00      1   \n6             6   3700000.0       37.30  2017-11-02T00:00:00      1   \n7             5   7915000.0       71.60  2019-04-18T00:00:00      2   \n8            20   2900000.0       33.16  2018-05-23T00:00:00      1   \n9            18   5400000.0       61.00  2017-02-26T00:00:00      3   \n\n   ceiling_height  floors_total  living_area  floor is_apartment  studio  \\\n0            2.70          16.0        51.00      8          NaN   False   \n1             NaN          11.0        18.60      1          NaN   False   \n2             NaN           5.0        34.30      4          NaN   False   \n3             NaN          14.0          NaN      9          NaN   False   \n4            3.03          14.0        32.00     13          NaN   False   \n5             NaN          12.0        14.40      5          NaN   False   \n6             NaN          26.0        10.60      6          NaN   False   \n7             NaN          24.0          NaN     22          NaN   False   \n8             NaN          27.0        15.43     26          NaN   False   \n9            2.50           9.0        43.60      7          NaN   False   \n\n   open_plan  kitchen_area  balcony              locality_name  \\\n0      False         25.00      NaN            Санкт-Петербург   \n1      False         11.00      2.0             посёлок Шушары   \n2      False          8.30      0.0            Санкт-Петербург   \n3      False           NaN      0.0            Санкт-Петербург   \n4      False         41.00      NaN            Санкт-Петербург   \n5      False          9.10      NaN  городской посёлок Янино-1   \n6      False         14.40      1.0          посёлок Парголово   \n7      False         18.90      2.0            Санкт-Петербург   \n8      False          8.81      NaN             посёлок Мурино   \n9      False          6.50      2.0            Санкт-Петербург   \n\n   airports_nearest  cityCenters_nearest  parks_around3000  parks_nearest  \\\n0           18863.0              16028.0               1.0          482.0   \n1           12817.0              18603.0               0.0            NaN   \n2           21741.0              13933.0               1.0           90.0   \n3           28098.0               6800.0               2.0           84.0   \n4           31856.0               8098.0               2.0          112.0   \n5               NaN                  NaN               NaN            NaN   \n6           52996.0              19143.0               0.0            NaN   \n7           23982.0              11634.0               0.0            NaN   \n8               NaN                  NaN               NaN            NaN   \n9           50898.0              15008.0               0.0            NaN   \n\n   ponds_around3000  ponds_nearest  days_exposition  \n0               2.0          755.0              NaN  \n1               0.0            NaN             81.0  \n2               2.0          574.0            558.0  \n3               3.0          234.0            424.0  \n4               1.0           48.0            121.0  \n5               NaN            NaN             55.0  \n6               0.0            NaN            155.0  \n7               0.0            NaN              NaN  \n8               NaN            NaN            189.0  \n9               0.0            NaN            289.0  ",
      "text/html": "<div>\n<style scoped>\n    .dataframe tbody tr th:only-of-type {\n        vertical-align: middle;\n    }\n\n    .dataframe tbody tr th {\n        vertical-align: top;\n    }\n\n    .dataframe thead th {\n        text-align: right;\n    }\n</style>\n<table border=\"1\" class=\"dataframe\">\n  <thead>\n    <tr style=\"text-align: right;\">\n      <th></th>\n      <th>total_images</th>\n      <th>last_price</th>\n      <th>total_area</th>\n      <th>first_day_exposition</th>\n      <th>rooms</th>\n      <th>ceiling_height</th>\n      <th>floors_total</th>\n      <th>living_area</th>\n      <th>floor</th>\n      <th>is_apartment</th>\n      <th>studio</th>\n      <th>open_plan</th>\n      <th>kitchen_area</th>\n      <th>balcony</th>\n      <th>locality_name</th>\n      <th>airports_nearest</th>\n      <th>cityCenters_nearest</th>\n      <th>parks_around3000</th>\n      <th>parks_nearest</th>\n      <th>ponds_around3000</th>\n      <th>ponds_nearest</th>\n      <th>days_exposition</th>\n    </tr>\n  </thead>\n  <tbody>\n    <tr>\n      <td>0</td>\n      <td>20</td>\n      <td>13000000.0</td>\n      <td>108.00</td>\n      <td>2019-03-07T00:00:00</td>\n      <td>3</td>\n      <td>2.70</td>\n      <td>16.0</td>\n      <td>51.00</td>\n      <td>8</td>\n      <td>NaN</td>\n      <td>False</td>\n      <td>False</td>\n      <td>25.00</td>\n      <td>NaN</td>\n      <td>Санкт-Петербург</td>\n      <td>18863.0</td>\n      <td>16028.0</td>\n      <td>1.0</td>\n      <td>482.0</td>\n      <td>2.0</td>\n      <td>755.0</td>\n      <td>NaN</td>\n    </tr>\n    <tr>\n      <td>1</td>\n      <td>7</td>\n      <td>3350000.0</td>\n      <td>40.40</td>\n      <td>2018-12-04T00:00:00</td>\n      <td>1</td>\n      <td>NaN</td>\n      <td>11.0</td>\n      <td>18.60</td>\n      <td>1</td>\n      <td>NaN</td>\n      <td>False</td>\n      <td>False</td>\n      <td>11.00</td>\n      <td>2.0</td>\n      <td>посёлок Шушары</td>\n      <td>12817.0</td>\n      <td>18603.0</td>\n      <td>0.0</td>\n      <td>NaN</td>\n      <td>0.0</td>\n      <td>NaN</td>\n      <td>81.0</td>\n    </tr>\n    <tr>\n      <td>2</td>\n      <td>10</td>\n      <td>5196000.0</td>\n      <td>56.00</td>\n      <td>2015-08-20T00:00:00</td>\n      <td>2</td>\n      <td>NaN</td>\n      <td>5.0</td>\n      <td>34.30</td>\n      <td>4</td>\n      <td>NaN</td>\n      <td>False</td>\n      <td>False</td>\n      <td>8.30</td>\n      <td>0.0</td>\n      <td>Санкт-Петербург</td>\n      <td>21741.0</td>\n      <td>13933.0</td>\n      <td>1.0</td>\n      <td>90.0</td>\n      <td>2.0</td>\n      <td>574.0</td>\n      <td>558.0</td>\n    </tr>\n    <tr>\n      <td>3</td>\n      <td>0</td>\n      <td>64900000.0</td>\n      <td>159.00</td>\n      <td>2015-07-24T00:00:00</td>\n      <td>3</td>\n      <td>NaN</td>\n      <td>14.0</td>\n      <td>NaN</td>\n      <td>9</td>\n      <td>NaN</td>\n      <td>False</td>\n      <td>False</td>\n      <td>NaN</td>\n      <td>0.0</td>\n      <td>Санкт-Петербург</td>\n      <td>28098.0</td>\n      <td>6800.0</td>\n      <td>2.0</td>\n      <td>84.0</td>\n      <td>3.0</td>\n      <td>234.0</td>\n      <td>424.0</td>\n    </tr>\n    <tr>\n      <td>4</td>\n      <td>2</td>\n      <td>10000000.0</td>\n      <td>100.00</td>\n      <td>2018-06-19T00:00:00</td>\n      <td>2</td>\n      <td>3.03</td>\n      <td>14.0</td>\n      <td>32.00</td>\n      <td>13</td>\n      <td>NaN</td>\n      <td>False</td>\n      <td>False</td>\n      <td>41.00</td>\n      <td>NaN</td>\n      <td>Санкт-Петербург</td>\n      <td>31856.0</td>\n      <td>8098.0</td>\n      <td>2.0</td>\n      <td>112.0</td>\n      <td>1.0</td>\n      <td>48.0</td>\n      <td>121.0</td>\n    </tr>\n    <tr>\n      <td>5</td>\n      <td>10</td>\n      <td>2890000.0</td>\n      <td>30.40</td>\n      <td>2018-09-10T00:00:00</td>\n      <td>1</td>\n      <td>NaN</td>\n      <td>12.0</td>\n      <td>14.40</td>\n      <td>5</td>\n      <td>NaN</td>\n      <td>False</td>\n      <td>False</td>\n      <td>9.10</td>\n      <td>NaN</td>\n      <td>городской посёлок Янино-1</td>\n      <td>NaN</td>\n      <td>NaN</td>\n      <td>NaN</td>\n      <td>NaN</td>\n      <td>NaN</td>\n      <td>NaN</td>\n      <td>55.0</td>\n    </tr>\n    <tr>\n      <td>6</td>\n      <td>6</td>\n      <td>3700000.0</td>\n      <td>37.30</td>\n      <td>2017-11-02T00:00:00</td>\n      <td>1</td>\n      <td>NaN</td>\n      <td>26.0</td>\n      <td>10.60</td>\n      <td>6</td>\n      <td>NaN</td>\n      <td>False</td>\n      <td>False</td>\n      <td>14.40</td>\n      <td>1.0</td>\n      <td>посёлок Парголово</td>\n      <td>52996.0</td>\n      <td>19143.0</td>\n      <td>0.0</td>\n      <td>NaN</td>\n      <td>0.0</td>\n      <td>NaN</td>\n      <td>155.0</td>\n    </tr>\n    <tr>\n      <td>7</td>\n      <td>5</td>\n      <td>7915000.0</td>\n      <td>71.60</td>\n      <td>2019-04-18T00:00:00</td>\n      <td>2</td>\n      <td>NaN</td>\n      <td>24.0</td>\n      <td>NaN</td>\n      <td>22</td>\n      <td>NaN</td>\n      <td>False</td>\n      <td>False</td>\n      <td>18.90</td>\n      <td>2.0</td>\n      <td>Санкт-Петербург</td>\n      <td>23982.0</td>\n      <td>11634.0</td>\n      <td>0.0</td>\n      <td>NaN</td>\n      <td>0.0</td>\n      <td>NaN</td>\n      <td>NaN</td>\n    </tr>\n    <tr>\n      <td>8</td>\n      <td>20</td>\n      <td>2900000.0</td>\n      <td>33.16</td>\n      <td>2018-05-23T00:00:00</td>\n      <td>1</td>\n      <td>NaN</td>\n      <td>27.0</td>\n      <td>15.43</td>\n      <td>26</td>\n      <td>NaN</td>\n      <td>False</td>\n      <td>False</td>\n      <td>8.81</td>\n      <td>NaN</td>\n      <td>посёлок Мурино</td>\n      <td>NaN</td>\n      <td>NaN</td>\n      <td>NaN</td>\n      <td>NaN</td>\n      <td>NaN</td>\n      <td>NaN</td>\n      <td>189.0</td>\n    </tr>\n    <tr>\n      <td>9</td>\n      <td>18</td>\n      <td>5400000.0</td>\n      <td>61.00</td>\n      <td>2017-02-26T00:00:00</td>\n      <td>3</td>\n      <td>2.50</td>\n      <td>9.0</td>\n      <td>43.60</td>\n      <td>7</td>\n      <td>NaN</td>\n      <td>False</td>\n      <td>False</td>\n      <td>6.50</td>\n      <td>2.0</td>\n      <td>Санкт-Петербург</td>\n      <td>50898.0</td>\n      <td>15008.0</td>\n      <td>0.0</td>\n      <td>NaN</td>\n      <td>0.0</td>\n      <td>NaN</td>\n      <td>289.0</td>\n    </tr>\n  </tbody>\n</table>\n</div>"
     },
     "execution_count": 315,
     "metadata": {},
     "output_type": "execute_result"
    }
   ],
   "source": [
    "pd.set_option('display.max_columns', None)\n",
    "data.head(10)"
   ],
   "metadata": {
    "collapsed": false,
    "pycharm": {
     "name": "#%%\n"
    }
   }
  },
  {
   "cell_type": "code",
   "execution_count": 315,
   "outputs": [],
   "source": [],
   "metadata": {
    "collapsed": false,
    "pycharm": {
     "name": "#%%\n"
    }
   }
  },
  {
   "cell_type": "markdown",
   "source": [
    "### Вывод"
   ],
   "metadata": {
    "collapsed": false
   }
  },
  {
   "cell_type": "markdown",
   "source": [
    "Первое, что стоит отметить, это то, что разделить в csv-файле - знак табуляции.\n",
    "Сам файл содержит 23699 объявлений о продаже квартир и соответственно такое же количество строк. Каждая строка содержит 22 столбца, которые характеризуют квартиры из объявлений.\n",
    "Сразу заметно, что данные нуждаются в обработке. Есть много столбцов с пропусками, некоторые столбцы требуют изменения типа данных. Возможно есть какие-то другие проблемы с данными, исследуем это подробнее."
   ],
   "metadata": {
    "collapsed": false
   }
  },
  {
   "cell_type": "markdown",
   "source": [
    "## Предобработка данных"
   ],
   "metadata": {
    "collapsed": false
   }
  },
  {
   "cell_type": "markdown",
   "source": [
    "Из `info()` видно, что стобцы `cityCenters_nearest`, `parks_around3000`, `ponds_around3000` не соответствуют стилю `snake_case`.\n",
    "Исправим это."
   ],
   "metadata": {
    "collapsed": false
   }
  },
  {
   "cell_type": "code",
   "execution_count": 316,
   "outputs": [
    {
     "name": "stdout",
     "output_type": "stream",
     "text": [
      "<class 'pandas.core.frame.DataFrame'>\n",
      "RangeIndex: 23699 entries, 0 to 23698\n",
      "Data columns (total 22 columns):\n",
      "total_images            23699 non-null int64\n",
      "last_price              23699 non-null float64\n",
      "total_area              23699 non-null float64\n",
      "first_day_exposition    23699 non-null object\n",
      "rooms                   23699 non-null int64\n",
      "ceiling_height          14504 non-null float64\n",
      "floors_total            23613 non-null float64\n",
      "living_area             21796 non-null float64\n",
      "floor                   23699 non-null int64\n",
      "is_apartment            2775 non-null object\n",
      "studio                  23699 non-null bool\n",
      "open_plan               23699 non-null bool\n",
      "kitchen_area            21421 non-null float64\n",
      "balcony                 12180 non-null float64\n",
      "locality_name           23650 non-null object\n",
      "airports_nearest        18157 non-null float64\n",
      "city_centers_nearest    18180 non-null float64\n",
      "parks_around_3000       18181 non-null float64\n",
      "parks_nearest           8079 non-null float64\n",
      "ponds_around_3000       18181 non-null float64\n",
      "ponds_nearest           9110 non-null float64\n",
      "days_exposition         20518 non-null float64\n",
      "dtypes: bool(2), float64(14), int64(3), object(3)\n",
      "memory usage: 3.7+ MB\n"
     ]
    }
   ],
   "source": [
    "data = data.rename(columns={\n",
    "    'cityCenters_nearest': 'city_centers_nearest',\n",
    "    'parks_around3000': 'parks_around_3000',\n",
    "    'ponds_around3000': 'ponds_around_3000'})\n",
    "data.info()"
   ],
   "metadata": {
    "collapsed": false,
    "pycharm": {
     "name": "#%%\n"
    }
   }
  },
  {
   "cell_type": "markdown",
   "source": [
    "### Обработка пропусков"
   ],
   "metadata": {
    "collapsed": false,
    "pycharm": {
     "name": "#%% md\n"
    }
   }
  },
  {
   "cell_type": "markdown",
   "source": [
    "Пропуски есть в следующих столбцах:<a id='omissions'></a>"
   ],
   "metadata": {
    "collapsed": false
   }
  },
  {
   "cell_type": "code",
   "execution_count": 317,
   "outputs": [
    {
     "name": "stdout",
     "output_type": "stream",
     "text": [
      "ceiling_height                : 9195\n",
      "floors_total                  : 86\n",
      "living_area                   : 1903\n",
      "is_apartment                  : 20924\n",
      "kitchen_area                  : 2278\n",
      "balcony                       : 11519\n",
      "locality_name                 : 49\n",
      "airports_nearest              : 5542\n",
      "city_centers_nearest          : 5519\n",
      "parks_around_3000             : 5518\n",
      "parks_nearest                 : 15620\n",
      "ponds_around_3000             : 5518\n",
      "ponds_nearest                 : 14589\n",
      "days_exposition               : 3181\n"
     ]
    }
   ],
   "source": [
    "for column in data.columns:\n",
    "    is_null = data[column].isna().sum()\n",
    "    if is_null:\n",
    "        print(f\"{column:<30}: {is_null}\")"
   ],
   "metadata": {
    "collapsed": false,
    "pycharm": {
     "name": "#%%\n"
    }
   }
  },
  {
   "cell_type": "markdown",
   "source": [
    "#### Название населенного пункта `locality_name`"
   ],
   "metadata": {
    "collapsed": false
   }
  },
  {
   "cell_type": "markdown",
   "source": [
    "Посмотрим распределение объявлений по населенным пунктам, отфильтровав их в порядке убывания."
   ],
   "metadata": {
    "collapsed": false
   }
  },
  {
   "cell_type": "code",
   "execution_count": 318,
   "outputs": [
    {
     "name": "stdout",
     "output_type": "stream",
     "text": [
      "Всего населенных пунктов в объявлениях: 364\n"
     ]
    },
    {
     "data": {
      "text/plain": "locality_name\nСанкт-Петербург      15721\nпосёлок Мурино         522\nпосёлок Шушары         440\nВсеволожск             398\nПушкин                 369\nКолпино                338\nпосёлок Парголово      327\nГатчина                307\nдеревня Кудрово        299\nВыборг                 237\nName: last_price, dtype: int64"
     },
     "execution_count": 318,
     "metadata": {},
     "output_type": "execute_result"
    }
   ],
   "source": [
    "locality_names = data.groupby('locality_name')['last_price'].count().sort_values(ascending=False)\n",
    "print(f'Всего населенных пунктов в объявлениях:', len(locality_names))\n",
    "locality_names.head(10)\n"
   ],
   "metadata": {
    "collapsed": false,
    "pycharm": {
     "name": "#%%\n"
    }
   }
  },
  {
   "cell_type": "markdown",
   "source": [
    "Примерно 2/3 объявлений из Санкт-Петербурга, будет логично предположить, что большинство пропущенных названий именно \"Санкт-Петербург\"\n",
    "Примерное географическое положение можно выяснить из отдаленности до центра города и аэропорта.\n",
    "Посмотрим на объявления из Санкт-Петербурга"
   ],
   "metadata": {
    "collapsed": false
   }
  },
  {
   "cell_type": "code",
   "execution_count": 319,
   "outputs": [
    {
     "data": {
      "text/plain": "       airports_nearest  city_centers_nearest\ncount      15636.000000          15660.000000\nmean       28046.186237          11601.291571\nstd        11557.063820           4842.035279\nmin            0.000000            181.000000\n25%        18584.250000           8327.000000\n50%        26757.500000          12244.500000\n75%        36614.000000          14943.000000\nmax        54784.000000          29493.000000",
      "text/html": "<div>\n<style scoped>\n    .dataframe tbody tr th:only-of-type {\n        vertical-align: middle;\n    }\n\n    .dataframe tbody tr th {\n        vertical-align: top;\n    }\n\n    .dataframe thead th {\n        text-align: right;\n    }\n</style>\n<table border=\"1\" class=\"dataframe\">\n  <thead>\n    <tr style=\"text-align: right;\">\n      <th></th>\n      <th>airports_nearest</th>\n      <th>city_centers_nearest</th>\n    </tr>\n  </thead>\n  <tbody>\n    <tr>\n      <td>count</td>\n      <td>15636.000000</td>\n      <td>15660.000000</td>\n    </tr>\n    <tr>\n      <td>mean</td>\n      <td>28046.186237</td>\n      <td>11601.291571</td>\n    </tr>\n    <tr>\n      <td>std</td>\n      <td>11557.063820</td>\n      <td>4842.035279</td>\n    </tr>\n    <tr>\n      <td>min</td>\n      <td>0.000000</td>\n      <td>181.000000</td>\n    </tr>\n    <tr>\n      <td>25%</td>\n      <td>18584.250000</td>\n      <td>8327.000000</td>\n    </tr>\n    <tr>\n      <td>50%</td>\n      <td>26757.500000</td>\n      <td>12244.500000</td>\n    </tr>\n    <tr>\n      <td>75%</td>\n      <td>36614.000000</td>\n      <td>14943.000000</td>\n    </tr>\n    <tr>\n      <td>max</td>\n      <td>54784.000000</td>\n      <td>29493.000000</td>\n    </tr>\n  </tbody>\n</table>\n</div>"
     },
     "execution_count": 319,
     "metadata": {},
     "output_type": "execute_result"
    }
   ],
   "source": [
    "data.loc[\n",
    "    data['locality_name'] == 'Санкт-Петербург',\n",
    "    ['airports_nearest', 'city_centers_nearest']\n",
    "].describe()"
   ],
   "metadata": {
    "collapsed": false,
    "pycharm": {
     "name": "#%%\n"
    }
   }
  },
  {
   "cell_type": "markdown",
   "source": [
    "Мы можем допустить для простоты, что все объявления с пропущенными `locality_name` относятся к Санкт-Петербургу, если `airports_nearest`  и `city_centers_nearest` меньше максимальных для Петербурга."
   ],
   "metadata": {
    "collapsed": false
   }
  },
  {
   "cell_type": "code",
   "execution_count": 320,
   "outputs": [],
   "source": [
    "data.loc[\n",
    "    (data['locality_name'].isna()) &\n",
    "    (data['airports_nearest'] < 54784) &\n",
    "    (data['city_centers_nearest'] < 29493),\n",
    "    ['locality_name']\n",
    "] = 'Санкт-Петербург'"
   ],
   "metadata": {
    "collapsed": false,
    "pycharm": {
     "name": "#%%\n"
    }
   }
  },
  {
   "cell_type": "markdown",
   "source": [
    "Посмотрим, что еще осталось"
   ],
   "metadata": {
    "collapsed": false
   }
  },
  {
   "cell_type": "code",
   "execution_count": 321,
   "outputs": [
    {
     "data": {
      "text/plain": "       airports_nearest  city_centers_nearest\n8986            19659.0               31813.0\n21119           19744.0               31897.0\n21276           60195.0               41294.0\n2033                NaN                   NaN\n14342               NaN                   NaN\n17535               NaN                   NaN\n20382               NaN                   NaN\n20590               NaN                   NaN\n21715               NaN                   NaN\n21898               NaN                   NaN\n22717               NaN                   NaN",
      "text/html": "<div>\n<style scoped>\n    .dataframe tbody tr th:only-of-type {\n        vertical-align: middle;\n    }\n\n    .dataframe tbody tr th {\n        vertical-align: top;\n    }\n\n    .dataframe thead th {\n        text-align: right;\n    }\n</style>\n<table border=\"1\" class=\"dataframe\">\n  <thead>\n    <tr style=\"text-align: right;\">\n      <th></th>\n      <th>airports_nearest</th>\n      <th>city_centers_nearest</th>\n    </tr>\n  </thead>\n  <tbody>\n    <tr>\n      <td>8986</td>\n      <td>19659.0</td>\n      <td>31813.0</td>\n    </tr>\n    <tr>\n      <td>21119</td>\n      <td>19744.0</td>\n      <td>31897.0</td>\n    </tr>\n    <tr>\n      <td>21276</td>\n      <td>60195.0</td>\n      <td>41294.0</td>\n    </tr>\n    <tr>\n      <td>2033</td>\n      <td>NaN</td>\n      <td>NaN</td>\n    </tr>\n    <tr>\n      <td>14342</td>\n      <td>NaN</td>\n      <td>NaN</td>\n    </tr>\n    <tr>\n      <td>17535</td>\n      <td>NaN</td>\n      <td>NaN</td>\n    </tr>\n    <tr>\n      <td>20382</td>\n      <td>NaN</td>\n      <td>NaN</td>\n    </tr>\n    <tr>\n      <td>20590</td>\n      <td>NaN</td>\n      <td>NaN</td>\n    </tr>\n    <tr>\n      <td>21715</td>\n      <td>NaN</td>\n      <td>NaN</td>\n    </tr>\n    <tr>\n      <td>21898</td>\n      <td>NaN</td>\n      <td>NaN</td>\n    </tr>\n    <tr>\n      <td>22717</td>\n      <td>NaN</td>\n      <td>NaN</td>\n    </tr>\n  </tbody>\n</table>\n</div>"
     },
     "execution_count": 321,
     "metadata": {},
     "output_type": "execute_result"
    }
   ],
   "source": [
    "data.loc[\n",
    "    data['locality_name'].isna(),\n",
    "    ['airports_nearest', 'city_centers_nearest']\n",
    "].sort_values(by='city_centers_nearest')"
   ],
   "metadata": {
    "collapsed": false,
    "pycharm": {
     "name": "#%%\n"
    }
   }
  },
  {
   "cell_type": "markdown",
   "source": [
    "Отлично, осталось всего 11. 8 строк из 11 не имеют никаких географических ориентиров. Поэтому заполним пропущенные значения в них отметкой \"Неизвестно\"\n",
    "\n"
   ],
   "metadata": {
    "collapsed": false
   }
  },
  {
   "cell_type": "code",
   "execution_count": 322,
   "outputs": [],
   "source": [
    "data.loc[\n",
    "    (data['locality_name'].isna()) & (data['airports_nearest'].isna()),\n",
    "    'locality_name'\n",
    "] = 'Неизвестно'"
   ],
   "metadata": {
    "collapsed": false,
    "pycharm": {
     "name": "#%%\n"
    }
   }
  },
  {
   "cell_type": "code",
   "execution_count": 323,
   "outputs": [
    {
     "data": {
      "text/plain": "       airports_nearest  city_centers_nearest\n8986            19659.0               31813.0\n21119           19744.0               31897.0\n21276           60195.0               41294.0",
      "text/html": "<div>\n<style scoped>\n    .dataframe tbody tr th:only-of-type {\n        vertical-align: middle;\n    }\n\n    .dataframe tbody tr th {\n        vertical-align: top;\n    }\n\n    .dataframe thead th {\n        text-align: right;\n    }\n</style>\n<table border=\"1\" class=\"dataframe\">\n  <thead>\n    <tr style=\"text-align: right;\">\n      <th></th>\n      <th>airports_nearest</th>\n      <th>city_centers_nearest</th>\n    </tr>\n  </thead>\n  <tbody>\n    <tr>\n      <td>8986</td>\n      <td>19659.0</td>\n      <td>31813.0</td>\n    </tr>\n    <tr>\n      <td>21119</td>\n      <td>19744.0</td>\n      <td>31897.0</td>\n    </tr>\n    <tr>\n      <td>21276</td>\n      <td>60195.0</td>\n      <td>41294.0</td>\n    </tr>\n  </tbody>\n</table>\n</div>"
     },
     "execution_count": 323,
     "metadata": {},
     "output_type": "execute_result"
    }
   ],
   "source": [
    "data.loc[\n",
    "    data['locality_name'].isna(),\n",
    "    ['airports_nearest', 'city_centers_nearest']\n",
    "]"
   ],
   "metadata": {
    "collapsed": false,
    "pycharm": {
     "name": "#%%\n"
    }
   }
  },
  {
   "cell_type": "markdown",
   "source": [
    "Теперь найдем, есть ли объявления с похожими расстояниями для первых 2 строк, потому что они очевидно находятся рядом и потом для третьей строки"
   ],
   "metadata": {
    "collapsed": false
   }
  },
  {
   "cell_type": "code",
   "execution_count": 324,
   "outputs": [
    {
     "data": {
      "text/plain": "      locality_name  airports_nearest  city_centers_nearest  last_price  \\\n284        Павловск           19516.0               31670.0   2650000.0   \n2526         Пушкин           19571.0               31725.0   5200000.0   \n221        Павловск           19775.0               31929.0   3750000.0   \n21119           NaN           19744.0               31897.0   3500000.0   \n8986            NaN           19659.0               31813.0   4850000.0   \n8732       Павловск           19575.0               31729.0   9300000.0   \n17874        Пушкин           19760.0               31914.0  17000000.0   \n\n       total_area  \n284          30.5  \n2526         42.2  \n221          43.0  \n21119        43.2  \n8986        103.1  \n8732        151.5  \n17874       170.0  ",
      "text/html": "<div>\n<style scoped>\n    .dataframe tbody tr th:only-of-type {\n        vertical-align: middle;\n    }\n\n    .dataframe tbody tr th {\n        vertical-align: top;\n    }\n\n    .dataframe thead th {\n        text-align: right;\n    }\n</style>\n<table border=\"1\" class=\"dataframe\">\n  <thead>\n    <tr style=\"text-align: right;\">\n      <th></th>\n      <th>locality_name</th>\n      <th>airports_nearest</th>\n      <th>city_centers_nearest</th>\n      <th>last_price</th>\n      <th>total_area</th>\n    </tr>\n  </thead>\n  <tbody>\n    <tr>\n      <td>284</td>\n      <td>Павловск</td>\n      <td>19516.0</td>\n      <td>31670.0</td>\n      <td>2650000.0</td>\n      <td>30.5</td>\n    </tr>\n    <tr>\n      <td>2526</td>\n      <td>Пушкин</td>\n      <td>19571.0</td>\n      <td>31725.0</td>\n      <td>5200000.0</td>\n      <td>42.2</td>\n    </tr>\n    <tr>\n      <td>221</td>\n      <td>Павловск</td>\n      <td>19775.0</td>\n      <td>31929.0</td>\n      <td>3750000.0</td>\n      <td>43.0</td>\n    </tr>\n    <tr>\n      <td>21119</td>\n      <td>NaN</td>\n      <td>19744.0</td>\n      <td>31897.0</td>\n      <td>3500000.0</td>\n      <td>43.2</td>\n    </tr>\n    <tr>\n      <td>8986</td>\n      <td>NaN</td>\n      <td>19659.0</td>\n      <td>31813.0</td>\n      <td>4850000.0</td>\n      <td>103.1</td>\n    </tr>\n    <tr>\n      <td>8732</td>\n      <td>Павловск</td>\n      <td>19575.0</td>\n      <td>31729.0</td>\n      <td>9300000.0</td>\n      <td>151.5</td>\n    </tr>\n    <tr>\n      <td>17874</td>\n      <td>Пушкин</td>\n      <td>19760.0</td>\n      <td>31914.0</td>\n      <td>17000000.0</td>\n      <td>170.0</td>\n    </tr>\n  </tbody>\n</table>\n</div>"
     },
     "execution_count": 324,
     "metadata": {},
     "output_type": "execute_result"
    }
   ],
   "source": [
    "airport_nearest_filter = ((data['airports_nearest'] < 20000) &\n",
    "                          (19500 < data['airports_nearest']))\n",
    "city_centers_nearest_filter = ((31500 < data['city_centers_nearest']) &\n",
    "                               (data['city_centers_nearest'] < 32000))\n",
    "data.loc[\n",
    "    airport_nearest_filter & city_centers_nearest_filter,\n",
    "    ['locality_name', 'airports_nearest', 'city_centers_nearest', 'last_price', 'total_area']\n",
    "].sort_values(by='total_area')\n"
   ],
   "metadata": {
    "collapsed": false,
    "pycharm": {
     "name": "#%%\n"
    }
   }
  },
  {
   "cell_type": "markdown",
   "source": [
    "Географически подходят Павловск и Пушкин, но квартиры в Пушкине по стоимости значительно дороже, поэтому скорее всего объявления из Павловска."
   ],
   "metadata": {
    "collapsed": false
   }
  },
  {
   "cell_type": "code",
   "execution_count": 325,
   "outputs": [],
   "source": [
    "data.loc[[21119, 8986], 'locality_name'] = 'Павловск'"
   ],
   "metadata": {
    "collapsed": false,
    "pycharm": {
     "name": "#%%\n"
    }
   }
  },
  {
   "cell_type": "code",
   "execution_count": 326,
   "outputs": [
    {
     "data": {
      "text/plain": "        locality_name  airports_nearest  city_centers_nearest  last_price  \\\n21276             NaN           60195.0               41294.0  17122148.0   \n5659   посёлок Репино           61451.0               42550.0  11067416.0   \n2454   посёлок Репино           61484.0               42583.0  28000000.0   \n17162      Сестрорецк           61664.0               42763.0   6100000.0   \n19984      Сестрорецк           61872.0               42971.0   7990000.0   \n\n       total_area  \n21276       178.3  \n5659        160.7  \n2454        160.0  \n17162        52.5  \n19984        62.2  ",
      "text/html": "<div>\n<style scoped>\n    .dataframe tbody tr th:only-of-type {\n        vertical-align: middle;\n    }\n\n    .dataframe tbody tr th {\n        vertical-align: top;\n    }\n\n    .dataframe thead th {\n        text-align: right;\n    }\n</style>\n<table border=\"1\" class=\"dataframe\">\n  <thead>\n    <tr style=\"text-align: right;\">\n      <th></th>\n      <th>locality_name</th>\n      <th>airports_nearest</th>\n      <th>city_centers_nearest</th>\n      <th>last_price</th>\n      <th>total_area</th>\n    </tr>\n  </thead>\n  <tbody>\n    <tr>\n      <td>21276</td>\n      <td>NaN</td>\n      <td>60195.0</td>\n      <td>41294.0</td>\n      <td>17122148.0</td>\n      <td>178.3</td>\n    </tr>\n    <tr>\n      <td>5659</td>\n      <td>посёлок Репино</td>\n      <td>61451.0</td>\n      <td>42550.0</td>\n      <td>11067416.0</td>\n      <td>160.7</td>\n    </tr>\n    <tr>\n      <td>2454</td>\n      <td>посёлок Репино</td>\n      <td>61484.0</td>\n      <td>42583.0</td>\n      <td>28000000.0</td>\n      <td>160.0</td>\n    </tr>\n    <tr>\n      <td>17162</td>\n      <td>Сестрорецк</td>\n      <td>61664.0</td>\n      <td>42763.0</td>\n      <td>6100000.0</td>\n      <td>52.5</td>\n    </tr>\n    <tr>\n      <td>19984</td>\n      <td>Сестрорецк</td>\n      <td>61872.0</td>\n      <td>42971.0</td>\n      <td>7990000.0</td>\n      <td>62.2</td>\n    </tr>\n  </tbody>\n</table>\n</div>"
     },
     "execution_count": 326,
     "metadata": {},
     "output_type": "execute_result"
    }
   ],
   "source": [
    "airport_nearest_filter = ((data['airports_nearest'] < 62000) &\n",
    "                          (59000 < data['airports_nearest']))\n",
    "city_centers_nearest_filter = ((40000 < data['city_centers_nearest']) &\n",
    "                               (data['city_centers_nearest'] < 44000))\n",
    "data.loc[\n",
    "    airport_nearest_filter & city_centers_nearest_filter,\n",
    "    ['locality_name', 'airports_nearest', 'city_centers_nearest', 'last_price', 'total_area']\n",
    "].sort_values(by='city_centers_nearest')"
   ],
   "metadata": {
    "collapsed": false,
    "pycharm": {
     "name": "#%%\n"
    }
   }
  },
  {
   "cell_type": "code",
   "execution_count": 327,
   "outputs": [],
   "source": [
    "data.loc[21276, 'locality_name'] = 'посёлок Репино'"
   ],
   "metadata": {
    "collapsed": false,
    "pycharm": {
     "name": "#%%\n"
    }
   }
  },
  {
   "cell_type": "markdown",
   "source": [
    "Проверим"
   ],
   "metadata": {
    "collapsed": false
   }
  },
  {
   "cell_type": "code",
   "execution_count": 328,
   "outputs": [
    {
     "name": "stdout",
     "output_type": "stream",
     "text": [
      "Количество пропусков в locality_name: 0\n"
     ]
    }
   ],
   "source": [
    "\n",
    "print(f'Количество пропусков в locality_name: {len(data[data[\"locality_name\"].isna()])}')"
   ],
   "metadata": {
    "collapsed": false,
    "pycharm": {
     "name": "#%%\n"
    }
   }
  },
  {
   "cell_type": "markdown",
   "source": [
    "Сразу, чтобы не возвращаться к этому столбцу позднее, уберем из названия типы населенных пунктов. Такие как \"деревня\", \"поселок\" и тому подобное. Найти их будет просто, они начинаются с маленькой буквы. Но чтобы случайно не удалить название, написанной строчными буквами, посмотрим все слова, начинающиеся со строчной буквы в `locality_name`, предшествующие названию."
   ],
   "metadata": {
    "collapsed": false
   }
  },
  {
   "cell_type": "code",
   "execution_count": 329,
   "outputs": [
    {
     "data": {
      "text/plain": "{'',\n 'городской поселок',\n 'городской посёлок',\n 'деревня',\n 'коттеджный поселок',\n 'коттеджный посёлок',\n 'поселок',\n 'поселок городского типа',\n 'поселок городского типа имени',\n 'поселок станции',\n 'посёлок',\n 'посёлок городского типа',\n 'посёлок городского типа имени',\n 'посёлок при железнодорожной станции',\n 'посёлок станции',\n 'садоводческое некоммерческое товарищество',\n 'садовое товарищество',\n 'село'}"
     },
     "execution_count": 329,
     "metadata": {},
     "output_type": "execute_result"
    }
   ],
   "source": [
    "locality_types = set()\n",
    "\n",
    "def search_lowers(locality_name):\n",
    "    locality_name_as_list = locality_name.split(' ')\n",
    "    low_words = []\n",
    "    for word in locality_name_as_list:\n",
    "        if word.islower():\n",
    "            low_words.append(word)\n",
    "        else:\n",
    "            break\n",
    "    locality_types.add(' '.join(low_words))\n",
    "\n",
    "data['locality_name'].apply(search_lowers)\n",
    "locality_types"
   ],
   "metadata": {
    "collapsed": false,
    "pycharm": {
     "name": "#%%\n"
    }
   }
  },
  {
   "cell_type": "markdown",
   "source": [
    "Хорошая новость, что названия сюда не попали. Думаю можно смело от этого избавиться. Заодно решим проблему того, что у нас один и тот же населенный пункт мог проходить под разными типами."
   ],
   "metadata": {
    "collapsed": false
   }
  },
  {
   "cell_type": "code",
   "execution_count": 330,
   "outputs": [
    {
     "name": "stdout",
     "output_type": "stream",
     "text": [
      "Уникальных населенных пунктов: 306\n"
     ]
    }
   ],
   "source": [
    "def change_locality_names(locality_name):\n",
    "    locality_name_as_list = locality_name.split(' ')\n",
    "    index = 0\n",
    "    for i in range(len(locality_name_as_list)):\n",
    "        if not locality_name_as_list[i].islower():\n",
    "            index = i\n",
    "            break\n",
    "    return ' '.join(locality_name_as_list[index:])\n",
    "\n",
    "data['locality_name'] = data['locality_name'].apply(change_locality_names)\n",
    "print('Уникальных населенных пунктов:', len(data['locality_name'].unique()))\n"
   ],
   "metadata": {
    "collapsed": false,
    "pycharm": {
     "name": "#%%\n"
    }
   }
  },
  {
   "cell_type": "markdown",
   "source": [
    "А изначально у нас было 364 уникальных населенных пункта. Значит нам удалось избавиться от некоторых неявных дубликатов в названиях."
   ],
   "metadata": {
    "collapsed": false
   }
  },
  {
   "cell_type": "markdown",
   "source": [
    "#### Всего этажей в доме `floors_total`"
   ],
   "metadata": {
    "collapsed": false
   }
  },
  {
   "cell_type": "markdown",
   "source": [
    "Как мы раньше [выяснили](#omissions) в `floors_total` 86 пропусков."
   ],
   "metadata": {
    "collapsed": false
   }
  },
  {
   "cell_type": "code",
   "execution_count": 331,
   "outputs": [
    {
     "data": {
      "text/plain": "locality_name\nБугры               1\nКрасное Село        2\nКудрово             2\nМурино              4\nНовое Девяткино     1\nНовоселье           1\nПавловск            1\nСанкт-Петербург    70\nСтрельна            1\nТоксово             1\nШушары              1\nЩеглово             1\nName: floor, dtype: int64"
     },
     "execution_count": 331,
     "metadata": {},
     "output_type": "execute_result"
    }
   ],
   "source": [
    "data[data['floors_total'].isna()].groupby('locality_name')['floor'].count()"
   ],
   "metadata": {
    "collapsed": false,
    "pycharm": {
     "name": "#%%\n"
    }
   }
  },
  {
   "cell_type": "markdown",
   "source": [
    "Бóльшая часть пропусков ожидаемо относится к Санкт-Петербургу, где этажность весьма разнообразна. Поэтому лучшим вариантом мне видится заполнить пропущенные значения числом 0, что даст нам потом возможность с одной стороны учитывать,например, квартиры на 1 этаже при анализе влияния этого фактора, чем если мы просто удалим строки."
   ],
   "metadata": {
    "collapsed": false
   }
  },
  {
   "cell_type": "code",
   "execution_count": 332,
   "outputs": [
    {
     "name": "stdout",
     "output_type": "stream",
     "text": [
      "Пропусков в колонке \"floors_total\": 0\n"
     ]
    }
   ],
   "source": [
    "data['floors_total'].fillna(0, inplace=True)\n",
    "print('Пропусков в колонке \"floors_total\":', data['floors_total'].isna().sum())"
   ],
   "metadata": {
    "collapsed": false,
    "pycharm": {
     "name": "#%%\n"
    }
   }
  },
  {
   "cell_type": "markdown",
   "source": [
    "Изменим тип данных с `float` на `int` в этом столбце."
   ],
   "metadata": {
    "collapsed": false
   }
  },
  {
   "cell_type": "code",
   "execution_count": 333,
   "outputs": [
    {
     "data": {
      "text/plain": "0    16\n1    11\n2     5\n3    14\n4    14\nName: floors_total, dtype: int64"
     },
     "execution_count": 333,
     "metadata": {},
     "output_type": "execute_result"
    }
   ],
   "source": [
    "data['floors_total'] = data['floors_total'].astype('int')\n",
    "data['floors_total'].head()"
   ],
   "metadata": {
    "collapsed": false,
    "pycharm": {
     "name": "#%%\n"
    }
   }
  },
  {
   "cell_type": "markdown",
   "source": [],
   "metadata": {
    "collapsed": false
   }
  },
  {
   "cell_type": "markdown",
   "source": [
    "#### Высота потолков `ceiling_height`\n"
   ],
   "metadata": {
    "collapsed": false
   }
  },
  {
   "cell_type": "markdown",
   "source": [
    "Чтобы заполнить пропуски в данном случае на мой взгляд подойдет такой способ:\n",
    "- сделаем таблицу, содержащую значения моды(т.е.самого распространенного значения) высоты потолка в зависимости от floors_total\n",
    "- для каждого пропущенного значения будем присваить значение из этой таблицы исходя из этажности здания."
   ],
   "metadata": {
    "collapsed": false,
    "pycharm": {
     "name": "#%% md\n"
    }
   }
  },
  {
   "cell_type": "code",
   "source": [
    "ceiling_height_modes = data.pivot_table(\n",
    "    index='floors_total',\n",
    "    values='ceiling_height',\n",
    "    aggfunc=pd.Series.mode )\n",
    "ceiling_height_modes"
   ],
   "metadata": {
    "collapsed": false,
    "pycharm": {
     "name": "#%%\n"
    }
   },
   "execution_count": 334,
   "outputs": [
    {
     "data": {
      "text/plain": "             ceiling_height\nfloors_total               \n0                       2.8\n1                         3\n2                       2.5\n3                         3\n4                         3\n5                       2.5\n6                         3\n7                         3\n8                         3\n9                       2.5\n10                      2.6\n11                      2.7\n12                      2.5\n13                      2.7\n14                      2.5\n15                      2.5\n16                      2.7\n17                      2.7\n18                      2.7\n19                     2.75\n20                     2.75\n21                      2.7\n22                      2.8\n23                     2.75\n24                      2.7\n25                      2.7\n26                      2.6\n27                      2.7\n28                      2.5\n29                      2.6\n33                       []\n34                     2.65\n35               [2.7, 2.8]\n36              [2.7, 27.0]\n37                     1.75\n52                     2.65\n60                     2.88",
      "text/html": "<div>\n<style scoped>\n    .dataframe tbody tr th:only-of-type {\n        vertical-align: middle;\n    }\n\n    .dataframe tbody tr th {\n        vertical-align: top;\n    }\n\n    .dataframe thead th {\n        text-align: right;\n    }\n</style>\n<table border=\"1\" class=\"dataframe\">\n  <thead>\n    <tr style=\"text-align: right;\">\n      <th></th>\n      <th>ceiling_height</th>\n    </tr>\n    <tr>\n      <th>floors_total</th>\n      <th></th>\n    </tr>\n  </thead>\n  <tbody>\n    <tr>\n      <td>0</td>\n      <td>2.8</td>\n    </tr>\n    <tr>\n      <td>1</td>\n      <td>3</td>\n    </tr>\n    <tr>\n      <td>2</td>\n      <td>2.5</td>\n    </tr>\n    <tr>\n      <td>3</td>\n      <td>3</td>\n    </tr>\n    <tr>\n      <td>4</td>\n      <td>3</td>\n    </tr>\n    <tr>\n      <td>5</td>\n      <td>2.5</td>\n    </tr>\n    <tr>\n      <td>6</td>\n      <td>3</td>\n    </tr>\n    <tr>\n      <td>7</td>\n      <td>3</td>\n    </tr>\n    <tr>\n      <td>8</td>\n      <td>3</td>\n    </tr>\n    <tr>\n      <td>9</td>\n      <td>2.5</td>\n    </tr>\n    <tr>\n      <td>10</td>\n      <td>2.6</td>\n    </tr>\n    <tr>\n      <td>11</td>\n      <td>2.7</td>\n    </tr>\n    <tr>\n      <td>12</td>\n      <td>2.5</td>\n    </tr>\n    <tr>\n      <td>13</td>\n      <td>2.7</td>\n    </tr>\n    <tr>\n      <td>14</td>\n      <td>2.5</td>\n    </tr>\n    <tr>\n      <td>15</td>\n      <td>2.5</td>\n    </tr>\n    <tr>\n      <td>16</td>\n      <td>2.7</td>\n    </tr>\n    <tr>\n      <td>17</td>\n      <td>2.7</td>\n    </tr>\n    <tr>\n      <td>18</td>\n      <td>2.7</td>\n    </tr>\n    <tr>\n      <td>19</td>\n      <td>2.75</td>\n    </tr>\n    <tr>\n      <td>20</td>\n      <td>2.75</td>\n    </tr>\n    <tr>\n      <td>21</td>\n      <td>2.7</td>\n    </tr>\n    <tr>\n      <td>22</td>\n      <td>2.8</td>\n    </tr>\n    <tr>\n      <td>23</td>\n      <td>2.75</td>\n    </tr>\n    <tr>\n      <td>24</td>\n      <td>2.7</td>\n    </tr>\n    <tr>\n      <td>25</td>\n      <td>2.7</td>\n    </tr>\n    <tr>\n      <td>26</td>\n      <td>2.6</td>\n    </tr>\n    <tr>\n      <td>27</td>\n      <td>2.7</td>\n    </tr>\n    <tr>\n      <td>28</td>\n      <td>2.5</td>\n    </tr>\n    <tr>\n      <td>29</td>\n      <td>2.6</td>\n    </tr>\n    <tr>\n      <td>33</td>\n      <td>[]</td>\n    </tr>\n    <tr>\n      <td>34</td>\n      <td>2.65</td>\n    </tr>\n    <tr>\n      <td>35</td>\n      <td>[2.7, 2.8]</td>\n    </tr>\n    <tr>\n      <td>36</td>\n      <td>[2.7, 27.0]</td>\n    </tr>\n    <tr>\n      <td>37</td>\n      <td>1.75</td>\n    </tr>\n    <tr>\n      <td>52</td>\n      <td>2.65</td>\n    </tr>\n    <tr>\n      <td>60</td>\n      <td>2.88</td>\n    </tr>\n  </tbody>\n</table>\n</div>"
     },
     "execution_count": 334,
     "metadata": {},
     "output_type": "execute_result"
    }
   ]
  },
  {
   "cell_type": "markdown",
   "source": [
    "Для нескольких значений не удалось найти единственное. Скорее всего это связано с одинаковым количеством объявлений с равной высотой потолков. Заменим их на значение 2.7, которое является распространенным для многоэтажных домов."
   ],
   "metadata": {
    "collapsed": false,
    "pycharm": {
     "name": "#%% md\n"
    }
   }
  },
  {
   "cell_type": "code",
   "execution_count": 335,
   "outputs": [
    {
     "data": {
      "text/plain": "              ceiling_height\nfloors_total                \n0                       2.80\n1                       3.00\n2                       2.50\n3                       3.00\n4                       3.00\n5                       2.50\n6                       3.00\n7                       3.00\n8                       3.00\n9                       2.50\n10                      2.60\n11                      2.70\n12                      2.50\n13                      2.70\n14                      2.50\n15                      2.50\n16                      2.70\n17                      2.70\n18                      2.70\n19                      2.75\n20                      2.75\n21                      2.70\n22                      2.80\n23                      2.75\n24                      2.70\n25                      2.70\n26                      2.60\n27                      2.70\n28                      2.50\n29                      2.60\n33                      2.70\n34                      2.65\n35                      2.70\n36                      2.70\n37                      1.75\n52                      2.65\n60                      2.88",
      "text/html": "<div>\n<style scoped>\n    .dataframe tbody tr th:only-of-type {\n        vertical-align: middle;\n    }\n\n    .dataframe tbody tr th {\n        vertical-align: top;\n    }\n\n    .dataframe thead th {\n        text-align: right;\n    }\n</style>\n<table border=\"1\" class=\"dataframe\">\n  <thead>\n    <tr style=\"text-align: right;\">\n      <th></th>\n      <th>ceiling_height</th>\n    </tr>\n    <tr>\n      <th>floors_total</th>\n      <th></th>\n    </tr>\n  </thead>\n  <tbody>\n    <tr>\n      <td>0</td>\n      <td>2.80</td>\n    </tr>\n    <tr>\n      <td>1</td>\n      <td>3.00</td>\n    </tr>\n    <tr>\n      <td>2</td>\n      <td>2.50</td>\n    </tr>\n    <tr>\n      <td>3</td>\n      <td>3.00</td>\n    </tr>\n    <tr>\n      <td>4</td>\n      <td>3.00</td>\n    </tr>\n    <tr>\n      <td>5</td>\n      <td>2.50</td>\n    </tr>\n    <tr>\n      <td>6</td>\n      <td>3.00</td>\n    </tr>\n    <tr>\n      <td>7</td>\n      <td>3.00</td>\n    </tr>\n    <tr>\n      <td>8</td>\n      <td>3.00</td>\n    </tr>\n    <tr>\n      <td>9</td>\n      <td>2.50</td>\n    </tr>\n    <tr>\n      <td>10</td>\n      <td>2.60</td>\n    </tr>\n    <tr>\n      <td>11</td>\n      <td>2.70</td>\n    </tr>\n    <tr>\n      <td>12</td>\n      <td>2.50</td>\n    </tr>\n    <tr>\n      <td>13</td>\n      <td>2.70</td>\n    </tr>\n    <tr>\n      <td>14</td>\n      <td>2.50</td>\n    </tr>\n    <tr>\n      <td>15</td>\n      <td>2.50</td>\n    </tr>\n    <tr>\n      <td>16</td>\n      <td>2.70</td>\n    </tr>\n    <tr>\n      <td>17</td>\n      <td>2.70</td>\n    </tr>\n    <tr>\n      <td>18</td>\n      <td>2.70</td>\n    </tr>\n    <tr>\n      <td>19</td>\n      <td>2.75</td>\n    </tr>\n    <tr>\n      <td>20</td>\n      <td>2.75</td>\n    </tr>\n    <tr>\n      <td>21</td>\n      <td>2.70</td>\n    </tr>\n    <tr>\n      <td>22</td>\n      <td>2.80</td>\n    </tr>\n    <tr>\n      <td>23</td>\n      <td>2.75</td>\n    </tr>\n    <tr>\n      <td>24</td>\n      <td>2.70</td>\n    </tr>\n    <tr>\n      <td>25</td>\n      <td>2.70</td>\n    </tr>\n    <tr>\n      <td>26</td>\n      <td>2.60</td>\n    </tr>\n    <tr>\n      <td>27</td>\n      <td>2.70</td>\n    </tr>\n    <tr>\n      <td>28</td>\n      <td>2.50</td>\n    </tr>\n    <tr>\n      <td>29</td>\n      <td>2.60</td>\n    </tr>\n    <tr>\n      <td>33</td>\n      <td>2.70</td>\n    </tr>\n    <tr>\n      <td>34</td>\n      <td>2.65</td>\n    </tr>\n    <tr>\n      <td>35</td>\n      <td>2.70</td>\n    </tr>\n    <tr>\n      <td>36</td>\n      <td>2.70</td>\n    </tr>\n    <tr>\n      <td>37</td>\n      <td>1.75</td>\n    </tr>\n    <tr>\n      <td>52</td>\n      <td>2.65</td>\n    </tr>\n    <tr>\n      <td>60</td>\n      <td>2.88</td>\n    </tr>\n  </tbody>\n</table>\n</div>"
     },
     "execution_count": 335,
     "metadata": {},
     "output_type": "execute_result"
    }
   ],
   "source": [
    "def change_list_to_value(height):\n",
    "    if not isinstance(height, np.float64):\n",
    "        return 2.7\n",
    "    else:\n",
    "        return height\n",
    "\n",
    "ceiling_height_modes['ceiling_height'] = ceiling_height_modes['ceiling_height'].apply(\n",
    "    change_list_to_value\n",
    ")\n",
    "ceiling_height_modes"
   ],
   "metadata": {
    "collapsed": false,
    "pycharm": {
     "name": "#%%\n"
    }
   }
  },
  {
   "cell_type": "code",
   "execution_count": 336,
   "outputs": [],
   "source": [
    "def fill_ceiling_height(row):\n",
    "    if np.isnan(row['ceiling_height']):\n",
    "        row['ceiling_height'] = ceiling_height_modes.loc[\n",
    "            row['floors_total'], 'ceiling_height'\n",
    "        ]\n",
    "    return row['ceiling_height']\n",
    "data['ceiling_height'] = data.apply(fill_ceiling_height, axis=1)\n"
   ],
   "metadata": {
    "collapsed": false,
    "pycharm": {
     "name": "#%%\n"
    }
   }
  },
  {
   "cell_type": "code",
   "execution_count": 337,
   "outputs": [
    {
     "name": "stdout",
     "output_type": "stream",
     "text": [
      "Пропусков в \"ceiling_height\" 0\n"
     ]
    }
   ],
   "source": [
    "print('Пропусков в \"ceiling_height\"', data['ceiling_height'].isna().sum())"
   ],
   "metadata": {
    "collapsed": false,
    "pycharm": {
     "name": "#%%\n"
    }
   }
  },
  {
   "cell_type": "markdown",
   "source": [],
   "metadata": {
    "collapsed": false,
    "pycharm": {
     "name": "#%% md\n"
    }
   }
  },
  {
   "cell_type": "markdown",
   "source": [
    "#### Жилая площадь `living_area`"
   ],
   "metadata": {
    "collapsed": false,
    "pycharm": {
     "name": "#%% md\n"
    }
   }
  },
  {
   "cell_type": "markdown",
   "source": [
    "Построим график зависимости `living_area` от `total_area`. Есть предположение, что жилая площадь коррелирует с общей площадью квартиры."
   ],
   "metadata": {
    "collapsed": false,
    "pycharm": {
     "name": "#%% md\n"
    }
   }
  },
  {
   "cell_type": "code",
   "source": [
    "data.plot.scatter(x='living_area', y='total_area', s=1)"
   ],
   "metadata": {
    "collapsed": false,
    "pycharm": {
     "name": "#%%\n"
    }
   },
   "execution_count": 338,
   "outputs": [
    {
     "data": {
      "text/plain": "<matplotlib.axes._subplots.AxesSubplot at 0x12078e050>"
     },
     "execution_count": 338,
     "metadata": {},
     "output_type": "execute_result"
    },
    {
     "data": {
      "text/plain": "<Figure size 432x288 with 1 Axes>",
      "image/png": "[encoded data removed]"
     },
     "metadata": {
      "needs_background": "light"
     },
     "output_type": "display_data"
    }
   ]
  },
  {
   "cell_type": "markdown",
   "source": [
    "Действительно, имеется очень сильная прямая корреляция. Для заполнения пропусков в `living_area` можно использовать коэффициент, который будем умножать на `total_area`.\n",
    "Коэффициент рассчитаем как отношение медиан для столбцов."
   ],
   "metadata": {
    "collapsed": false,
    "pycharm": {
     "name": "#%% md\n"
    }
   }
  },
  {
   "cell_type": "code",
   "execution_count": 339,
   "outputs": [],
   "source": [
    "living_area_coef = data['living_area'].median() / data['total_area'].median()\n",
    "data.loc[\n",
    "    data['living_area'].isna(),\n",
    "    'living_area'\n",
    "] = data[data['living_area'].isna()]['total_area'] * living_area_coef"
   ],
   "metadata": {
    "collapsed": false,
    "pycharm": {
     "name": "#%%\n"
    }
   }
  },
  {
   "cell_type": "code",
   "execution_count": 340,
   "outputs": [
    {
     "name": "stdout",
     "output_type": "stream",
     "text": [
      "Пропусков в \"living_area\": 0\n"
     ]
    }
   ],
   "source": [
    "print('Пропусков в \"living_area\":', data['living_area'].isna().sum())"
   ],
   "metadata": {
    "collapsed": false,
    "pycharm": {
     "name": "#%%\n"
    }
   }
  },
  {
   "cell_type": "markdown",
   "source": [],
   "metadata": {
    "collapsed": false,
    "pycharm": {
     "name": "#%% md\n"
    }
   }
  },
  {
   "cell_type": "markdown",
   "source": [
    "#### Является апартаментами `is_apartment`"
   ],
   "metadata": {
    "collapsed": false,
    "pycharm": {
     "name": "#%% md\n"
    }
   }
  },
  {
   "cell_type": "markdown",
   "source": [
    "Посмотрим на распределение известных значений в стобце `is_apartment`"
   ],
   "metadata": {
    "collapsed": false,
    "pycharm": {
     "name": "#%% md\n"
    }
   }
  },
  {
   "cell_type": "code",
   "execution_count": 341,
   "outputs": [
    {
     "data": {
      "text/plain": "False    2725\nTrue       50\nName: is_apartment, dtype: int64"
     },
     "execution_count": 341,
     "metadata": {},
     "output_type": "execute_result"
    }
   ],
   "source": [
    "data['is_apartment'].value_counts()"
   ],
   "metadata": {
    "collapsed": false,
    "pycharm": {
     "name": "#%%\n"
    }
   }
  },
  {
   "cell_type": "markdown",
   "source": [
    "Как видно, даже среди известных значений доля апартаментов составляет менее 2%. Поэтому мы можем с большой вероятностью предположить, что все пропущенные значения апартаментами не являются."
   ],
   "metadata": {
    "collapsed": false,
    "pycharm": {
     "name": "#%% md\n"
    }
   }
  },
  {
   "cell_type": "code",
   "execution_count": 342,
   "outputs": [
    {
     "name": "stdout",
     "output_type": "stream",
     "text": [
      "Пропусков в \"is_apartment\": 0\n"
     ]
    }
   ],
   "source": [
    "data['is_apartment'] = data['is_apartment'].fillna(False)\n",
    "print('Пропусков в \"is_apartment\":', data['is_apartment'].isna().sum())"
   ],
   "metadata": {
    "collapsed": false,
    "pycharm": {
     "name": "#%%\n"
    }
   }
  },
  {
   "cell_type": "markdown",
   "source": [],
   "metadata": {
    "collapsed": false,
    "pycharm": {
     "name": "#%% md\n"
    }
   }
  },
  {
   "cell_type": "markdown",
   "source": [
    "#### Число балконов `balcony`"
   ],
   "metadata": {
    "collapsed": false,
    "pycharm": {
     "name": "#%% md\n"
    }
   }
  },
  {
   "cell_type": "code",
   "execution_count": 343,
   "outputs": [
    {
     "data": {
      "text/plain": "1.0    4195\n0.0    3758\n2.0    3659\n5.0     304\n4.0     183\n3.0      81\nName: balcony, dtype: int64"
     },
     "execution_count": 343,
     "metadata": {},
     "output_type": "execute_result"
    }
   ],
   "source": [
    "data['balcony'].value_counts()"
   ],
   "metadata": {
    "collapsed": false,
    "pycharm": {
     "name": "#%%\n"
    }
   }
  },
  {
   "cell_type": "markdown",
   "source": [
    "Можно предположить, что если количество балконов не указано, значит их нет. В соответствии с этим умозаключением и заполним пропуски."
   ],
   "metadata": {
    "collapsed": false,
    "pycharm": {
     "name": "#%% md\n"
    }
   }
  },
  {
   "cell_type": "code",
   "execution_count": 344,
   "outputs": [
    {
     "name": "stdout",
     "output_type": "stream",
     "text": [
      "Пропусков в \"balcony\": 0\n"
     ]
    }
   ],
   "source": [
    "data['balcony'].fillna(0, inplace=True)\n",
    "print('Пропусков в \"balcony\":', data['balcony'].isna().sum())"
   ],
   "metadata": {
    "collapsed": false,
    "pycharm": {
     "name": "#%%\n"
    }
   }
  },
  {
   "cell_type": "markdown",
   "source": [],
   "metadata": {
    "collapsed": false,
    "pycharm": {
     "name": "#%% md\n"
    }
   }
  },
  {
   "cell_type": "markdown",
   "source": [
    "#### Площадь кухни `kitchen_area`"
   ],
   "metadata": {
    "collapsed": false,
    "pycharm": {
     "name": "#%% md\n"
    }
   }
  },
  {
   "cell_type": "markdown",
   "source": [
    "Для начала нам нужно учесть, что часть квартир - это студии. Если у них есть пропуски в `kitchen_area`, то можно их заполнить 0, так как студия - это по сути одна большая комната, где совмещены и жилая площадь, и кухонная зона."
   ],
   "metadata": {
    "collapsed": false,
    "pycharm": {
     "name": "#%% md\n"
    }
   }
  },
  {
   "cell_type": "code",
   "execution_count": 345,
   "outputs": [],
   "source": [
    "data.loc[\n",
    "    (data['studio'] == True) & (data['kitchen_area'].isna()), 'kitchen_area'\n",
    "] = data.loc[\n",
    "    (data['studio'] == True) & (data['kitchen_area'].isna()), 'kitchen_area'\n",
    "].fillna(0)"
   ],
   "metadata": {
    "collapsed": false,
    "pycharm": {
     "name": "#%%\n"
    }
   }
  },
  {
   "cell_type": "markdown",
   "source": [
    "Площадь квартиры можно посчитать как сумма площадей:\n",
    "- `living_area`\n",
    "- `kitchen_area`\n",
    "- нежилая площадь\n",
    "\n",
    "Посмотрим как распределяется эта нежилая площадь по квартирам, где известны `total_area`, `living_area`, `kitchen_area`"
   ],
   "metadata": {
    "collapsed": false,
    "pycharm": {
     "name": "#%% md\n"
    }
   }
  },
  {
   "cell_type": "code",
   "execution_count": 301,
   "outputs": [
    {
     "data": {
      "text/plain": "<matplotlib.axes._subplots.AxesSubplot at 0x11e40b990>"
     },
     "execution_count": 301,
     "metadata": {},
     "output_type": "execute_result"
    },
    {
     "data": {
      "text/plain": "<Figure size 432x288 with 1 Axes>",
      "image/png": "[encoded data removed]"
     },
     "metadata": {
      "needs_background": "light"
     },
     "output_type": "display_data"
    }
   ],
   "source": [
    "data_known_kitchen = data[~data['kitchen_area'].isna()]\n",
    "(data['total_area'] - data['living_area'] - data['kitchen_area']).plot(\n",
    "    kind='hist', bins=100, range=(0, 50), title='Нежилая площадь', grid=True)"
   ],
   "metadata": {
    "collapsed": false,
    "pycharm": {
     "name": "#%%\n"
    }
   }
  },
  {
   "cell_type": "code",
   "execution_count": 302,
   "outputs": [
    {
     "data": {
      "text/plain": "count    21570.000000\nmean        15.369032\nstd         12.330309\nmin        -29.800000\n25%          9.400000\n50%         12.600000\n75%         17.800000\nmax        378.300000\ndtype: float64"
     },
     "execution_count": 302,
     "metadata": {},
     "output_type": "execute_result"
    }
   ],
   "source": [
    "(data['total_area'] - data['living_area'] - data['kitchen_area']).describe()"
   ],
   "metadata": {
    "collapsed": false,
    "pycharm": {
     "name": "#%%\n"
    }
   }
  },
  {
   "cell_type": "markdown",
   "source": [
    "Как видно из графика и данных, медиана этого распределения имеет значение 12.7 метра. Воспользуемся им, чтобы заполнить пропущенные значения `kitchen_area`"
   ],
   "metadata": {
    "collapsed": false,
    "pycharm": {
     "name": "#%% md\n"
    }
   }
  },
  {
   "cell_type": "code",
   "execution_count": 346,
   "outputs": [
    {
     "data": {
      "text/plain": "0    6.0\ndtype: float64"
     },
     "execution_count": 346,
     "metadata": {},
     "output_type": "execute_result"
    }
   ],
   "source": [
    "data['kitchen_area'].mode()"
   ],
   "metadata": {
    "collapsed": false,
    "pycharm": {
     "name": "#%%\n"
    }
   }
  },
  {
   "cell_type": "code",
   "execution_count": 350,
   "outputs": [
    {
     "data": {
      "text/plain": "<matplotlib.axes._subplots.AxesSubplot at 0x11633ce90>"
     },
     "execution_count": 350,
     "metadata": {},
     "output_type": "execute_result"
    },
    {
     "data": {
      "text/plain": "<Figure size 432x288 with 1 Axes>",
      "image/png": "[encoded data removed]"
     },
     "metadata": {
      "needs_background": "light"
     },
     "output_type": "display_data"
    }
   ],
   "source": [
    "data['kitchen_area'].hist(range=(0, 20), bins=[i for i in range(20)])"
   ],
   "metadata": {
    "collapsed": false,
    "pycharm": {
     "name": "#%%\n"
    }
   }
  },
  {
   "cell_type": "code",
   "execution_count": 306,
   "outputs": [
    {
     "data": {
      "text/plain": "0"
     },
     "execution_count": 306,
     "metadata": {},
     "output_type": "execute_result"
    }
   ],
   "source": [
    "data['kitchen_area'].fillna(value=(\n",
    "        data['total_area'] - data['living_area'] - 12.6), inplace=True)\n",
    "data['kitchen_area'].isna().sum()"
   ],
   "metadata": {
    "collapsed": false,
    "pycharm": {
     "name": "#%%\n"
    }
   }
  },
  {
   "cell_type": "code",
   "execution_count": 309,
   "outputs": [
    {
     "data": {
      "text/plain": "False    23632\nTrue        67\nName: open_plan, dtype: int64"
     },
     "execution_count": 309,
     "metadata": {},
     "output_type": "execute_result"
    }
   ],
   "source": [
    "data['open_plan'].value_counts()"
   ],
   "metadata": {
    "collapsed": false,
    "pycharm": {
     "name": "#%%\n"
    }
   }
  },
  {
   "cell_type": "code",
   "execution_count": null,
   "outputs": [],
   "source": [
    "data.loc[\n",
    "    data['kitchen_area'].isna(), 'kitchen_area'\n",
    "] = data"
   ],
   "metadata": {
    "collapsed": false,
    "pycharm": {
     "name": "#%%\n"
    }
   }
  },
  {
   "cell_type": "markdown",
   "source": [
    "## Расчёты и добавление результатов в таблицу"
   ],
   "metadata": {
    "collapsed": false
   }
  },
  {
   "cell_type": "code",
   "execution_count": null,
   "outputs": [],
   "source": [],
   "metadata": {
    "collapsed": false,
    "pycharm": {
     "name": "#%%\n"
    }
   }
  },
  {
   "cell_type": "code",
   "execution_count": null,
   "outputs": [],
   "source": [],
   "metadata": {
    "collapsed": false,
    "pycharm": {
     "name": "#%%\n"
    }
   }
  },
  {
   "cell_type": "markdown",
   "source": [
    "## Исследовательский анализ данных"
   ],
   "metadata": {
    "collapsed": false
   }
  },
  {
   "cell_type": "code",
   "execution_count": null,
   "outputs": [],
   "source": [],
   "metadata": {
    "collapsed": false,
    "pycharm": {
     "name": "#%%\n"
    }
   }
  },
  {
   "cell_type": "markdown",
   "source": [
    "## Общий вывод"
   ],
   "metadata": {
    "collapsed": false
   }
  },
  {
   "cell_type": "markdown",
   "source": [],
   "metadata": {
    "collapsed": false
   }
  },
  {
   "cell_type": "markdown",
   "source": [
    "## Чек-лист готовности проекта\n",
    "\n",
    "Поставьте 'x' в выполненных пунктах. Далее нажмите Shift+Enter."
   ],
   "metadata": {
    "collapsed": false
   }
  },
  {
   "cell_type": "markdown",
   "source": [
    "- [x]  открыт файл\n",
    "- [x]  файлы изучены (выведены первые строки, метод info())\n",
    "- [ ]  определены пропущенные значения\n",
    "- [ ]  заполнены пропущенные значения\n",
    "- [ ]  есть пояснение, какие пропущенные значения обнаружены\n",
    "- [ ]  изменены типы данных\n",
    "- [ ]  есть пояснение, в каких столбцах изменены типы и почему\n",
    "- [ ]  посчитано и добавлено в таблицу: цена квадратного метра\n",
    "- [ ]  посчитано и добавлено в таблицу: день недели, месяц и год публикации объявления\n",
    "- [ ]  посчитано и добавлено в таблицу: этаж квартиры; варианты — первый, последний, другой\n",
    "- [ ]  посчитано и добавлено в таблицу: соотношение жилой и общей площади, а также отношение площади кухни к общей\n",
    "- [ ]  изучены следующие параметры: площадь, цена, число комнат, высота потолков\n",
    "- [ ]  построены гистограммы для каждого параметра\n",
    "- [ ]  выполнено задание: \"Изучите время продажи квартиры. Постройте гистограмму. Посчитайте среднее и медиану. Опишите, сколько обычно занимает продажа. Когда можно считать, что продажи прошли очень быстро, а когда необычно долго?\"\n",
    "- [ ]  выполнено задание: \"Уберите редкие и выбивающиеся значения. Опишите, какие особенности обнаружили.\"\n",
    "- [ ]  выполнено задание: \"Какие факторы больше всего влияют на стоимость квартиры? Изучите, зависит ли цена от квадратного метра, числа комнат, этажа (первого или последнего), удалённости от центра. Также изучите зависимость от даты размещения: дня недели, месяца и года. \"Выберите 10 населённых пунктов с наибольшим числом объявлений. Посчитайте среднюю цену квадратного метра в этих населённых пунктах. Выделите населённые пункты с самой высокой и низкой стоимостью жилья. Эти данные можно найти по имени в столбце '*locality_name'*. \"\n",
    "- [ ]  выполнено задание: \"Изучите предложения квартир: для каждой квартиры есть информация о расстоянии до центра. Выделите квартиры в Санкт-Петербурге (*'locality_name'*). Ваша задача — выяснить, какая область входит в центр. Создайте столбец с расстоянием до центра в километрах: округлите до целых значений. После этого посчитайте среднюю цену для каждого километра. Постройте график: он должен показывать, как цена зависит от удалённости от центра. Определите границу, где график сильно меняется — это и будет центральная зона. \"\n",
    "- [ ]  выполнено задание: \"Выделите сегмент квартир в центре. Проанализируйте эту территорию и изучите следующие параметры: площадь, цена, число комнат, высота потолков. Также выделите факторы, которые влияют на стоимость квартиры (число комнат, этаж, удалённость от центра, дата размещения объявления). Сделайте выводы. Отличаются ли они от общих выводов по всему городу?\"\n",
    "- [ ]  в каждом этапе есть выводы\n",
    "- [ ]  есть общий вывод"
   ],
   "metadata": {
    "collapsed": false
   }
  },
  {
   "cell_type": "markdown",
   "source": [
    "Изучим\n",
    "содержимое\n",
    "столбца\n",
    "`ceiling_height`\n",
    "plt.rcParams['figure.figsize'] = [9, 6]  # зададим размер окна для графиков\n",
    "data['ceiling_height'].plot(style='.', title='Данные о высоте потолков в метрах')\n",
    "Как\n",
    "видно\n",
    "из\n",
    "визуализации\n",
    "данных\n",
    "`ceiling_height`, основная\n",
    "часть\n",
    "значений\n",
    "сосредоточена\n",
    "в\n",
    "районе\n",
    "2 - 3\n",
    "метров.\n",
    "Согласно\n",
    "строительным\n",
    "нормам, минимальная\n",
    "высота\n",
    "допустимая\n",
    "высота\n",
    "потолков - 2.50\n",
    "метров.Проверим\n",
    "это\n",
    "в\n",
    "нашей\n",
    "таблице.\n",
    "data[data['ceiling_height'] < 2.50].sort_values(by='ceiling_height')\n",
    "Действительно, квартир\n",
    "с\n",
    "высотой\n",
    "менее\n",
    "2.50\n",
    "всего\n",
    "73.\n",
    "Можно\n",
    "списать\n",
    "эти\n",
    "данные\n",
    "на\n",
    "ошибку\n",
    "измерений\n",
    "или\n",
    "например\n",
    "натяжные / навесные\n",
    "потолки\n",
    "в\n",
    "низких\n",
    "квартирах.\n",
    "Теперь\n",
    "посмотрим\n",
    "внимательнее\n",
    "на\n",
    "строки, где\n",
    "высота\n",
    "потолков\n",
    "неправдоподобно\n",
    "большая.\n",
    "data['ceiling_height'].plot(style='.', title='Потолки выше 5 м', ylim=(5, 110), grid=True)\n",
    "data[data['ceiling_height'] > 5].sort_values(by='ceiling_height')\n",
    "В\n",
    "объявлениях, где\n",
    "высота\n",
    "потолков\n",
    "указана\n",
    "от\n",
    "24\n",
    "до\n",
    "32\n",
    "метров, почти\n",
    "наверняка\n",
    "просто\n",
    "ошибка\n",
    "в\n",
    "разрядности\n",
    "и\n",
    "нужно\n",
    "поделить\n",
    "высоту\n",
    "на\n",
    "10\n",
    "ceiling_height_filter_from24_to_32 = (\n",
    "        (data['ceiling_height'] >= 24) &\n",
    "        (data['ceiling_height'] <= 32))\n",
    "data.loc[ceiling_height_filter_from24_to_32, 'ceiling_height'] /= 10\n",
    "data[data['ceiling_height'] > 5].sort_values(by='ceiling_height')\n",
    "Пожалуй\n",
    "квартира\n",
    "с\n",
    "6\n",
    "метровыми\n",
    "потолками\n",
    "за\n",
    "119\n",
    "миллионов - это\n",
    "крайнее\n",
    "значение, которому\n",
    "можно\n",
    "доверять.\n",
    "Нам\n",
    "же\n",
    "следует\n",
    "заполнить\n",
    "пропуски\n",
    "и\n",
    "поправить\n",
    "вероятные\n",
    "ошибки.И\n",
    "в\n",
    "данном\n",
    "случае\n",
    "на\n",
    "мой\n",
    "взгляд\n",
    "подойдет\n",
    "такой\n",
    "способ:\n",
    "- сделаем\n",
    "таблицу, содержащую\n",
    "значения\n",
    "моды(т.е.самого\n",
    "распространенного\n",
    "значения) высоты\n",
    "потолка\n",
    "в\n",
    "зависимости\n",
    "от\n",
    "`floors_total`\n",
    "- для\n",
    "каждого\n",
    "неправильного / пропущенного\n",
    "значения\n",
    "будем\n",
    "присваить\n",
    "значение\n",
    "из\n",
    "этой\n",
    "таблицы\n",
    "исходя\n",
    "из\n",
    "этажности\n",
    "здания.\n",
    "ceiling_modes_for_floors_total = data.pivot_table(\n",
    "    index='floors_total',\n",
    "    values='ceiling_height',\n",
    "    aggfunc=pd.Series.mode\n",
    ")\n",
    "ceiling_modes_for_floors_total\n",
    "\n",
    "data[data['ceiling_height'].isna()].pivot_table(index='floors_total', values='locality_name', aggfunc='count')\n",
    "ceiling_modes_for_floors_total\n",
    "\n",
    "filter = ((data['ceiling_height'].isna())\n",
    "          & (data['ceiling_height'] < 2.4)\n",
    "          & data['ceiling_height'] > 6)\n",
    "data['ceiling_height'].value_counts()\n",
    "ceiling_modes_for_floors_total['floor_total']\n",
    "data['ceiling_height'].hist(range=(2.5, 5), bins=30)\n",
    "data['ceiling_height'].value_counts()"
   ],
   "metadata": {
    "collapsed": false,
    "pycharm": {
     "name": "#%% md\n"
    }
   }
  }
 ],
 "metadata": {
  "kernelspec": {
   "display_name": "Python 3",
   "language": "python",
   "name": "python3"
  },
  "language_info": {
   "codemirror_mode": {
    "name": "ipython",
    "version": 3
   },
   "file_extension": ".py",
   "mimetype": "text/x-python",
   "name": "python",
   "nbconvert_exporter": "python",
   "pygments_lexer": "ipython3",
   "version": "3.7.8"
  },
  "toc": {
   "base_numbering": 1,
   "nav_menu": {},
   "number_sections": true,
   "sideBar": true,
   "skip_h1_title": true,
   "title_cell": "Содержание",
   "title_sidebar": "Contents",
   "toc_cell": true,
   "toc_position": {},
   "toc_section_display": true,
   "toc_window_display": true
  }
 },
 "nbformat": 4,
 "nbformat_minor": 2
}